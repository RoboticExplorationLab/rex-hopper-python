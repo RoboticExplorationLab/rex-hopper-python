{
 "cells": [
  {
   "cell_type": "code",
   "execution_count": 15,
   "metadata": {},
   "outputs": [
    {
     "data": {
      "text/latex": [
       "$\\displaystyle \\left[\\begin{matrix}- \\sin{\\left(q_{0} \\right)} \\sin{\\left(q_{1} \\right)} + \\cos{\\left(q_{0} \\right)} \\cos{\\left(q_{1} \\right)} & 0 & - \\sin{\\left(q_{0} \\right)} \\cos{\\left(q_{1} \\right)} - \\sin{\\left(q_{1} \\right)} \\cos{\\left(q_{0} \\right)} & L_{0} \\cos{\\left(q_{0} \\right)} - L_{1} \\sin{\\left(q_{0} \\right)} \\sin{\\left(q_{1} \\right)} + L_{1} \\cos{\\left(q_{0} \\right)} \\cos{\\left(q_{1} \\right)}\\\\0 & 1 & 0 & 0\\\\\\sin{\\left(q_{0} \\right)} \\cos{\\left(q_{1} \\right)} + \\sin{\\left(q_{1} \\right)} \\cos{\\left(q_{0} \\right)} & 0 & - \\sin{\\left(q_{0} \\right)} \\sin{\\left(q_{1} \\right)} + \\cos{\\left(q_{0} \\right)} \\cos{\\left(q_{1} \\right)} & L_{0} \\sin{\\left(q_{0} \\right)} + L_{1} \\sin{\\left(q_{0} \\right)} \\cos{\\left(q_{1} \\right)} + L_{1} \\sin{\\left(q_{1} \\right)} \\cos{\\left(q_{0} \\right)}\\\\0 & 0 & 0 & 1\\end{matrix}\\right]$"
      ],
      "text/plain": [
       "Matrix([\n",
       "[-sin(q0)*sin(q1) + cos(q0)*cos(q1), 0, -sin(q0)*cos(q1) - sin(q1)*cos(q0), L0*cos(q0) - L1*sin(q0)*sin(q1) + L1*cos(q0)*cos(q1)],\n",
       "[                                 0, 1,                                  0,                                                    0],\n",
       "[ sin(q0)*cos(q1) + sin(q1)*cos(q0), 0, -sin(q0)*sin(q1) + cos(q0)*cos(q1), L0*sin(q0) + L1*sin(q0)*cos(q1) + L1*sin(q1)*cos(q0)],\n",
       "[                                 0, 0,                                  0,                                                    1]])"
      ]
     },
     "execution_count": 15,
     "metadata": {},
     "output_type": "execute_result"
    }
   ],
   "source": [
    "import sympy\n",
    "\n",
    "var('q0 q1 L0 L1 l0 l1')\n",
    "\n",
    "T_0_org = sympy.Matrix([[cos(q0), 0, -sin(q0), L0*cos(q0)], \n",
    "                 [0, 1, 0, 0],\n",
    "                 [sin(q0), 0, cos(q0), L0*sin(q0)],\n",
    "                 [0, 0, 0, 1]])\n",
    "T_1_0 = sympy.Matrix([[cos(q1), 0, -sin(q1), L1*cos(q1)], \n",
    "                [0, 1, 0, 0],\n",
    "                [sin(q1), 0, cos(q1), L1*sin(q1)],\n",
    "                [0, 0, 0, 1]])\n",
    "com0 = sympy.Matrix([[l0*cos(q0)],\n",
    "               [0],\n",
    "               [l0*sin(q0)],\n",
    "               [1]])\n",
    "com1 = sympy.Matrix([[l1*cos(q1)],\n",
    "               [0],\n",
    "               [l1*sin(q1)],\n",
    "               [1]])\n",
    "'''\n",
    "xee = sympy.Matrix([[0],\n",
    "              [0],\n",
    "              [0],\n",
    "              [1]])\n",
    "'''\n",
    "xee = sympy.Matrix([[L1*cos(q1)],\n",
    "               [0],\n",
    "               [L1*sin(q1)],\n",
    "               [1]])\n",
    "\n",
    "T_1_org = T_0_org.multiply(T_1_0)\n",
    "T_1_org"
   ]
  },
  {
   "cell_type": "code",
   "execution_count": 16,
   "metadata": {},
   "outputs": [
    {
     "data": {
      "text/latex": [
       "$\\displaystyle \\left[\\begin{matrix}- L_{0} \\sin{\\left(q_{0} \\right)} + L_{1} \\left(\\sin{\\left(q_{0} \\right)} \\sin{\\left(q_{1} \\right)} - \\cos{\\left(q_{0} \\right)} \\cos{\\left(q_{1} \\right)}\\right) \\sin{\\left(q_{1} \\right)} + L_{1} \\left(- \\sin{\\left(q_{0} \\right)} \\cos{\\left(q_{1} \\right)} - \\sin{\\left(q_{1} \\right)} \\cos{\\left(q_{0} \\right)}\\right) \\cos{\\left(q_{1} \\right)} - L_{1} \\sin{\\left(q_{0} \\right)} \\cos{\\left(q_{1} \\right)} - L_{1} \\sin{\\left(q_{1} \\right)} \\cos{\\left(q_{0} \\right)} & - L_{1} \\left(- \\sin{\\left(q_{0} \\right)} \\sin{\\left(q_{1} \\right)} + \\cos{\\left(q_{0} \\right)} \\cos{\\left(q_{1} \\right)}\\right) \\sin{\\left(q_{1} \\right)} + L_{1} \\left(\\sin{\\left(q_{0} \\right)} \\sin{\\left(q_{1} \\right)} - \\cos{\\left(q_{0} \\right)} \\cos{\\left(q_{1} \\right)}\\right) \\sin{\\left(q_{1} \\right)} + 2 L_{1} \\left(- \\sin{\\left(q_{0} \\right)} \\cos{\\left(q_{1} \\right)} - \\sin{\\left(q_{1} \\right)} \\cos{\\left(q_{0} \\right)}\\right) \\cos{\\left(q_{1} \\right)} - L_{1} \\sin{\\left(q_{0} \\right)} \\cos{\\left(q_{1} \\right)} - L_{1} \\sin{\\left(q_{1} \\right)} \\cos{\\left(q_{0} \\right)}\\\\0 & 0\\\\L_{0} \\cos{\\left(q_{0} \\right)} + L_{1} \\left(- \\sin{\\left(q_{0} \\right)} \\sin{\\left(q_{1} \\right)} + \\cos{\\left(q_{0} \\right)} \\cos{\\left(q_{1} \\right)}\\right) \\cos{\\left(q_{1} \\right)} + L_{1} \\left(- \\sin{\\left(q_{0} \\right)} \\cos{\\left(q_{1} \\right)} - \\sin{\\left(q_{1} \\right)} \\cos{\\left(q_{0} \\right)}\\right) \\sin{\\left(q_{1} \\right)} - L_{1} \\sin{\\left(q_{0} \\right)} \\sin{\\left(q_{1} \\right)} + L_{1} \\cos{\\left(q_{0} \\right)} \\cos{\\left(q_{1} \\right)} & 2 L_{1} \\left(- \\sin{\\left(q_{0} \\right)} \\sin{\\left(q_{1} \\right)} + \\cos{\\left(q_{0} \\right)} \\cos{\\left(q_{1} \\right)}\\right) \\cos{\\left(q_{1} \\right)} + L_{1} \\left(- \\sin{\\left(q_{0} \\right)} \\cos{\\left(q_{1} \\right)} - \\sin{\\left(q_{1} \\right)} \\cos{\\left(q_{0} \\right)}\\right) \\sin{\\left(q_{1} \\right)} - L_{1} \\left(\\sin{\\left(q_{0} \\right)} \\cos{\\left(q_{1} \\right)} + \\sin{\\left(q_{1} \\right)} \\cos{\\left(q_{0} \\right)}\\right) \\sin{\\left(q_{1} \\right)} - L_{1} \\sin{\\left(q_{0} \\right)} \\sin{\\left(q_{1} \\right)} + L_{1} \\cos{\\left(q_{0} \\right)} \\cos{\\left(q_{1} \\right)}\\end{matrix}\\right]$"
      ],
      "text/plain": [
       "Matrix([\n",
       "[-L0*sin(q0) + L1*(sin(q0)*sin(q1) - cos(q0)*cos(q1))*sin(q1) + L1*(-sin(q0)*cos(q1) - sin(q1)*cos(q0))*cos(q1) - L1*sin(q0)*cos(q1) - L1*sin(q1)*cos(q0), -L1*(-sin(q0)*sin(q1) + cos(q0)*cos(q1))*sin(q1) + L1*(sin(q0)*sin(q1) - cos(q0)*cos(q1))*sin(q1) + 2*L1*(-sin(q0)*cos(q1) - sin(q1)*cos(q0))*cos(q1) - L1*sin(q0)*cos(q1) - L1*sin(q1)*cos(q0)],\n",
       "[                                                                                                                                                       0,                                                                                                                                                                                               0],\n",
       "[L0*cos(q0) + L1*(-sin(q0)*sin(q1) + cos(q0)*cos(q1))*cos(q1) + L1*(-sin(q0)*cos(q1) - sin(q1)*cos(q0))*sin(q1) - L1*sin(q0)*sin(q1) + L1*cos(q0)*cos(q1),  2*L1*(-sin(q0)*sin(q1) + cos(q0)*cos(q1))*cos(q1) + L1*(-sin(q0)*cos(q1) - sin(q1)*cos(q0))*sin(q1) - L1*(sin(q0)*cos(q1) + sin(q1)*cos(q0))*sin(q1) - L1*sin(q0)*sin(q1) + L1*cos(q0)*cos(q1)]])"
      ]
     },
     "execution_count": 16,
     "metadata": {},
     "output_type": "execute_result"
    }
   ],
   "source": [
    "# jacobian of the end effector (linear part)\n",
    "JEE_v = (T_1_org.multiply(xee)).jacobian([q0, q1])\n",
    "JEE_v.row_del(3)\n",
    "JEE_v"
   ]
  },
  {
   "cell_type": "code",
   "execution_count": 19,
   "metadata": {},
   "outputs": [
    {
     "data": {
      "text/latex": [
       "$\\displaystyle \\left[\\begin{matrix}- L_{0} \\sin{\\left(q_{0} \\right)} + L_{1} \\left(\\sin{\\left(q_{0} \\right)} \\sin{\\left(q_{1} \\right)} - \\cos{\\left(q_{0} \\right)} \\cos{\\left(q_{1} \\right)}\\right) \\sin{\\left(q_{1} \\right)} + L_{1} \\left(- \\sin{\\left(q_{0} \\right)} \\cos{\\left(q_{1} \\right)} - \\sin{\\left(q_{1} \\right)} \\cos{\\left(q_{0} \\right)}\\right) \\cos{\\left(q_{1} \\right)} - L_{1} \\sin{\\left(q_{0} \\right)} \\cos{\\left(q_{1} \\right)} - L_{1} \\sin{\\left(q_{1} \\right)} \\cos{\\left(q_{0} \\right)} & - L_{1} \\left(- \\sin{\\left(q_{0} \\right)} \\sin{\\left(q_{1} \\right)} + \\cos{\\left(q_{0} \\right)} \\cos{\\left(q_{1} \\right)}\\right) \\sin{\\left(q_{1} \\right)} + L_{1} \\left(\\sin{\\left(q_{0} \\right)} \\sin{\\left(q_{1} \\right)} - \\cos{\\left(q_{0} \\right)} \\cos{\\left(q_{1} \\right)}\\right) \\sin{\\left(q_{1} \\right)} + 2 L_{1} \\left(- \\sin{\\left(q_{0} \\right)} \\cos{\\left(q_{1} \\right)} - \\sin{\\left(q_{1} \\right)} \\cos{\\left(q_{0} \\right)}\\right) \\cos{\\left(q_{1} \\right)} - L_{1} \\sin{\\left(q_{0} \\right)} \\cos{\\left(q_{1} \\right)} - L_{1} \\sin{\\left(q_{1} \\right)} \\cos{\\left(q_{0} \\right)}\\\\0 & 0\\\\L_{0} \\cos{\\left(q_{0} \\right)} + L_{1} \\left(- \\sin{\\left(q_{0} \\right)} \\sin{\\left(q_{1} \\right)} + \\cos{\\left(q_{0} \\right)} \\cos{\\left(q_{1} \\right)}\\right) \\cos{\\left(q_{1} \\right)} + L_{1} \\left(- \\sin{\\left(q_{0} \\right)} \\cos{\\left(q_{1} \\right)} - \\sin{\\left(q_{1} \\right)} \\cos{\\left(q_{0} \\right)}\\right) \\sin{\\left(q_{1} \\right)} - L_{1} \\sin{\\left(q_{0} \\right)} \\sin{\\left(q_{1} \\right)} + L_{1} \\cos{\\left(q_{0} \\right)} \\cos{\\left(q_{1} \\right)} & 2 L_{1} \\left(- \\sin{\\left(q_{0} \\right)} \\sin{\\left(q_{1} \\right)} + \\cos{\\left(q_{0} \\right)} \\cos{\\left(q_{1} \\right)}\\right) \\cos{\\left(q_{1} \\right)} + L_{1} \\left(- \\sin{\\left(q_{0} \\right)} \\cos{\\left(q_{1} \\right)} - \\sin{\\left(q_{1} \\right)} \\cos{\\left(q_{0} \\right)}\\right) \\sin{\\left(q_{1} \\right)} - L_{1} \\left(\\sin{\\left(q_{0} \\right)} \\cos{\\left(q_{1} \\right)} + \\sin{\\left(q_{1} \\right)} \\cos{\\left(q_{0} \\right)}\\right) \\sin{\\left(q_{1} \\right)} - L_{1} \\sin{\\left(q_{0} \\right)} \\sin{\\left(q_{1} \\right)} + L_{1} \\cos{\\left(q_{0} \\right)} \\cos{\\left(q_{1} \\right)}\\\\0 & 0\\\\1 & 1\\\\0 & 0\\end{matrix}\\right]$"
      ],
      "text/plain": [
       "Matrix([\n",
       "[-L0*sin(q0) + L1*(sin(q0)*sin(q1) - cos(q0)*cos(q1))*sin(q1) + L1*(-sin(q0)*cos(q1) - sin(q1)*cos(q0))*cos(q1) - L1*sin(q0)*cos(q1) - L1*sin(q1)*cos(q0), -L1*(-sin(q0)*sin(q1) + cos(q0)*cos(q1))*sin(q1) + L1*(sin(q0)*sin(q1) - cos(q0)*cos(q1))*sin(q1) + 2*L1*(-sin(q0)*cos(q1) - sin(q1)*cos(q0))*cos(q1) - L1*sin(q0)*cos(q1) - L1*sin(q1)*cos(q0)],\n",
       "[                                                                                                                                                       0,                                                                                                                                                                                               0],\n",
       "[L0*cos(q0) + L1*(-sin(q0)*sin(q1) + cos(q0)*cos(q1))*cos(q1) + L1*(-sin(q0)*cos(q1) - sin(q1)*cos(q0))*sin(q1) - L1*sin(q0)*sin(q1) + L1*cos(q0)*cos(q1),  2*L1*(-sin(q0)*sin(q1) + cos(q0)*cos(q1))*cos(q1) + L1*(-sin(q0)*cos(q1) - sin(q1)*cos(q0))*sin(q1) - L1*(sin(q0)*cos(q1) + sin(q1)*cos(q0))*sin(q1) - L1*sin(q0)*sin(q1) + L1*cos(q0)*cos(q1)],\n",
       "[                                                                                                                                                       0,                                                                                                                                                                                               0],\n",
       "[                                                                                                                                                       1,                                                                                                                                                                                               1],\n",
       "[                                                                                                                                                       0,                                                                                                                                                                                               0]])"
      ]
     },
     "execution_count": 19,
     "metadata": {},
     "output_type": "execute_result"
    }
   ],
   "source": [
    "# jacobian of the end effector (angular part)\n",
    "# y-axis rotation only\n",
    "JEE_w = sympy.Matrix([[0, 0], \n",
    "                [1, 1],\n",
    "                [0, 0]])\n",
    "\n",
    "# full jacobian\n",
    "JEE = JEE_v.row_insert(4, JEE_w)\n",
    "JEE"
   ]
  },
  {
   "cell_type": "code",
   "execution_count": 34,
   "metadata": {},
   "outputs": [
    {
     "name": "stdout",
     "output_type": "stream",
     "text": [
      "Vertical force required is 128.0599545363588 N\n",
      "Lift-off time based on given stroke is 0.2445427233086884 s\n"
     ]
    }
   ],
   "source": [
    "import numpy as np\n",
    "length0 = 0.3  # leg link 0 length, m\n",
    "length1 = 0.3  # leg link 1 length, m\n",
    "l = length1*np.sin(45)+length2*np.sin(45)  # nominal body height\n",
    "d = 0.5  # jump displacement, m\n",
    "m = 10  # mass, kg\n",
    "\n",
    "g = -9.807  # earth gravity\n",
    "l_s = l*0.75  # assume lift-off stroke to be specified percent of leg length\n",
    "\n",
    "v0 = np.sqrt(-2*g*d)  # lift-off speed required to jump d meters\n",
    "a = (v0**2)/(2*l_s)\n",
    "t = v0/a\n",
    "F = m*a  # required vertical force, N\n",
    "print(\"Vertical force required is\", F, \"N\")\n",
    "print(\"Lift-off time based on given stroke is\", t, \"s\")"
   ]
  },
  {
   "cell_type": "code",
   "execution_count": 36,
   "metadata": {},
   "outputs": [
    {
     "data": {
      "text/latex": [
       "$\\displaystyle \\left[\\begin{matrix}27.1656186753301\\\\81.4968560259902\\end{matrix}\\right]$"
      ],
      "text/plain": [
       "Matrix([\n",
       "[27.1656186753301],\n",
       "[81.4968560259902]])"
      ]
     },
     "execution_count": 36,
     "metadata": {},
     "output_type": "execute_result"
    }
   ],
   "source": [
    "F_l = sympy.Matrix([[0],[0],[F],[0],[0],[0]])\n",
    "F_q = (JEE.T).multiply(F_l)  # torques required given a linear force\n",
    "\n",
    "q0_nom = -135*np.pi/180  # just guesses\n",
    "q1_nom = 90*np.pi/180\n",
    "\n",
    "Torques = F_q.subs({q0:q0_nom, q1:q1_nom, L0:length0, L1:length1})  # torques required for each actuator at given angle\n",
    "Torques"
   ]
  },
  {
   "cell_type": "code",
   "execution_count": null,
   "metadata": {},
   "outputs": [],
   "source": []
  }
 ],
 "metadata": {
  "kernelspec": {
   "display_name": "Python 3",
   "language": "python",
   "name": "python3"
  },
  "language_info": {
   "codemirror_mode": {
    "name": "ipython",
    "version": 3
   },
   "file_extension": ".py",
   "mimetype": "text/x-python",
   "name": "python",
   "nbconvert_exporter": "python",
   "pygments_lexer": "ipython3",
   "version": "3.8.5"
  }
 },
 "nbformat": 4,
 "nbformat_minor": 4
}
