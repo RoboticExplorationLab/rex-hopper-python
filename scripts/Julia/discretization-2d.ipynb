{
 "cells": [
  {
   "cell_type": "code",
   "execution_count": 2,
   "id": "01da8ce3",
   "metadata": {},
   "outputs": [],
   "source": [
    "import numpy as np\n",
    "from pprint import pprint"
   ]
  },
  {
   "cell_type": "code",
   "execution_count": 3,
   "id": "3458dac8",
   "metadata": {},
   "outputs": [
    {
     "name": "stdout",
     "output_type": "stream",
     "text": [
      "A = \n",
      "array([[0., 0., 1., 0.],\n",
      "       [0., 0., 0., 1.],\n",
      "       [0., 0., 0., 0.],\n",
      "       [0., 0., 0., 0.]])\n",
      "eigs of A = \n",
      "array([0., 0., 0., 0.])\n"
     ]
    }
   ],
   "source": [
    "import sympy as sp\n",
    "import numpy.linalg\n",
    "\n",
    "sp.var('t')\n",
    "m = 5  # m must be non-symbolic for sympy to get eigs...\n",
    "\n",
    "A = np.vstack((np.hstack((np.zeros((2, 2)), np.eye(2))), np.zeros((2, 4))))\n",
    "B = np.vstack((np.zeros((2, 2)), np.eye(2)/m))\n",
    "print(\"A = \")\n",
    "pprint(A)\n",
    "print(\"eigs of A = \")\n",
    "pprint(np.linalg.eig(A)[0])\n",
    "# pprint(np.linalg.inv(A))"
   ]
  },
  {
   "cell_type": "code",
   "execution_count": 4,
   "id": "88bc8971",
   "metadata": {},
   "outputs": [
    {
     "name": "stdout",
     "output_type": "stream",
     "text": [
      "array([[0. , 0. , 1. , 0. , 0. , 0. ],\n",
      "       [0. , 0. , 0. , 1. , 0. , 0. ],\n",
      "       [0. , 0. , 0. , 0. , 0.2, 0. ],\n",
      "       [0. , 0. , 0. , 0. , 0. , 0.2],\n",
      "       [0. , 0. , 0. , 0. , 0. , 0. ],\n",
      "       [0. , 0. , 0. , 0. , 0. , 0. ]])\n",
      "(6, 6)\n",
      "eigs of AB = \n",
      "array([0., 0., 0., 0., 0., 0.])\n"
     ]
    }
   ],
   "source": [
    "AB = np.vstack((np.hstack((A, B)), np.zeros((2, 6))))\n",
    "pprint(AB)\n",
    "print(np.shape(AB))\n",
    "print(\"eigs of AB = \")\n",
    "pprint(np.linalg.eig(AB)[0])"
   ]
  },
  {
   "cell_type": "code",
   "execution_count": 5,
   "id": "ceb823c4",
   "metadata": {},
   "outputs": [
    {
     "name": "stdout",
     "output_type": "stream",
     "text": [
      "Once deleted, variables cannot be recovered. Proceed (y/[n])? y\n"
     ]
    }
   ],
   "source": [
    "# redo with m as symbolic\n",
    "%reset\n",
    "import numpy as np\n",
    "from pprint import pprint\n",
    "import sympy as sp\n",
    "import numpy.linalg"
   ]
  },
  {
   "cell_type": "markdown",
   "id": "db7f34db",
   "metadata": {},
   "source": [
    "*Use eigenvalues to solve for e^At...*"
   ]
  },
  {
   "cell_type": "code",
   "execution_count": 9,
   "id": "1545cd17",
   "metadata": {},
   "outputs": [
    {
     "name": "stdout",
     "output_type": "stream",
     "text": [
      "array([[1.00000000000000, 0, 1.0*t, 0, 0.5*(t**2 + 1)/m, 0],\n",
      "       [0, 1.00000000000000, 0, 1.0*t, 0, 0.5*(t**2 + 1)/m],\n",
      "       [0, 0, 1.00000000000000, 0, 1.0*t/m, 0],\n",
      "       [0, 0, 0, 1.00000000000000, 0, 1.0*t/m],\n",
      "       [0, 0, 0, 0, 1.00000000000000, 0],\n",
      "       [0, 0, 0, 0, 0, 1.00000000000000]], dtype=object)\n"
     ]
    }
   ],
   "source": [
    "sp.var('m, t')\n",
    "\n",
    "A = np.vstack((np.hstack((np.zeros((2, 2)), np.eye(2))), np.zeros((2, 4))))\n",
    "B = np.vstack((np.zeros((2, 2)), np.eye(2)/m))\n",
    "AB = np.vstack((np.hstack((A, B)), np.zeros((2, 6))))\n",
    "M = AB@AB*(1 + t**2)/2 + AB*t + np.eye(np.shape(AB)[0])\n",
    "pprint(M)"
   ]
  },
  {
   "cell_type": "code",
   "execution_count": 10,
   "id": "a9f1e3bc",
   "metadata": {},
   "outputs": [
    {
     "name": "stdout",
     "output_type": "stream",
     "text": [
      "array([[1.00000000000000, 0, 1.0*t, 0],\n",
      "       [0, 1.00000000000000, 0, 1.0*t],\n",
      "       [0, 0, 1.00000000000000, 0],\n",
      "       [0, 0, 0, 1.00000000000000]], dtype=object)\n"
     ]
    }
   ],
   "source": [
    "Ad = M[0:4, 0:4]\n",
    "pprint(Ad)"
   ]
  },
  {
   "cell_type": "code",
   "execution_count": 11,
   "id": "b0343924",
   "metadata": {},
   "outputs": [
    {
     "name": "stdout",
     "output_type": "stream",
     "text": [
      "array([[0.5*(t**2 + 1)/m, 0],\n",
      "       [0, 0.5*(t**2 + 1)/m],\n",
      "       [1.0*t/m, 0],\n",
      "       [0, 1.0*t/m]], dtype=object)\n"
     ]
    }
   ],
   "source": [
    "Bd = M[0:4, 4:6]\n",
    "pprint(Bd)"
   ]
  },
  {
   "cell_type": "code",
   "execution_count": 12,
   "id": "9729d7c4",
   "metadata": {},
   "outputs": [
    {
     "name": "stdout",
     "output_type": "stream",
     "text": [
      "array([1.0*dx*t + 0.5*fx*(t**2 + 1)/m + 1.0*x,\n",
      "       1.0*dz*t + 0.5*fz*(t**2 + 1)/m + 1.0*z, 1.0*dx + 1.0*fx*t/m,\n",
      "       1.0*dz + 1.0*fz*t/m - g], dtype=object)\n"
     ]
    }
   ],
   "source": [
    "sp.var('x, z, dx, dz, fx, fz, g')\n",
    "X = np.array([x, z, dx, dz]).T\n",
    "U = np.array([fx, fz]).T\n",
    "G = np.array([0, 0, 0, -g]).T\n",
    "xk1 = Ad@X + Bd@U + G\n",
    "pprint(xk1)"
   ]
  },
  {
   "cell_type": "code",
   "execution_count": null,
   "id": "c46eca75",
   "metadata": {},
   "outputs": [],
   "source": []
  }
 ],
 "metadata": {
  "kernelspec": {
   "display_name": "Python 3",
   "language": "python",
   "name": "python3"
  },
  "language_info": {
   "codemirror_mode": {
    "name": "ipython",
    "version": 3
   },
   "file_extension": ".py",
   "mimetype": "text/x-python",
   "name": "python",
   "nbconvert_exporter": "python",
   "pygments_lexer": "ipython3",
   "version": "3.8.11"
  }
 },
 "nbformat": 4,
 "nbformat_minor": 5
}
