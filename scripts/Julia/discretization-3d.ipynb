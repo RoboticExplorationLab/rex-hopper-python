{
 "cells": [
  {
   "cell_type": "code",
   "execution_count": 25,
   "id": "7ab38b80",
   "metadata": {},
   "outputs": [],
   "source": [
    "import numpy as np\n",
    "from pprint import pprint"
   ]
  },
  {
   "cell_type": "code",
   "execution_count": 31,
   "id": "ed57885b",
   "metadata": {},
   "outputs": [
    {
     "name": "stdout",
     "output_type": "stream",
     "text": [
      "(array([[1.  , 0.  , 0.  , 0.01, 0.  , 0.  ],\n",
      "       [0.  , 1.  , 0.  , 0.  , 0.01, 0.  ],\n",
      "       [0.  , 0.  , 1.  , 0.  , 0.  , 0.01],\n",
      "       [0.  , 0.  , 0.  , 1.  , 0.  , 0.  ],\n",
      "       [0.  , 0.  , 0.  , 0.  , 1.  , 0.  ],\n",
      "       [0.  , 0.  , 0.  , 0.  , 0.  , 1.  ]]),\n",
      " array([[1.e-05, 0.e+00, 0.e+00],\n",
      "       [0.e+00, 1.e-05, 0.e+00],\n",
      "       [0.e+00, 0.e+00, 1.e-05],\n",
      "       [2.e-03, 0.e+00, 0.e+00],\n",
      "       [0.e+00, 2.e-03, 0.e+00],\n",
      "       [0.e+00, 0.e+00, 2.e-03]]),\n",
      " array([[1., 0., 0.]]),\n",
      " array([[0.]]),\n",
      " 0.01)\n"
     ]
    }
   ],
   "source": [
    "from scipy.signal import cont2discrete, lti, dlti, dstep\n",
    "m = 5\n",
    "dt = 0.01\n",
    "A = np.vstack((np.hstack((np.zeros((3, 3)), np.eye(3))), np.zeros((3, 6))))\n",
    "B = np.vstack((np.zeros((3, 3)), np.eye(3)/m))\n",
    "C = np.array([[1., 0., 0.]])\n",
    "D = np.array([[0.]])\n",
    "M = cont2discrete((A, B, C, D), dt, method='zoh')\n",
    "pprint(M)"
   ]
  },
  {
   "cell_type": "markdown",
   "id": "14fa303e",
   "metadata": {},
   "source": [
    "*That's all very well and good, but this is a ZOH approximation... Also, what if we want to solve this symbolically?*"
   ]
  },
  {
   "cell_type": "code",
   "execution_count": 70,
   "id": "e83fc446",
   "metadata": {},
   "outputs": [
    {
     "name": "stdout",
     "output_type": "stream",
     "text": [
      "A = \n",
      "array([[0., 0., 0., 1., 0., 0.],\n",
      "       [0., 0., 0., 0., 1., 0.],\n",
      "       [0., 0., 0., 0., 0., 1.],\n",
      "       [0., 0., 0., 0., 0., 0.],\n",
      "       [0., 0., 0., 0., 0., 0.],\n",
      "       [0., 0., 0., 0., 0., 0.]])\n",
      "eigs of A = \n",
      "array([0., 0., 0., 0., 0., 0.])\n"
     ]
    }
   ],
   "source": [
    "import sympy as sp\n",
    "import numpy.linalg\n",
    "\n",
    "sp.var('t')\n",
    "m = 5  # m must be non-symbolic for sympy to get eigs...\n",
    "\n",
    "A = np.vstack((np.hstack((np.zeros((3, 3)), np.eye(3))), np.zeros((3, 6))))\n",
    "B = np.vstack((np.zeros((3, 3)), np.eye(3)/m))\n",
    "print(\"A = \")\n",
    "pprint(A)\n",
    "print(\"eigs of A = \")\n",
    "pprint(np.linalg.eig(A)[0])\n",
    "# pprint(np.linalg.inv(A))"
   ]
  },
  {
   "cell_type": "code",
   "execution_count": 71,
   "id": "7105075a",
   "metadata": {},
   "outputs": [
    {
     "name": "stdout",
     "output_type": "stream",
     "text": [
      "array([[0. , 0. , 0. , 1. , 0. , 0. , 0. , 0. , 0. ],\n",
      "       [0. , 0. , 0. , 0. , 1. , 0. , 0. , 0. , 0. ],\n",
      "       [0. , 0. , 0. , 0. , 0. , 1. , 0. , 0. , 0. ],\n",
      "       [0. , 0. , 0. , 0. , 0. , 0. , 0.2, 0. , 0. ],\n",
      "       [0. , 0. , 0. , 0. , 0. , 0. , 0. , 0.2, 0. ],\n",
      "       [0. , 0. , 0. , 0. , 0. , 0. , 0. , 0. , 0.2],\n",
      "       [0. , 0. , 0. , 0. , 0. , 0. , 0. , 0. , 0. ],\n",
      "       [0. , 0. , 0. , 0. , 0. , 0. , 0. , 0. , 0. ],\n",
      "       [0. , 0. , 0. , 0. , 0. , 0. , 0. , 0. , 0. ]])\n",
      "(9, 9)\n",
      "eigs of AB = \n",
      "array([0., 0., 0., 0., 0., 0., 0., 0., 0.])\n"
     ]
    }
   ],
   "source": [
    "AB = np.vstack((np.hstack((A, B)), np.zeros((3, 9))))\n",
    "pprint(AB)\n",
    "print(np.shape(AB))\n",
    "print(\"eigs of AB = \")\n",
    "pprint(np.linalg.eig(AB)[0])"
   ]
  },
  {
   "cell_type": "code",
   "execution_count": 80,
   "id": "2ae68606",
   "metadata": {},
   "outputs": [
    {
     "name": "stdout",
     "output_type": "stream",
     "text": [
      "Once deleted, variables cannot be recovered. Proceed (y/[n])? y\n"
     ]
    }
   ],
   "source": [
    "# redo with m as symbolic\n",
    "%reset\n",
    "import numpy as np\n",
    "from pprint import pprint\n",
    "import sympy as sp\n",
    "import numpy.linalg"
   ]
  },
  {
   "cell_type": "markdown",
   "id": "d816930c",
   "metadata": {},
   "source": [
    "*Use eigenvalues to solve for e^At...*"
   ]
  },
  {
   "cell_type": "code",
   "execution_count": 81,
   "id": "24d5fa72",
   "metadata": {},
   "outputs": [
    {
     "name": "stdout",
     "output_type": "stream",
     "text": [
      "array([[1.00000000000000, 0, 0, 1.0*t, 0, 0, 0.5*(t**2 + 1)/m, 0, 0],\n",
      "       [0, 1.00000000000000, 0, 0, 1.0*t, 0, 0, 0.5*(t**2 + 1)/m, 0],\n",
      "       [0, 0, 1.00000000000000, 0, 0, 1.0*t, 0, 0, 0.5*(t**2 + 1)/m],\n",
      "       [0, 0, 0, 1.00000000000000, 0, 0, 1.0*t/m, 0, 0],\n",
      "       [0, 0, 0, 0, 1.00000000000000, 0, 0, 1.0*t/m, 0],\n",
      "       [0, 0, 0, 0, 0, 1.00000000000000, 0, 0, 1.0*t/m],\n",
      "       [0, 0, 0, 0, 0, 0, 1.00000000000000, 0, 0],\n",
      "       [0, 0, 0, 0, 0, 0, 0, 1.00000000000000, 0],\n",
      "       [0, 0, 0, 0, 0, 0, 0, 0, 1.00000000000000]], dtype=object)\n"
     ]
    }
   ],
   "source": [
    "sp.var('m, t')\n",
    "\n",
    "A = np.vstack((np.hstack((np.zeros((3, 3)), np.eye(3))), np.zeros((3, 6))))\n",
    "B = np.vstack((np.zeros((3, 3)), np.eye(3)/m))\n",
    "AB = np.vstack((np.hstack((A, B)), np.zeros((3, 9))))\n",
    "M = AB@AB*(1 + t**2)/2 + AB*t + np.eye(np.shape(AB)[0])\n",
    "pprint(M)"
   ]
  },
  {
   "cell_type": "code",
   "execution_count": 82,
   "id": "b6c22ac0",
   "metadata": {},
   "outputs": [
    {
     "name": "stdout",
     "output_type": "stream",
     "text": [
      "array([[1.00000000000000, 0, 0, 1.0*t, 0, 0],\n",
      "       [0, 1.00000000000000, 0, 0, 1.0*t, 0],\n",
      "       [0, 0, 1.00000000000000, 0, 0, 1.0*t],\n",
      "       [0, 0, 0, 1.00000000000000, 0, 0],\n",
      "       [0, 0, 0, 0, 1.00000000000000, 0],\n",
      "       [0, 0, 0, 0, 0, 1.00000000000000]], dtype=object)\n"
     ]
    }
   ],
   "source": [
    "Ad = M[0:6, 0:6]\n",
    "pprint(Ad)"
   ]
  },
  {
   "cell_type": "code",
   "execution_count": 83,
   "id": "34dd52e8",
   "metadata": {},
   "outputs": [
    {
     "name": "stdout",
     "output_type": "stream",
     "text": [
      "array([[0.5*(t**2 + 1)/m, 0, 0],\n",
      "       [0, 0.5*(t**2 + 1)/m, 0],\n",
      "       [0, 0, 0.5*(t**2 + 1)/m],\n",
      "       [1.0*t/m, 0, 0],\n",
      "       [0, 1.0*t/m, 0],\n",
      "       [0, 0, 1.0*t/m]], dtype=object)\n"
     ]
    }
   ],
   "source": [
    "Bd = M[0:6, 6:9]\n",
    "pprint(Bd)"
   ]
  },
  {
   "cell_type": "code",
   "execution_count": 87,
   "id": "0509eacf",
   "metadata": {},
   "outputs": [
    {
     "name": "stdout",
     "output_type": "stream",
     "text": [
      "array([1.0*dx*t + 0.5*fx*(t**2 + 1)/m + 1.0*x,\n",
      "       1.0*dy*t + 0.5*fy*(t**2 + 1)/m + 1.0*y,\n",
      "       1.0*dz*t + 0.5*fz*(t**2 + 1)/m + 1.0*z, 1.0*dx + 1.0*fx*t/m,\n",
      "       1.0*dy + 1.0*fy*t/m, 1.0*dz + 1.0*fz*t/m - g], dtype=object)\n"
     ]
    }
   ],
   "source": [
    "sp.var('x, y, z, dx, dy, dz, fx, fy, fz, g')\n",
    "X = np.array([x, y, z, dx, dy, dz]).T\n",
    "U = np.array([fx, fy, fz]).T\n",
    "G = np.array([0, 0, 0, 0, 0, -g]).T\n",
    "xk1 = Ad@X + Bd@U + G\n",
    "pprint(xk1)"
   ]
  },
  {
   "cell_type": "code",
   "execution_count": null,
   "id": "75ae6f72",
   "metadata": {},
   "outputs": [],
   "source": []
  }
 ],
 "metadata": {
  "kernelspec": {
   "display_name": "Python 3",
   "language": "python",
   "name": "python3"
  },
  "language_info": {
   "codemirror_mode": {
    "name": "ipython",
    "version": 3
   },
   "file_extension": ".py",
   "mimetype": "text/x-python",
   "name": "python",
   "nbconvert_exporter": "python",
   "pygments_lexer": "ipython3",
   "version": "3.8.11"
  }
 },
 "nbformat": 4,
 "nbformat_minor": 5
}
