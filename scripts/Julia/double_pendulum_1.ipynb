{
 "cells": [
  {
   "cell_type": "code",
   "execution_count": 1,
   "id": "774cd316",
   "metadata": {},
   "outputs": [
    {
     "name": "stderr",
     "output_type": "stream",
     "text": [
      "\u001b[32m\u001b[1m  Activating\u001b[22m\u001b[39m environment at `/mnt/064AC6424AC62E6D/git_workspace/flyhopper/scripts/Julia/Project.toml`\n"
     ]
    }
   ],
   "source": [
    "import Pkg; Pkg.activate(@__DIR__); Pkg.instantiate()"
   ]
  },
  {
   "cell_type": "code",
   "execution_count": 2,
   "id": "f7fcb38a",
   "metadata": {},
   "outputs": [
    {
     "data": {
      "application/vnd.webio.node+json": {
       "children": [],
       "instanceArgs": {
        "namespace": "html",
        "tag": "div"
       },
       "nodeType": "DOM",
       "props": {},
       "type": "node"
      },
      "text/html": [
       "<div style=\"padding: 1em; background-color: #f8d6da; border: 1px solid #f5c6cb; font-weight: bold;\">\n",
       "<p>The WebIO Jupyter extension was not detected. See the\n",
       "<a href=\"https://juliagizmos.github.io/WebIO.jl/latest/providers/ijulia/\" target=\"_blank\">\n",
       "    WebIO Jupyter integration documentation\n",
       "</a>\n",
       "for more information.\n",
       "</div>\n"
      ],
      "text/plain": [
       "WebIO._IJuliaInit()"
      ]
     },
     "metadata": {},
     "output_type": "display_data"
    }
   ],
   "source": [
    "using RigidBodyDynamics\n",
    "using LinearAlgebra\n",
    "using MeshCatMechanisms\n",
    "using MeshCat\n",
    "using StaticArrays"
   ]
  },
  {
   "cell_type": "code",
   "execution_count": 48,
   "id": "75166c74",
   "metadata": {},
   "outputs": [
    {
     "data": {
      "text/plain": [
       "1.0"
      ]
     },
     "execution_count": 48,
     "metadata": {},
     "output_type": "execute_result"
    }
   ],
   "source": [
    "l1 = 1.0\n",
    "l2 = 1.0\n",
    "lc1 = l1/2\n",
    "lc2 = l2/2\n",
    "m1 = 1.0\n",
    "m2 = 1.0\n",
    "g = 9.81\n",
    "I1 = m1*(l1^2)\n",
    "I2 = m2*(l2^2)"
   ]
  },
  {
   "cell_type": "code",
   "execution_count": 49,
   "id": "286041b0",
   "metadata": {},
   "outputs": [
    {
     "data": {
      "text/plain": [
       "Spanning tree:\n",
       "Vertex: world (root)\n",
       "No non-tree joints."
      ]
     },
     "execution_count": 49,
     "metadata": {},
     "output_type": "execute_result"
    }
   ],
   "source": [
    "world = RigidBody{Float64}(\"world\")\n",
    "doublependulum = Mechanism(world; gravity = SVector(0, 0, g))"
   ]
  },
  {
   "cell_type": "code",
   "execution_count": 50,
   "id": "6b531ede",
   "metadata": {},
   "outputs": [
    {
     "data": {
      "text/plain": [
       "MechanismState{Float64, Float64, Float64, …}(…)"
      ]
     },
     "execution_count": 50,
     "metadata": {},
     "output_type": "execute_result"
    }
   ],
   "source": [
    "curdir = pwd()\n",
    "urdfpath = joinpath(curdir, \"../../res/flyhopper_mockup/urdf/flyhopper_mockup_jl.urdf\")\n",
    "doublependulum = parse_urdf(urdfpath, floating=false)\n",
    "state = MechanismState(doublependulum)"
   ]
  },
  {
   "cell_type": "code",
   "execution_count": 117,
   "id": "d5889e06",
   "metadata": {
    "scrolled": false
   },
   "outputs": [
    {
     "name": "stdout",
     "output_type": "stream",
     "text": [
      "L = sympy.trigsimp(T - U) = 2.0*(cos(q2(t))*Derivative(q1(t), t)^2 + cos(q2(t))*Derivative(q1(t), t)*Derivative(q2(t), t) + Derivative(q1(t), t)^2 + Derivative(q1(t), t)*Derivative(q2(t), t) + 0.5*Derivative(q2(t), t)^2)^2 - 9.81*sin(q1(t) + q2(t)) - 19.62*sin(q1(t)) + 0.5*Derivative(q1(t), t)^4\n"
     ]
    },
    {
     "data": {
      "text/latex": [
       "$\\begin{equation*}12.0 \\operatorname{q1d}^{2}{\\left(t \\right)} \\cos^{2}{\\left(\\operatorname{q_{2}}{\\left(t \\right)} \\right)} + 24.0 \\operatorname{q1d}^{2}{\\left(t \\right)} \\cos{\\left(\\operatorname{q_{2}}{\\left(t \\right)} \\right)} + 12.0 \\operatorname{q1d}^{2}{\\left(t \\right)} + 8.0 \\operatorname{q1d}{\\left(t \\right)} \\operatorname{q2d}{\\left(t \\right)} \\cos^{2}{\\left(\\operatorname{q_{2}}{\\left(t \\right)} \\right)} + 24.0 \\operatorname{q1d}{\\left(t \\right)} \\operatorname{q2d}{\\left(t \\right)} \\cos{\\left(\\operatorname{q_{2}}{\\left(t \\right)} \\right)} + 16.0 \\operatorname{q1d}{\\left(t \\right)} \\operatorname{q2d}{\\left(t \\right)} + 6.0 \\operatorname{q2d}^{2}{\\left(t \\right)} \\cos{\\left(\\operatorname{q_{2}}{\\left(t \\right)} \\right)} + 6.0 \\operatorname{q2d}^{2}{\\left(t \\right)}\\end{equation*}$\n"
      ],
      "text/plain": [
       "        2       2                  2                         2                \n",
       "12.0⋅q1d (t)⋅cos (q₂(t)) + 24.0⋅q1d (t)⋅cos(q₂(t)) + 12.0⋅q1d (t) + 8.0⋅q1d(t)\n",
       "\n",
       "           2                                                                  \n",
       "⋅q2d(t)⋅cos (q₂(t)) + 24.0⋅q1d(t)⋅q2d(t)⋅cos(q₂(t)) + 16.0⋅q1d(t)⋅q2d(t) + 6.0\n",
       "\n",
       "    2                        2   \n",
       "⋅q2d (t)⋅cos(q₂(t)) + 6.0⋅q2d (t)"
      ]
     },
     "execution_count": 117,
     "metadata": {},
     "output_type": "execute_result"
    }
   ],
   "source": [
    "using SymPy\n",
    "sympy.init_printing(use_unicode=True)\n",
    "@syms x1, y1, x1d, y1d\n",
    "@syms q1()::real t\n",
    "@syms q2()::real t\n",
    "@syms q1d()::real t\n",
    "@syms q2d()::real t\n",
    "@syms q1dd()::real t\n",
    "@syms q2dd()::real t\n",
    "\n",
    "x1 = l1*sympy.cos(q1(t))\n",
    "y1 = l1*sympy.sin(q1(t))\n",
    "x2 = l1*sympy.cos(q1(t)) + l2*sympy.cos(q1(t) + q2(t))\n",
    "y2 = l1*sympy.sin(q1(t)) + l2*sympy.sin(q1(t) + q2(t))\n",
    "\n",
    "x1d = diff(x1, t)\n",
    "y1d = diff(y1, t)\n",
    "x2d = diff(x2, t)\n",
    "y2d = diff(y2, t)\n",
    "\n",
    "U = m1*g*y1 + m2*g*y2\n",
    "v1 = x1d^2 + y1d^2\n",
    "v2 = x2d^2 + y2d^2\n",
    "T = 0.5*m1*v1^2 + 0.5*m2*v2^2\n",
    "\n",
    "# Le Lagrangian\n",
    "L = sympy.trigsimp(T - U)\n",
    "L = L.subs(sympy.Derivative(q1(t), t), q1d(t))  # substitute d/dt q1(t) with q1d\n",
    "L = L.subs(sympy.Derivative(q2(t), t), q2d(t))  # substitute d/dt q2(t) with q2d\n",
    "\n",
    "# Lagrange-Euler Equation\n",
    "LE1 = diff(diff(L, q1d(t)), t) - diff(L, q1(t))  \n",
    "LE2 = diff(diff(L, q2d(t)), t) - diff(L, q2(t))\n",
    "LE = [LE1, LE2]\n",
    "LE = sympy.trigsimp(LE)\n",
    "\n",
    "# subs first derivative\n",
    "LE = LE.subs(sympy.Derivative(q1(t), t), q1d(t))  # substitute d/dt q1(t) with q1d\n",
    "LE = LE.subs(sympy.Derivative(q2(t), t), q2d(t))  # substitute d/dt q2(t) with q2d\n",
    "# subs second derivative\n",
    "LE = LE.subs(sympy.Derivative(q1d(t), t), q1dd(t))  # substitute d/dt q1d(t) with q1dd\n",
    "LE = LE.subs(sympy.Derivative(q2d(t), t), q2dd(t))  # substitute d/dt q2d(t) with q2dd\n",
    "LE = sympy.simplify(LE)\n",
    "# Generalized mass matrix\n",
    "# M1 = sympy.Poly(LE[1], q1dd(t)).coeffs()\n",
    "M11 = collect(expand(LE[1]), q1dd(t)).coeff(q1dd(t))\n",
    "#=@show M11\n",
    "M12 = collect(expand(LE[1]), q2dd(t)).coeff(q2dd(t))\n",
    "M21 = collect(expand(LE[2]), q1dd(t)).coeff(q1dd(t))\n",
    "M22 = collect(expand(LE[2]), q2dd(t)).coeff(q2dd(t))\n",
    "M = [[M11, M12] [M21, M22]]\n",
    "\n",
    "# Coriolis Matrix\n",
    "C11 = collect(expand(LE[1]), q1dd(t)).coeff(q1dd(t))\n",
    "C12 = collect(expand(LE[1]), q2dd(t)).coeff(q2dd(t))\n",
    "C21 = collect(expand(LE[2]), q1dd(t)).coeff(q1dd(t))\n",
    "C22 = collect(expand(LE[2]), q2dd(t)).coeff(q2dd(t))\n",
    "\n",
    "@show size(M)\n",
    "=#"
   ]
  },
  {
   "cell_type": "code",
   "execution_count": 6,
   "id": "a73530f9",
   "metadata": {},
   "outputs": [
    {
     "data": {
      "text/plain": [
       "f_1 (generic function with 1 method)"
      ]
     },
     "execution_count": 6,
     "metadata": {},
     "output_type": "execute_result"
    }
   ],
   "source": [
    "function f_1(x)\n",
    "    # double pendulum dynamics\n",
    "    \n",
    "    q1 = x[1]\n",
    "    q1̇ = x[2]\n",
    "    q2 = x[3]\n",
    "    q2̇ = x[4]\n",
    "    \n",
    "    M = zeros(2, 2)\n",
    "    M[1, 1] = I1 + I2 + m2*l1^2 + 2*m2*l1*lc2*cos(q2)\n",
    "    M[1, 2] = I2 + m2*l1*lc2*cos(q2)\n",
    "    M[2, 1] = I2 + m2*l1*lc2*cos(q2)\n",
    "    M[2, 2] = I2\n",
    "    \n",
    "    C = zeros(2, 2)\n",
    "    C[1, 1] = -2*m2*l1*lc2*sin(q2)*q2̇ \n",
    "    C[1, 2] = -m2*l1*lc2*sin(q2)*q2̇ \n",
    "    C[2, 1] = m2*l1*lc2*sin(q2)*q1̇\n",
    "    C[2, 2] = 0\n",
    "    \n",
    "    τg = zeros(2)\n",
    "    τg[1] = -m1*g*lc1*sin(q1) - m2*g*(l1*sin(q1) + lc2*sin(q1+q2))\n",
    "    τg[2] = -m2*g*lc2*sin(q1+q2)\n",
    "    \n",
    "    q_d = zeros(2)\n",
    "    q_d[1] = q1̇ \n",
    "    q_d[2] = q2̇ \n",
    "    \n",
    "    q_dd = M\\(τg - C*q_d)\n",
    "    \n",
    "    q1̈  = q_dd[1]\n",
    "    q2̈  = q_dd[2]\n",
    "    \n",
    "    ẋ = zeros(4)\n",
    "    ẋ[1] = q1̇  # q1 dot\n",
    "    ẋ[2] = q1̈  # q1 double dot\n",
    "    ẋ[3] = q2̇  # q2 dot\n",
    "    ẋ[4] = q2̈  # q2 double dot\n",
    "    \n",
    "end"
   ]
  },
  {
   "cell_type": "code",
   "execution_count": 7,
   "id": "484897d0",
   "metadata": {},
   "outputs": [
    {
     "data": {
      "text/plain": [
       "f_2 (generic function with 1 method)"
      ]
     },
     "execution_count": 7,
     "metadata": {},
     "output_type": "execute_result"
    }
   ],
   "source": [
    "# stolen from https://github.com/RoboticExplorationLab/RobotZoo.jl/blob/master/src/acrobot.jl\n",
    "\n",
    "function f_2(x)\n",
    "    u = [0, 0]\n",
    "    g = 9.81\n",
    "    # m1,m2 = model.m\n",
    "    l1,l2 = l1, l2\n",
    "    J1,J2 = I1, I2\n",
    "    θ1,    θ2    = x[1], x[3]\n",
    "    θ1dot, θ2dot = x[2], x[4]\n",
    "    s1,c1 = sincos(θ1)\n",
    "    s2,c2 = sincos(θ2)\n",
    "    c12 = cos(θ1 + θ2)\n",
    "\n",
    "    # mass matrix\n",
    "    m11 = m1*l1^2 + J1 + m2*(l1^2 + l2^2 + 2*l1*l2*c2) + J2\n",
    "    m12 = m2*(l2^2 + l1*l2*c2 + J2)\n",
    "    m22 = l2^2*m2 + J2\n",
    "    M = @SMatrix [m11 m12; m12 m22]\n",
    "\n",
    "    # bias term\n",
    "    tmp = l1*l2*m2*s2\n",
    "    b1 = -(2 * θ1dot * θ2dot + θ2dot^2)*tmp\n",
    "    b2 = tmp * θ1dot^2\n",
    "    B = @SVector [b1, b2]\n",
    "\n",
    "    # friction\n",
    "    c = 0\n",
    "    C = @SVector [c*θ1dot, c*θ2dot]\n",
    "\n",
    "    # gravity term\n",
    "    g1 = ((m1 + m2)*l2*c1 + m2*l2*c12) * g\n",
    "    g2 = m2*l2*c12*g\n",
    "    G = @SVector [g1, g2]\n",
    "\n",
    "    # equations of motion\n",
    "    τ = @SVector [0, u[1]]\n",
    "    θddot = M\\(τ - B - G - C)\n",
    "    return @SVector [θ1dot, θddot[1], θ2dot, θddot[2]]\n",
    "end\n"
   ]
  },
  {
   "cell_type": "code",
   "execution_count": 8,
   "id": "2b25753a",
   "metadata": {},
   "outputs": [
    {
     "data": {
      "text/plain": [
       "rk4_step (generic function with 1 method)"
      ]
     },
     "execution_count": 8,
     "metadata": {},
     "output_type": "execute_result"
    }
   ],
   "source": [
    "function rk4_step(f,xk,h)\n",
    "    \n",
    "    #TODO: implement rk4\n",
    "    # xn = zeros(length(xk))\n",
    "    \n",
    "    a = [0 0 0 0; \n",
    "         0.5 0 0 0; \n",
    "         0 0.5 0 0; \n",
    "         0 0 1 0]\n",
    "    b = [1/6, 1/3, 1/3, 1/6]\n",
    "    f1 = f(xk)\n",
    "    f2 = f(xk .+ h*a[2, 1]*f1)\n",
    "    f3 = f(xk .+ h*a[3, 1]*f1 .+ h*a[3, 2]*f2)\n",
    "    f4 = f(xk .+ h*a[4, 1]*f1 .+ h*a[4, 2]*f2 .+ h*a[4, 3]*f3)\n",
    "    xn = xk .+ h*(b[1]*f1 .+ b[2]*f2 .+ b[3]*f3 .+ b[4]*f4)\n",
    "    \n",
    "    return xn\n",
    "end"
   ]
  },
  {
   "cell_type": "code",
   "execution_count": 9,
   "id": "ff584a95",
   "metadata": {},
   "outputs": [],
   "source": [
    "Tf = 10.0\n",
    "h = 0.001 #20 Hz\n",
    "N = Int(floor(Tf./h + 1))\n",
    "thist = h.*Array(0:(N-1));"
   ]
  },
  {
   "cell_type": "code",
   "execution_count": 21,
   "id": "4c14ceb0",
   "metadata": {},
   "outputs": [
    {
     "data": {
      "text/plain": [
       "simulate! (generic function with 1 method)"
      ]
     },
     "execution_count": 21,
     "metadata": {},
     "output_type": "execute_result"
    }
   ],
   "source": [
    "function simulate!(xtraj, N)\n",
    "    for k = 1:(N-1)\n",
    "        xtraj[:,k+1] .= rk4_step(f_1, xtraj[:,k], h)\n",
    "    end\n",
    "end"
   ]
  },
  {
   "cell_type": "code",
   "execution_count": 22,
   "id": "a4c086a6",
   "metadata": {},
   "outputs": [],
   "source": [
    "x0 = [-150*(pi/180); 0.0; 120*(pi/180); 0.0]\n",
    "xtraj = zeros(4,N)\n",
    "xtraj[:,1] = x0;"
   ]
  },
  {
   "cell_type": "code",
   "execution_count": 23,
   "id": "dde9fbfd",
   "metadata": {},
   "outputs": [],
   "source": [
    "simulate!(xtraj, N)"
   ]
  },
  {
   "cell_type": "code",
   "execution_count": 24,
   "id": "555b6517",
   "metadata": {},
   "outputs": [
    {
     "data": {
      "text/plain": [
       "2-element SegmentedVector{JointID, Float64, Base.OneTo{JointID}, Vector{Float64}}:\n",
       " 0.0\n",
       " 0.0"
      ]
     },
     "execution_count": 24,
     "metadata": {},
     "output_type": "execute_result"
    }
   ],
   "source": [
    "q = configuration(state)\n",
    "v = velocity(state)"
   ]
  },
  {
   "cell_type": "code",
   "execution_count": 25,
   "id": "7ac8d6be",
   "metadata": {},
   "outputs": [
    {
     "data": {
      "text/plain": [
       "10001-element Vector{Vector{Float64}}:\n",
       " [0.0, 0.0]\n",
       " [-2.5856501677523624e-6, 4.063166349599356e-6]\n",
       " [-1.03425951292202e-5, 1.6252678297412615e-5]\n",
       " [-2.327081826036803e-5, 3.656857453870899e-5]\n",
       " [-4.1370291854470054e-5, 6.501091956812033e-5]\n",
       " [-6.464097712566286e-5, 0.00010157980367964115]\n",
       " [-9.308282420805725e-5, 0.00014627534297151357]\n",
       " [-0.0001266957721615114, 0.00019909767934755962]\n",
       " [-0.00016547974897251905, 0.0002600469805225103]\n",
       " [-0.00020943467155865036, 0.0003291234400273346]\n",
       " [-0.00025856044577343695, 0.00040632727721368056]\n",
       " [-0.0003128569664112568, 0.0004916587372618686]\n",
       " [-0.0003723241172117753, 0.0005851180911875531]\n",
       " ⋮\n",
       " [-0.16084793493727467, 0.3443831085948763]\n",
       " [-0.15921607133942173, 0.3431778409036843]\n",
       " [-0.15758906679196194, 0.3419820298361238]\n",
       " [-0.15596692826277847, 0.34079566943094286]\n",
       " [-0.1543496627196066, 0.3396187537424742]\n",
       " [-0.15273727712981966, 0.3384512768406629]\n",
       " [-0.15112977846021902, 0.3372932328110949]\n",
       " [-0.1495271736768231, 0.3361446157550252]\n",
       " [-0.14792946974465782, 0.335005419789407]\n",
       " [-0.1463366736275491, 0.33387563904692086]\n",
       " [-0.14474879228791737, 0.33275526767600394]\n",
       " [-0.14316583268657057, 0.3316442998408802]"
      ]
     },
     "execution_count": 25,
     "metadata": {},
     "output_type": "execute_result"
    }
   ],
   "source": [
    "q1 = -xtraj[1, :] .- 150*(pi/180)\n",
    "q2 = -xtraj[3, :] .+ 120*(pi/180)\n",
    "qs = convert(AbstractArray{Float64, 2}, [q1 q2]) \n",
    "ts = convert(AbstractVector{Float64}, thist) # AbstractVector(thist)\n",
    "q_array = [ qs[i,:] for i in 1:size(qs,1)] "
   ]
  },
  {
   "cell_type": "code",
   "execution_count": 26,
   "id": "ac179141",
   "metadata": {
    "scrolled": false
   },
   "outputs": [
    {
     "name": "stderr",
     "output_type": "stream",
     "text": [
      "┌ Info: MeshCat server started. You can open the visualizer by visiting the following URL in your browser:\n",
      "│ http://127.0.0.1:8701\n",
      "└ @ MeshCat /home/ben/.julia/packages/MeshCat/GlCMx/src/visualizer.jl:73\n"
     ]
    },
    {
     "data": {
      "text/html": [
       "    <div style=\"height: 500px; width: 100%; overflow-x: auto; overflow-y: hidden; resize: both\">\n",
       "    <iframe src=\"http://127.0.0.1:8701\" style=\"width: 100%; height: 100%; border: none\"></iframe>\n",
       "    </div>\n"
      ],
      "text/plain": [
       "MeshCat.DisplayedVisualizer(MeshCat.CoreVisualizer(MeshCat.SceneTrees.SceneNode(nothing, nothing, Dict{String, Vector{UInt8}}(), nothing, Dict{String, MeshCat.SceneTrees.SceneNode}(\"meshcat\" => MeshCat.SceneTrees.SceneNode(nothing, nothing, Dict{String, Vector{UInt8}}(), nothing, Dict{String, MeshCat.SceneTrees.SceneNode}(\"world\" => MeshCat.SceneTrees.SceneNode(nothing, nothing, Dict{String, Vector{UInt8}}(), nothing, Dict{String, MeshCat.SceneTrees.SceneNode}(\"base_link\" => MeshCat.SceneTrees.SceneNode(nothing, UInt8[0x83, 0xa6, 0x6d, 0x61, 0x74, 0x72, 0x69, 0x78, 0xc7, 0x40  …  0x2f, 0x62, 0x61, 0x73, 0x65, 0x5f, 0x6c, 0x69, 0x6e, 0x6b], Dict{String, Vector{UInt8}}(), nothing, Dict{String, MeshCat.SceneTrees.SceneNode}(\"geometry_1\" => MeshCat.SceneTrees.SceneNode(UInt8[0x83, 0xa6, 0x6f, 0x62, 0x6a, 0x65, 0x63, 0x74, 0x84, 0xaa  …  0x67, 0x65, 0x6f, 0x6d, 0x65, 0x74, 0x72, 0x79, 0x5f, 0x31], UInt8[0x83, 0xa6, 0x6d, 0x61, 0x74, 0x72, 0x69, 0x78, 0xc7, 0x40  …  0x67, 0x65, 0x6f, 0x6d, 0x65, 0x74, 0x72, 0x79, 0x5f, 0x31], Dict{String, Vector{UInt8}}(), nothing, Dict{String, MeshCat.SceneTrees.SceneNode}()))), \"Link 1\" => MeshCat.SceneTrees.SceneNode(nothing, UInt8[0x83, 0xa6, 0x6d, 0x61, 0x74, 0x72, 0x69, 0x78, 0xc7, 0x40  …  0x72, 0x6c, 0x64, 0x2f, 0x4c, 0x69, 0x6e, 0x6b, 0x20, 0x31], Dict{String, Vector{UInt8}}(), nothing, Dict{String, MeshCat.SceneTrees.SceneNode}(\"after_Joint 1\" => MeshCat.SceneTrees.SceneNode(nothing, UInt8[0x83, 0xa6, 0x6d, 0x61, 0x74, 0x72, 0x69, 0x78, 0xc7, 0x40  …  0x65, 0x72, 0x5f, 0x4a, 0x6f, 0x69, 0x6e, 0x74, 0x20, 0x31], Dict{String, Vector{UInt8}}(), nothing, Dict{String, MeshCat.SceneTrees.SceneNode}(\"geometry_2\" => MeshCat.SceneTrees.SceneNode(UInt8[0x83, 0xa6, 0x6f, 0x62, 0x6a, 0x65, 0x63, 0x74, 0x84, 0xaa  …  0x67, 0x65, 0x6f, 0x6d, 0x65, 0x74, 0x72, 0x79, 0x5f, 0x32], UInt8[0x83, 0xa6, 0x6d, 0x61, 0x74, 0x72, 0x69, 0x78, 0xc7, 0x40  …  0x67, 0x65, 0x6f, 0x6d, 0x65, 0x74, 0x72, 0x79, 0x5f, 0x32], Dict{String, Vector{UInt8}}(), nothing, Dict{String, MeshCat.SceneTrees.SceneNode}()))), \"Link 2\" => MeshCat.SceneTrees.SceneNode(nothing, UInt8[0x83, 0xa6, 0x6d, 0x61, 0x74, 0x72, 0x69, 0x78, 0xc7, 0x40  …  0x6b, 0x20, 0x31, 0x2f, 0x4c, 0x69, 0x6e, 0x6b, 0x20, 0x32], Dict{String, Vector{UInt8}}(), nothing, Dict{String, MeshCat.SceneTrees.SceneNode}(\"after_Joint 2\" => MeshCat.SceneTrees.SceneNode(nothing, UInt8[0x83, 0xa6, 0x6d, 0x61, 0x74, 0x72, 0x69, 0x78, 0xc7, 0x40  …  0x65, 0x72, 0x5f, 0x4a, 0x6f, 0x69, 0x6e, 0x74, 0x20, 0x32], Dict{String, Vector{UInt8}}(), nothing, Dict{String, MeshCat.SceneTrees.SceneNode}(\"geometry_3\" => MeshCat.SceneTrees.SceneNode(UInt8[0x83, 0xa6, 0x6f, 0x62, 0x6a, 0x65, 0x63, 0x74, 0x84, 0xaa  …  0x67, 0x65, 0x6f, 0x6d, 0x65, 0x74, 0x72, 0x79, 0x5f, 0x33], UInt8[0x83, 0xa6, 0x6d, 0x61, 0x74, 0x72, 0x69, 0x78, 0xc7, 0x40  …  0x67, 0x65, 0x6f, 0x6d, 0x65, 0x74, 0x72, 0x79, 0x5f, 0x33], Dict{String, Vector{UInt8}}(), nothing, Dict{String, MeshCat.SceneTrees.SceneNode}()))))))))))))), Set{Any}(), ip\"127.0.0.1\", 8701))"
      ]
     },
     "execution_count": 26,
     "metadata": {},
     "output_type": "execute_result"
    }
   ],
   "source": [
    "# mvis = MechanismVisualizer(doublependulum, Skeleton(randomize_colors=true, inertias=false));\n",
    "mvis = MechanismVisualizer(doublependulum, URDFVisuals(urdfpath));\n",
    "\n",
    "render(mvis)"
   ]
  },
  {
   "cell_type": "code",
   "execution_count": 27,
   "id": "c57e095b",
   "metadata": {},
   "outputs": [],
   "source": [
    "# set_configuration!(mvis, [x0[1]-150*(pi/180), x0[3]+120*(pi/180)])\n",
    "set_configuration!(mvis, [-x0[1]-150*(pi/180), -x0[3]+120*(pi/180)])\n",
    "# set_configuration!(mvis, [0, 0])"
   ]
  },
  {
   "cell_type": "code",
   "execution_count": 28,
   "id": "927f3baf",
   "metadata": {
    "scrolled": true
   },
   "outputs": [],
   "source": [
    "# Now we can simply call `simulate`, which will return a tuple consisting of:\n",
    "# * simulation times (a `Vector` of numbers)\n",
    "# * joint configuration vectors (a `Vector` of `Vector`s)\n",
    "# * joint velocity vectors (a `Vector` of `Vector`s)\n",
    "\n",
    "# MeshCatMechanisms.animate(mvis, ts, qs; realtimerate = 1.);\n",
    "animation = Animation(mvis, ts, -q_array)\n",
    "setanimation!(mvis, animation)"
   ]
  },
  {
   "cell_type": "code",
   "execution_count": null,
   "id": "7bf9501d",
   "metadata": {},
   "outputs": [],
   "source": []
  }
 ],
 "metadata": {
  "kernelspec": {
   "display_name": "Julia 1.6.2",
   "language": "julia",
   "name": "julia-1.6"
  },
  "language_info": {
   "file_extension": ".jl",
   "mimetype": "application/julia",
   "name": "julia",
   "version": "1.6.2"
  }
 },
 "nbformat": 4,
 "nbformat_minor": 5
}
