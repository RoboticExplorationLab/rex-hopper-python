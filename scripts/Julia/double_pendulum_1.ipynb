{
 "cells": [
  {
   "cell_type": "code",
   "execution_count": 1,
   "id": "432106d6",
   "metadata": {},
   "outputs": [
    {
     "name": "stderr",
     "output_type": "stream",
     "text": [
      "\u001b[32m\u001b[1m  Activating\u001b[22m\u001b[39m environment at `/mnt/064AC6424AC62E6D/git_workspace/flyhopper/scripts/Julia/Project.toml`\n"
     ]
    }
   ],
   "source": [
    "import Pkg; Pkg.activate(@__DIR__); Pkg.instantiate()"
   ]
  },
  {
   "cell_type": "code",
   "execution_count": 2,
   "id": "79b2662a",
   "metadata": {},
   "outputs": [
    {
     "data": {
      "application/vnd.webio.node+json": {
       "children": [],
       "instanceArgs": {
        "namespace": "html",
        "tag": "div"
       },
       "nodeType": "DOM",
       "props": {},
       "type": "node"
      },
      "text/html": [
       "<div style=\"padding: 1em; background-color: #f8d6da; border: 1px solid #f5c6cb; font-weight: bold;\">\n",
       "<p>The WebIO Jupyter extension was not detected. See the\n",
       "<a href=\"https://juliagizmos.github.io/WebIO.jl/latest/providers/ijulia/\" target=\"_blank\">\n",
       "    WebIO Jupyter integration documentation\n",
       "</a>\n",
       "for more information.\n",
       "</div>\n"
      ],
      "text/plain": [
       "WebIO._IJuliaInit()"
      ]
     },
     "metadata": {},
     "output_type": "display_data"
    }
   ],
   "source": [
    "using RigidBodyDynamics\n",
    "using LinearAlgebra\n",
    "using MeshCatMechanisms\n",
    "using MeshCat\n",
    "using StaticArrays"
   ]
  },
  {
   "cell_type": "code",
   "execution_count": 62,
   "id": "c791197f",
   "metadata": {},
   "outputs": [
    {
     "data": {
      "text/plain": [
       "9.81"
      ]
     },
     "execution_count": 62,
     "metadata": {},
     "output_type": "execute_result"
    }
   ],
   "source": [
    "l1 = 1.0\n",
    "l2 = 1.0\n",
    "lc1 = l1/2\n",
    "lc2 = l2/2\n",
    "m1 = 1.0\n",
    "m2 = 1.0\n",
    "g = 9.81\n",
    "I1 = m1*(l1^2)\n",
    "I2 = m2*(l2^2)"
   ]
  },
  {
   "cell_type": "code",
   "execution_count": 63,
   "id": "5fa93997",
   "metadata": {},
   "outputs": [
    {
     "data": {
      "text/plain": [
       "Spanning tree:\n",
       "Vertex: world (root)\n",
       "No non-tree joints."
      ]
     },
     "execution_count": 63,
     "metadata": {},
     "output_type": "execute_result"
    }
   ],
   "source": [
    "world = RigidBody{Float64}(\"world\")\n",
    "doublependulum = Mechanism(world; gravity = SVector(0, 0, g))"
   ]
  },
  {
   "cell_type": "code",
   "execution_count": 64,
   "id": "18787332",
   "metadata": {},
   "outputs": [
    {
     "data": {
      "text/plain": [
       "MechanismState{Float64, Float64, Float64, …}(…)"
      ]
     },
     "execution_count": 64,
     "metadata": {},
     "output_type": "execute_result"
    }
   ],
   "source": [
    "curdir = pwd()\n",
    "urdfpath = joinpath(curdir, \"../../res/flyhopper_mockup/urdf/flyhopper_mockup_jl.urdf\")\n",
    "doublependulum = parse_urdf(urdfpath, floating=false)\n",
    "state = MechanismState(doublependulum)"
   ]
  },
  {
   "cell_type": "code",
   "execution_count": 154,
   "id": "35bd8b1b",
   "metadata": {},
   "outputs": [
    {
     "data": {
      "text/plain": [
       "f_1 (generic function with 1 method)"
      ]
     },
     "execution_count": 154,
     "metadata": {},
     "output_type": "execute_result"
    }
   ],
   "source": [
    "function f_1(x)\n",
    "    # double pendulum dynamics\n",
    "    \n",
    "    q1 = x[1]\n",
    "    q1d = x[2]\n",
    "    q2 = x[3]\n",
    "    q2d = x[4]\n",
    "    \n",
    "    # Mass matrix\n",
    "    M = zeros(2, 2)\n",
    "    M[1, 1] = l1^2 * m1 + l1^2 *m2 + 2*l1*l2*m2*cos(q2) + l2^2 *m2\n",
    "    M[1, 2] = l1*l2*m2*cos(q2) + l2^2 * m2\n",
    "    M[2, 1] = l1*l2*m2*cos(q2) + l2^2 * m2\n",
    "    M[2, 2] = l2^2 * m2\n",
    "    \n",
    "    \n",
    "    # Coriolis term\n",
    "    C = zeros(2)\n",
    "    z = l1*l2*m2\n",
    "    C[1] = -2*z*q1d*q2d*sin(q2) -z*(q2d^2)*sin(q2)\n",
    "    C[2] = z*(q1d^2)*sin(q2)\n",
    "    \n",
    "    # Gravity term\n",
    "    G = zeros(2)\n",
    "    G[1] = g*l1*m1*cos(q1) + g*l1*m2*cos(q1) + g*l2*m2*cos(q1 + q2)\n",
    "    G[2] = g*l2*m2*cos(q1 + q2)\n",
    "      \n",
    "    qd = zeros(2)\n",
    "    qd[1] = q1d\n",
    "    qd[2] = q2d\n",
    "    \n",
    "    qdd = M\\(-G - C)\n",
    "    q1dd = qdd[1]\n",
    "    q2dd = qdd[2]\n",
    "    \n",
    "    ẋ = zeros(4)\n",
    "    ẋ[1] = q1d # q1 dot\n",
    "    ẋ[2] = q1dd # q1 double dot\n",
    "    ẋ[3] = q2d # q2 dot\n",
    "    ẋ[4] = q2dd # q2 double dot\n",
    "    \n",
    "    return ẋ\n",
    "end"
   ]
  },
  {
   "cell_type": "code",
   "execution_count": 155,
   "id": "07e664fd",
   "metadata": {},
   "outputs": [
    {
     "data": {
      "text/plain": [
       "f_2 (generic function with 1 method)"
      ]
     },
     "execution_count": 155,
     "metadata": {},
     "output_type": "execute_result"
    }
   ],
   "source": [
    "# stolen from https://github.com/RoboticExplorationLab/RobotZoo.jl/blob/master/src/acrobot.jl\n",
    "\n",
    "function f_2(x)\n",
    "    u = [0, 0]\n",
    "    g = 9.81\n",
    "    # m1,m2 = model.m\n",
    "    # l1,l2 = l1, l2\n",
    "    J1,J2 = I1, I2\n",
    "    θ1,    θ2    = x[1], x[3]\n",
    "    θ1dot, θ2dot = x[2], x[4]\n",
    "    s1,c1 = sincos(θ1)\n",
    "    s2,c2 = sincos(θ2)\n",
    "    c12 = cos(θ1 + θ2)\n",
    "\n",
    "    # mass matrix\n",
    "    m11 = m1*l1^2 + J1 + m2*(l1^2 + l2^2 + 2*l1*l2*c2) + J2\n",
    "    m12 = m2*(l2^2 + l1*l2*c2 + J2)\n",
    "    m22 = l2^2*m2 + J2\n",
    "    M = @SMatrix [m11 m12; m12 m22]\n",
    "\n",
    "    # bias term\n",
    "    tmp = l1*l2*m2*s2\n",
    "    b1 = -(2 * θ1dot * θ2dot + θ2dot^2)*tmp\n",
    "    b2 = tmp * θ1dot^2\n",
    "    B = @SVector [b1, b2]\n",
    "\n",
    "    # friction\n",
    "    c = 0\n",
    "    C = @SVector [c*θ1dot, c*θ2dot]\n",
    "\n",
    "    # gravity term\n",
    "    g1 = ((m1 + m2)*l2*c1 + m2*l2*c12) * g\n",
    "    g2 = m2*l2*c12*g\n",
    "    G = @SVector [g1, g2]\n",
    "\n",
    "    # equations of motion\n",
    "    τ = @SVector [0, u[1]]\n",
    "    θddot = M\\(τ - B - G - C)\n",
    "    return @SVector [θ1dot, θddot[1], θ2dot, θddot[2]]\n",
    "end\n"
   ]
  },
  {
   "cell_type": "code",
   "execution_count": 156,
   "id": "8a251983",
   "metadata": {},
   "outputs": [
    {
     "data": {
      "text/plain": [
       "rk4_step (generic function with 1 method)"
      ]
     },
     "execution_count": 156,
     "metadata": {},
     "output_type": "execute_result"
    }
   ],
   "source": [
    "function rk4_step(f,xk,h)\n",
    "    \n",
    "    #TODO: implement rk4\n",
    "    # xn = zeros(length(xk))\n",
    "    \n",
    "    a = [0 0 0 0; \n",
    "         0.5 0 0 0; \n",
    "         0 0.5 0 0; \n",
    "         0 0 1 0]\n",
    "    b = [1/6, 1/3, 1/3, 1/6]\n",
    "    f1 = f(xk)\n",
    "    f2 = f(xk .+ h*a[2, 1]*f1)\n",
    "    f3 = f(xk .+ h*a[3, 1]*f1 .+ h*a[3, 2]*f2)\n",
    "    f4 = f(xk .+ h*a[4, 1]*f1 .+ h*a[4, 2]*f2 .+ h*a[4, 3]*f3)\n",
    "    xn = xk .+ h*(b[1]*f1 .+ b[2]*f2 .+ b[3]*f3 .+ b[4]*f4)\n",
    "    \n",
    "    return xn\n",
    "end"
   ]
  },
  {
   "cell_type": "code",
   "execution_count": 157,
   "id": "dd51ef49",
   "metadata": {},
   "outputs": [],
   "source": [
    "Tf = 10.0\n",
    "h = 0.001 #20 Hz\n",
    "N = Int(floor(Tf./h + 1))\n",
    "thist = h.*Array(0:(N-1));"
   ]
  },
  {
   "cell_type": "code",
   "execution_count": 158,
   "id": "f83ed4ea",
   "metadata": {},
   "outputs": [
    {
     "data": {
      "text/plain": [
       "simulate! (generic function with 1 method)"
      ]
     },
     "execution_count": 158,
     "metadata": {},
     "output_type": "execute_result"
    }
   ],
   "source": [
    "function simulate!(xtraj, N)\n",
    "    for k = 1:(N-1)\n",
    "        xtraj[:,k+1] .= rk4_step(f_1, xtraj[:,k], h)\n",
    "    end\n",
    "end"
   ]
  },
  {
   "cell_type": "code",
   "execution_count": 159,
   "id": "5bb2465f",
   "metadata": {},
   "outputs": [],
   "source": [
    "x0 = [-150*(pi/180); 0.0; 120*(pi/180); 0.0]\n",
    "xtraj = zeros(4,N)\n",
    "xtraj[:,1] = x0;"
   ]
  },
  {
   "cell_type": "code",
   "execution_count": 160,
   "id": "3aed5a6b",
   "metadata": {},
   "outputs": [],
   "source": [
    "simulate!(xtraj, N)"
   ]
  },
  {
   "cell_type": "code",
   "execution_count": 161,
   "id": "747bf406",
   "metadata": {},
   "outputs": [
    {
     "data": {
      "text/plain": [
       "10001-element Vector{Vector{Float64}}:\n",
       " [0.0, 0.0]\n",
       " [-3.6410169981238028e-6, 6.068369128531259e-6]\n",
       " [-1.4564053171461921e-5, 2.4273541391117703e-5]\n",
       " [-3.276906406091129e-5, 5.461571142095778e-5]\n",
       " [-5.825597558306583e-5, 9.709520361678159e-5]\n",
       " [-9.102468405153274e-5, 0.00015171247215750583]\n",
       " [-0.000131075056209351, 0.00021846810102399417]\n",
       " [-0.00017840692926807122, 0.0002973628040257026]\n",
       " [-0.00023302011095749364, 0.0003883974248326538]\n",
       " [-0.00029491437958251154, 0.0004915729370158495]\n",
       " [-0.0003640894840901687, 0.0006068904440912348]\n",
       " [-0.00044054514414559875, 0.0007343511795712132]\n",
       " [-0.000524281050216846, 0.0008739565070219335]\n",
       " ⋮\n",
       " [-0.1791661381924734, 0.37287477387810375]\n",
       " [-0.18058274503312832, 0.3762937530627344]\n",
       " [-0.18200822697070418, 0.3797296819223941]\n",
       " [-0.1834426028733609, 0.38318261985683577]\n",
       " [-0.18488589186703352, 0.3866526269149624]\n",
       " [-0.18633811333927497, 0.3901397638026558]\n",
       " [-0.18779928694314707, 0.39364409189072735]\n",
       " [-0.18926943260116325, 0.39716567322299245]\n",
       " [-0.19074857050927996, 0.40070457052447006]\n",
       " [-0.19223672114094237, 0.4042608472097111]\n",
       " [-0.19373390525118062, 0.40783456739125645]\n",
       " [-0.19524014388076116, 0.4114257958882275]"
      ]
     },
     "execution_count": 161,
     "metadata": {},
     "output_type": "execute_result"
    }
   ],
   "source": [
    "q1 = -xtraj[1, :] .- 150*(pi/180)\n",
    "q2 = -xtraj[3, :] .+ 120*(pi/180)\n",
    "qs = convert(AbstractArray{Float64, 2}, [q1 q2]) \n",
    "ts = convert(AbstractVector{Float64}, thist) # AbstractVector(thist)\n",
    "q_array = [ qs[i,:] for i in 1:size(qs,1)] "
   ]
  },
  {
   "cell_type": "code",
   "execution_count": 162,
   "id": "8ff06cad",
   "metadata": {
    "scrolled": false
   },
   "outputs": [
    {
     "name": "stderr",
     "output_type": "stream",
     "text": [
      "┌ Info: MeshCat server started. You can open the visualizer by visiting the following URL in your browser:\n",
      "│ http://127.0.0.1:8711\n",
      "└ @ MeshCat /home/ben/.julia/packages/MeshCat/GlCMx/src/visualizer.jl:73\n"
     ]
    },
    {
     "data": {
      "text/html": [
       "    <div style=\"height: 500px; width: 100%; overflow-x: auto; overflow-y: hidden; resize: both\">\n",
       "    <iframe src=\"http://127.0.0.1:8711\" style=\"width: 100%; height: 100%; border: none\"></iframe>\n",
       "    </div>\n"
      ],
      "text/plain": [
       "MeshCat.DisplayedVisualizer(MeshCat.CoreVisualizer(MeshCat.SceneTrees.SceneNode(nothing, nothing, Dict{String, Vector{UInt8}}(), nothing, Dict{String, MeshCat.SceneTrees.SceneNode}(\"meshcat\" => MeshCat.SceneTrees.SceneNode(nothing, nothing, Dict{String, Vector{UInt8}}(), nothing, Dict{String, MeshCat.SceneTrees.SceneNode}(\"world\" => MeshCat.SceneTrees.SceneNode(nothing, nothing, Dict{String, Vector{UInt8}}(), nothing, Dict{String, MeshCat.SceneTrees.SceneNode}(\"base_link\" => MeshCat.SceneTrees.SceneNode(nothing, UInt8[0x83, 0xa6, 0x6d, 0x61, 0x74, 0x72, 0x69, 0x78, 0xc7, 0x40  …  0x2f, 0x62, 0x61, 0x73, 0x65, 0x5f, 0x6c, 0x69, 0x6e, 0x6b], Dict{String, Vector{UInt8}}(), nothing, Dict{String, MeshCat.SceneTrees.SceneNode}(\"geometry_1\" => MeshCat.SceneTrees.SceneNode(UInt8[0x83, 0xa6, 0x6f, 0x62, 0x6a, 0x65, 0x63, 0x74, 0x84, 0xaa  …  0x67, 0x65, 0x6f, 0x6d, 0x65, 0x74, 0x72, 0x79, 0x5f, 0x31], UInt8[0x83, 0xa6, 0x6d, 0x61, 0x74, 0x72, 0x69, 0x78, 0xc7, 0x40  …  0x67, 0x65, 0x6f, 0x6d, 0x65, 0x74, 0x72, 0x79, 0x5f, 0x31], Dict{String, Vector{UInt8}}(), nothing, Dict{String, MeshCat.SceneTrees.SceneNode}()))), \"Link 1\" => MeshCat.SceneTrees.SceneNode(nothing, UInt8[0x83, 0xa6, 0x6d, 0x61, 0x74, 0x72, 0x69, 0x78, 0xc7, 0x40  …  0x72, 0x6c, 0x64, 0x2f, 0x4c, 0x69, 0x6e, 0x6b, 0x20, 0x31], Dict{String, Vector{UInt8}}(), nothing, Dict{String, MeshCat.SceneTrees.SceneNode}(\"after_Joint 1\" => MeshCat.SceneTrees.SceneNode(nothing, UInt8[0x83, 0xa6, 0x6d, 0x61, 0x74, 0x72, 0x69, 0x78, 0xc7, 0x40  …  0x65, 0x72, 0x5f, 0x4a, 0x6f, 0x69, 0x6e, 0x74, 0x20, 0x31], Dict{String, Vector{UInt8}}(), nothing, Dict{String, MeshCat.SceneTrees.SceneNode}(\"geometry_2\" => MeshCat.SceneTrees.SceneNode(UInt8[0x83, 0xa6, 0x6f, 0x62, 0x6a, 0x65, 0x63, 0x74, 0x84, 0xaa  …  0x67, 0x65, 0x6f, 0x6d, 0x65, 0x74, 0x72, 0x79, 0x5f, 0x32], UInt8[0x83, 0xa6, 0x6d, 0x61, 0x74, 0x72, 0x69, 0x78, 0xc7, 0x40  …  0x67, 0x65, 0x6f, 0x6d, 0x65, 0x74, 0x72, 0x79, 0x5f, 0x32], Dict{String, Vector{UInt8}}(), nothing, Dict{String, MeshCat.SceneTrees.SceneNode}()))), \"Link 2\" => MeshCat.SceneTrees.SceneNode(nothing, UInt8[0x83, 0xa6, 0x6d, 0x61, 0x74, 0x72, 0x69, 0x78, 0xc7, 0x40  …  0x6b, 0x20, 0x31, 0x2f, 0x4c, 0x69, 0x6e, 0x6b, 0x20, 0x32], Dict{String, Vector{UInt8}}(), nothing, Dict{String, MeshCat.SceneTrees.SceneNode}(\"after_Joint 2\" => MeshCat.SceneTrees.SceneNode(nothing, UInt8[0x83, 0xa6, 0x6d, 0x61, 0x74, 0x72, 0x69, 0x78, 0xc7, 0x40  …  0x65, 0x72, 0x5f, 0x4a, 0x6f, 0x69, 0x6e, 0x74, 0x20, 0x32], Dict{String, Vector{UInt8}}(), nothing, Dict{String, MeshCat.SceneTrees.SceneNode}(\"geometry_3\" => MeshCat.SceneTrees.SceneNode(UInt8[0x83, 0xa6, 0x6f, 0x62, 0x6a, 0x65, 0x63, 0x74, 0x84, 0xaa  …  0x67, 0x65, 0x6f, 0x6d, 0x65, 0x74, 0x72, 0x79, 0x5f, 0x33], UInt8[0x83, 0xa6, 0x6d, 0x61, 0x74, 0x72, 0x69, 0x78, 0xc7, 0x40  …  0x67, 0x65, 0x6f, 0x6d, 0x65, 0x74, 0x72, 0x79, 0x5f, 0x33], Dict{String, Vector{UInt8}}(), nothing, Dict{String, MeshCat.SceneTrees.SceneNode}()))))))))))))), Set{Any}(), ip\"127.0.0.1\", 8711))"
      ]
     },
     "execution_count": 162,
     "metadata": {},
     "output_type": "execute_result"
    }
   ],
   "source": [
    "# mvis = MechanismVisualizer(doublependulum, Skeleton(randomize_colors=true, inertias=false));\n",
    "mvis = MechanismVisualizer(doublependulum, URDFVisuals(urdfpath));\n",
    "\n",
    "render(mvis)"
   ]
  },
  {
   "cell_type": "code",
   "execution_count": 163,
   "id": "15453a24",
   "metadata": {},
   "outputs": [],
   "source": [
    "# set_configuration!(mvis, [x0[1]-150*(pi/180), x0[3]+120*(pi/180)])\n",
    "set_configuration!(mvis, [-x0[1]-150*(pi/180), -x0[3]+120*(pi/180)])\n",
    "# set_configuration!(mvis, [0, 0])"
   ]
  },
  {
   "cell_type": "code",
   "execution_count": 164,
   "id": "b9105d58",
   "metadata": {
    "scrolled": true
   },
   "outputs": [],
   "source": [
    "# Now we can simply call `simulate`, which will return a tuple consisting of:\n",
    "# * simulation times (a `Vector` of numbers)\n",
    "# * joint configuration vectors (a `Vector` of `Vector`s)\n",
    "# * joint velocity vectors (a `Vector` of `Vector`s)\n",
    "\n",
    "# MeshCatMechanisms.animate(mvis, ts, qs; realtimerate = 1.);\n",
    "animation = Animation(mvis, ts, -q_array)\n",
    "setanimation!(mvis, animation)"
   ]
  },
  {
   "cell_type": "code",
   "execution_count": null,
   "id": "7e94f7b3",
   "metadata": {},
   "outputs": [],
   "source": []
  }
 ],
 "metadata": {
  "kernelspec": {
   "display_name": "Julia 1.6.2",
   "language": "julia",
   "name": "julia-1.6"
  },
  "language_info": {
   "file_extension": ".jl",
   "mimetype": "application/julia",
   "name": "julia",
   "version": "1.6.2"
  }
 },
 "nbformat": 4,
 "nbformat_minor": 5
}
