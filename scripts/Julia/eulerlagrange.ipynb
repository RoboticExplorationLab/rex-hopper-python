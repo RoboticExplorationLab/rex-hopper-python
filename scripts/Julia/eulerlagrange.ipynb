{
 "cells": [
  {
   "cell_type": "code",
   "execution_count": 1,
   "id": "f3adbaa5",
   "metadata": {},
   "outputs": [
    {
     "name": "stderr",
     "output_type": "stream",
     "text": [
      "\u001b[32m\u001b[1m  Activating\u001b[22m\u001b[39m environment at `/mnt/064AC6424AC62E6D/git_workspace/flyhopper/scripts/Julia/Project.toml`\n"
     ]
    }
   ],
   "source": [
    "import Pkg; Pkg.activate(@__DIR__); Pkg.instantiate()"
   ]
  },
  {
   "cell_type": "code",
   "execution_count": 2,
   "id": "1f61d7c7",
   "metadata": {},
   "outputs": [],
   "source": [
    "using SymPy"
   ]
  },
  {
   "cell_type": "code",
   "execution_count": 51,
   "id": "1c4f74aa",
   "metadata": {
    "scrolled": false
   },
   "outputs": [
    {
     "name": "stdout",
     "output_type": "stream",
     "text": [
      "C = SymMatrix(PyObject Matrix([\n",
      "[-2*l1*l2*m2*q1d(t)*q2d(t)*sin(q2(t)) - l1*l2*m2*q2d(t)**2*sin(q2(t))],\n",
      "[                                       l1*l2*m2*q1d(t)**2*sin(q2(t))]]))\n"
     ]
    },
    {
     "data": {
      "text/latex": [
       "$\\begin{equation*}\\left[\\begin{matrix}g l_{1} m_{1} \\cos{\\left(\\operatorname{q_{1}}{\\left(t \\right)} \\right)} + g l_{1} m_{2} \\cos{\\left(\\operatorname{q_{1}}{\\left(t \\right)} \\right)} + g l_{2} m_{2} \\cos{\\left(\\operatorname{q_{1}}{\\left(t \\right)} + \\operatorname{q_{2}}{\\left(t \\right)} \\right)} + 1.0 l_{1}^{2} m_{1} \\operatorname{q1dd}{\\left(t \\right)} + l_{1}^{2} m_{2} \\operatorname{q1dd}{\\left(t \\right)} - 2 l_{1} l_{2} m_{2} \\operatorname{q1d}{\\left(t \\right)} \\operatorname{q2d}{\\left(t \\right)} \\sin{\\left(\\operatorname{q_{2}}{\\left(t \\right)} \\right)} + 2 l_{1} l_{2} m_{2} \\operatorname{q1dd}{\\left(t \\right)} \\cos{\\left(\\operatorname{q_{2}}{\\left(t \\right)} \\right)} - l_{1} l_{2} m_{2} \\operatorname{q2d}^{2}{\\left(t \\right)} \\sin{\\left(\\operatorname{q_{2}}{\\left(t \\right)} \\right)} + l_{1} l_{2} m_{2} \\operatorname{q2dd}{\\left(t \\right)} \\cos{\\left(\\operatorname{q_{2}}{\\left(t \\right)} \\right)} + l_{2}^{2} m_{2} \\operatorname{q1dd}{\\left(t \\right)} + l_{2}^{2} m_{2} \\operatorname{q2dd}{\\left(t \\right)}\\\\g l_{2} m_{2} \\cos{\\left(\\operatorname{q_{1}}{\\left(t \\right)} + \\operatorname{q_{2}}{\\left(t \\right)} \\right)} + l_{1} l_{2} m_{2} \\operatorname{q1d}^{2}{\\left(t \\right)} \\sin{\\left(\\operatorname{q_{2}}{\\left(t \\right)} \\right)} + l_{1} l_{2} m_{2} \\operatorname{q1dd}{\\left(t \\right)} \\cos{\\left(\\operatorname{q_{2}}{\\left(t \\right)} \\right)} + l_{2}^{2} m_{2} \\operatorname{q1dd}{\\left(t \\right)} + l_{2}^{2} m_{2} \\operatorname{q2dd}{\\left(t \\right)}\\end{matrix}\\right]\\end{equation*}$\n"
      ],
      "text/plain": [
       "⎡                                                                             \n",
       "⎢g⋅l₁⋅m₁⋅cos(q₁(t)) + g⋅l₁⋅m₂⋅cos(q₁(t)) + g⋅l₂⋅m₂⋅cos(q₁(t) + q₂(t)) + 1.0⋅l₁\n",
       "⎢                                                                             \n",
       "⎢                                                                             \n",
       "⎣                                                                           g⋅\n",
       "\n",
       "2                2                                                            \n",
       " ⋅m₁⋅q1dd(t) + l₁ ⋅m₂⋅q1dd(t) - 2⋅l₁⋅l₂⋅m₂⋅q1d(t)⋅q2d(t)⋅sin(q₂(t)) + 2⋅l₁⋅l₂⋅\n",
       "                                                                              \n",
       "                                       2                                      \n",
       "l₂⋅m₂⋅cos(q₁(t) + q₂(t)) + l₁⋅l₂⋅m₂⋅q1d (t)⋅sin(q₂(t)) + l₁⋅l₂⋅m₂⋅q1dd(t)⋅cos(\n",
       "\n",
       "                                    2                                         \n",
       "m₂⋅q1dd(t)⋅cos(q₂(t)) - l₁⋅l₂⋅m₂⋅q2d (t)⋅sin(q₂(t)) + l₁⋅l₂⋅m₂⋅q2dd(t)⋅cos(q₂(\n",
       "                                                                              \n",
       "           2                2                                                 \n",
       "q₂(t)) + l₂ ⋅m₂⋅q1dd(t) + l₂ ⋅m₂⋅q2dd(t)                                      \n",
       "\n",
       "        2                2           ⎤\n",
       "t)) + l₂ ⋅m₂⋅q1dd(t) + l₂ ⋅m₂⋅q2dd(t)⎥\n",
       "                                     ⎥\n",
       "                                     ⎥\n",
       "                                     ⎦"
      ]
     },
     "execution_count": 51,
     "metadata": {},
     "output_type": "execute_result"
    }
   ],
   "source": [
    "# generate manipulator equation\n",
    "# TODO: Switch to Symbolics.jl\n",
    "sympy.init_printing(use_unicode=True)\n",
    "@syms m1, m2, g, l1, l2\n",
    "@syms q1()::real t\n",
    "@syms q2()::real t\n",
    "@syms q1d()::real t\n",
    "@syms q2d()::real t\n",
    "@syms q1dd()::real t\n",
    "@syms q2dd()::real t\n",
    "\n",
    "x1 = l1*sympy.cos(q1(t))\n",
    "y1 = l1*sympy.sin(q1(t))\n",
    "x2 = l1*sympy.cos(q1(t)) + l2*sympy.cos(q1(t) + q2(t))\n",
    "y2 = l1*sympy.sin(q1(t)) + l2*sympy.sin(q1(t) + q2(t))\n",
    "\n",
    "x1d = diff(x1, t)\n",
    "y1d = diff(y1, t)\n",
    "x2d = diff(x2, t)\n",
    "y2d = diff(y2, t)\n",
    "\n",
    "U = m1*g*y1 + m2*g*y2  # good\n",
    "v1_squared = x1d^2 + y1d^2\n",
    "v2_squared = x2d^2 + y2d^2\n",
    "T = sympy.simplify(0.5*m1*v1_squared + 0.5*m2*v2_squared)\n",
    "\n",
    "# Le Lagrangian\n",
    "L = sympy.trigsimp(T - U)\n",
    "L = L.subs(sympy.Derivative(q1(t), t), q1d(t))  # substitute d/dt q1(t) with q1d\n",
    "L = L.subs(sympy.Derivative(q2(t), t), q2d(t))  # substitute d/dt q2(t) with q2d\n",
    "\n",
    "# Lagrange-Euler Equation\n",
    "LE1 = diff(diff(L, q1d(t)), t) - diff(L, q1(t))  \n",
    "LE2 = diff(diff(L, q2d(t)), t) - diff(L, q2(t))\n",
    "LE = [LE1, LE2]\n",
    "# LE = sympy.trigsimp(LE)\n",
    "\n",
    "# subs first derivative\n",
    "LE = LE.subs(sympy.Derivative(q1(t), t), q1d(t))  # substitute d/dt q1(t) with q1d\n",
    "LE = LE.subs(sympy.Derivative(q2(t), t), q2d(t))  # substitute d/dt q2(t) with q2d\n",
    "# subs second derivative\n",
    "LE = LE.subs(sympy.Derivative(q1d(t), t), q1dd(t))  # substitute d/dt q1d(t) with q1dd\n",
    "LE = LE.subs(sympy.Derivative(q2d(t), t), q2dd(t))  # substitute d/dt q2d(t) with q2dd\n",
    "LE = sympy.expand(sympy.simplify(LE))\n",
    "\n",
    "# Generalized mass matrix\n",
    "# M1 = sympy.Poly(LE[1], q1dd(t)).coeffs()\n",
    "M11 = collect(LE[0], q1dd(t)).coeff(q1dd(t))\n",
    "M12 = collect(LE[0], q2dd(t)).coeff(q2dd(t))\n",
    "M21 = collect(LE[1], q1dd(t)).coeff(q1dd(t))\n",
    "M22 = collect(LE[1], q2dd(t)).coeff(q2dd(t))\n",
    "M = [[M11, M12] [M21, M22]]\n",
    "\n",
    "# Coriolis Matrix\n",
    "# BE CAREFUL about collecting coeffs -- check powers\n",
    "#=\n",
    "for n in 1:3\n",
    "    C11 += collect(LE[0], q1d(t)).coeff(q1d(t), n)\n",
    "    C12 += collect(LE[0], q2d(t)).coeff(q2d(t), n)\n",
    "    C21 += collect(LE[1], q1d(t)).coeff(q1d(t), n)\n",
    "    C22 += collect(LE[1], q2d(t)).coeff(q2d(t), n)\n",
    "end\n",
    "C = [C11*q1d(t) + C12*q2d(t), C21*q1d(t) + C22*q2d(t)]\n",
    "=# \n",
    "# Gravity Matrix\n",
    "G = LE\n",
    "G = G.subs(q1d(t), 0)  # must remove q derivative terms manually\n",
    "G = G.subs(q2d(t), 0)\n",
    "G = G.subs(q1dd(t), 0)\n",
    "G = G.subs(q2dd(t), 0)\n",
    "\n",
    "# assume anything without qdd minus G is C\n",
    "C = LE\n",
    "C = C.subs(q1dd(t), 0)\n",
    "C = C.subs(q2dd(t), 0)\n",
    "C = C - G\n",
    "\n",
    "LE"
   ]
  },
  {
   "cell_type": "code",
   "execution_count": 52,
   "id": "a5c504e3",
   "metadata": {},
   "outputs": [
    {
     "data": {
      "text/latex": [
       "$\\left[ \\begin{array}{rr}1.0 l_{1}^{2} m_{1} + l_{1}^{2} m_{2} + 2 l_{1} l_{2} m_{2} \\cos{\\left(\\operatorname{q_{2}}{\\left(t \\right)} \\right)} + l_{2}^{2} m_{2}&l_{1} l_{2} m_{2} \\cos{\\left(\\operatorname{q_{2}}{\\left(t \\right)} \\right)} + l_{2}^{2} m_{2}\\\\l_{1} l_{2} m_{2} \\cos{\\left(\\operatorname{q_{2}}{\\left(t \\right)} \\right)} + l_{2}^{2} m_{2}&l_{2}^{2} m_{2}\\end{array}\\right]$\n"
      ],
      "text/plain": [
       "2×2 Matrix{Sym}:\n",
       " 1.0*l1^2*m1 + l1^2*m2 + 2*l1*l2*m2*cos(q2(t)) + l2^2*m2  …  l1*l2*m2*cos(q2(t)) + l2^2*m2\n",
       "                           l1*l2*m2*cos(q2(t)) + l2^2*m2                           l2^2*m2"
      ]
     },
     "execution_count": 52,
     "metadata": {},
     "output_type": "execute_result"
    }
   ],
   "source": [
    "M"
   ]
  },
  {
   "cell_type": "code",
   "execution_count": 53,
   "id": "74065ea9",
   "metadata": {},
   "outputs": [
    {
     "data": {
      "text/latex": [
       "$\\begin{equation*}\\left[\\begin{matrix}- 2 l_{1} l_{2} m_{2} \\operatorname{q1d}{\\left(t \\right)} \\operatorname{q2d}{\\left(t \\right)} \\sin{\\left(\\operatorname{q_{2}}{\\left(t \\right)} \\right)} - l_{1} l_{2} m_{2} \\operatorname{q2d}^{2}{\\left(t \\right)} \\sin{\\left(\\operatorname{q_{2}}{\\left(t \\right)} \\right)}\\\\l_{1} l_{2} m_{2} \\operatorname{q1d}^{2}{\\left(t \\right)} \\sin{\\left(\\operatorname{q_{2}}{\\left(t \\right)} \\right)}\\end{matrix}\\right]\\end{equation*}$\n"
      ],
      "text/plain": [
       "⎡                                                   2              ⎤\n",
       "⎢-2⋅l₁⋅l₂⋅m₂⋅q1d(t)⋅q2d(t)⋅sin(q₂(t)) - l₁⋅l₂⋅m₂⋅q2d (t)⋅sin(q₂(t))⎥\n",
       "⎢                                                                  ⎥\n",
       "⎢                               2                                  ⎥\n",
       "⎣                   l₁⋅l₂⋅m₂⋅q1d (t)⋅sin(q₂(t))                    ⎦"
      ]
     },
     "execution_count": 53,
     "metadata": {},
     "output_type": "execute_result"
    }
   ],
   "source": [
    "C"
   ]
  },
  {
   "cell_type": "code",
   "execution_count": 54,
   "id": "f97e3464",
   "metadata": {},
   "outputs": [
    {
     "data": {
      "text/latex": [
       "$\\begin{equation*}\\left[\\begin{matrix}g l_{1} m_{1} \\cos{\\left(\\operatorname{q_{1}}{\\left(t \\right)} \\right)} + g l_{1} m_{2} \\cos{\\left(\\operatorname{q_{1}}{\\left(t \\right)} \\right)} + g l_{2} m_{2} \\cos{\\left(\\operatorname{q_{1}}{\\left(t \\right)} + \\operatorname{q_{2}}{\\left(t \\right)} \\right)}\\\\g l_{2} m_{2} \\cos{\\left(\\operatorname{q_{1}}{\\left(t \\right)} + \\operatorname{q_{2}}{\\left(t \\right)} \\right)}\\end{matrix}\\right]\\end{equation*}$\n"
      ],
      "text/plain": [
       "⎡g⋅l₁⋅m₁⋅cos(q₁(t)) + g⋅l₁⋅m₂⋅cos(q₁(t)) + g⋅l₂⋅m₂⋅cos(q₁(t) + q₂(t))⎤\n",
       "⎢                                                                    ⎥\n",
       "⎣                     g⋅l₂⋅m₂⋅cos(q₁(t) + q₂(t))                     ⎦"
      ]
     },
     "execution_count": 54,
     "metadata": {},
     "output_type": "execute_result"
    }
   ],
   "source": [
    "G"
   ]
  },
  {
   "cell_type": "code",
   "execution_count": 7,
   "id": "3cc8b5f4",
   "metadata": {
    "scrolled": true
   },
   "outputs": [],
   "source": [
    "# https://github.com/JuliaPy/SymPy.jl/blob/master/src/lambdify.jl\n",
    "# @syms q2\n",
    "# M11 = M11.subs(q2(t), q2)\n",
    "# gen_M11 = lambdify(M11) # , (\"q1(t)\", \"q2(t)\", \"q1d(t)\", \"q2d(t)\", \"q1dd(t)\", \"q2dd(t)\"))\n",
    "# gen_M11(1.0)"
   ]
  }
 ],
 "metadata": {
  "kernelspec": {
   "display_name": "Julia 1.6.2",
   "language": "julia",
   "name": "julia-1.6"
  },
  "language_info": {
   "file_extension": ".jl",
   "mimetype": "application/julia",
   "name": "julia",
   "version": "1.6.2"
  }
 },
 "nbformat": 4,
 "nbformat_minor": 5
}
