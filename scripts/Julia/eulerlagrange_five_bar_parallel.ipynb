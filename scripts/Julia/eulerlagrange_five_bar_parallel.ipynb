{
 "cells": [
  {
   "cell_type": "code",
   "execution_count": 1,
   "id": "4f78bd43",
   "metadata": {},
   "outputs": [
    {
     "name": "stderr",
     "output_type": "stream",
     "text": [
      "\u001b[32m\u001b[1m  Activating\u001b[22m\u001b[39m environment at `/mnt/064AC6424AC62E6D/git_workspace/flyhopper/scripts/Julia/Project.toml`\n"
     ]
    }
   ],
   "source": [
    "import Pkg; Pkg.activate(@__DIR__); Pkg.instantiate()"
   ]
  },
  {
   "cell_type": "code",
   "execution_count": 2,
   "id": "29380caa",
   "metadata": {},
   "outputs": [],
   "source": [
    "using SymPy"
   ]
  },
  {
   "cell_type": "code",
   "execution_count": 3,
   "id": "278ee553",
   "metadata": {
    "scrolled": false
   },
   "outputs": [
    {
     "data": {
      "text/latex": [
       "$\\begin{equation*}\\left[\\begin{matrix}g l_{0} m_{0} \\cos{\\left(\\operatorname{q_{0}}{\\left(t \\right)} \\right)} + g l_{0} m_{1} \\cos{\\left(\\operatorname{q_{0}}{\\left(t \\right)} \\right)} + g l_{1} m_{1} \\cos{\\left(\\operatorname{q_{0}}{\\left(t \\right)} + \\operatorname{q_{1}}{\\left(t \\right)} \\right)} + 1.0 l_{0}^{2} m_{0} \\operatorname{q0dd}{\\left(t \\right)} + l_{0}^{2} m_{1} \\operatorname{q0dd}{\\left(t \\right)} - 2 l_{0} l_{1} m_{1} \\operatorname{q0d}{\\left(t \\right)} \\operatorname{q1d}{\\left(t \\right)} \\sin{\\left(\\operatorname{q_{1}}{\\left(t \\right)} \\right)} + 2 l_{0} l_{1} m_{1} \\operatorname{q0dd}{\\left(t \\right)} \\cos{\\left(\\operatorname{q_{1}}{\\left(t \\right)} \\right)} - l_{0} l_{1} m_{1} \\operatorname{q1d}^{2}{\\left(t \\right)} \\sin{\\left(\\operatorname{q_{1}}{\\left(t \\right)} \\right)} + l_{0} l_{1} m_{1} \\operatorname{q1dd}{\\left(t \\right)} \\cos{\\left(\\operatorname{q_{1}}{\\left(t \\right)} \\right)} + l_{1}^{2} m_{1} \\operatorname{q0dd}{\\left(t \\right)} + l_{1}^{2} m_{1} \\operatorname{q1dd}{\\left(t \\right)}\\\\g l_{1} m_{1} \\cos{\\left(\\operatorname{q_{0}}{\\left(t \\right)} + \\operatorname{q_{1}}{\\left(t \\right)} \\right)} + l_{0} l_{1} m_{1} \\operatorname{q0d}^{2}{\\left(t \\right)} \\sin{\\left(\\operatorname{q_{1}}{\\left(t \\right)} \\right)} + l_{0} l_{1} m_{1} \\operatorname{q0dd}{\\left(t \\right)} \\cos{\\left(\\operatorname{q_{1}}{\\left(t \\right)} \\right)} + l_{1}^{2} m_{1} \\operatorname{q0dd}{\\left(t \\right)} + l_{1}^{2} m_{1} \\operatorname{q1dd}{\\left(t \\right)}\\\\g l_{2} m_{2} \\cos{\\left(\\operatorname{q_{2}}{\\left(t \\right)} \\right)} + g l_{2} m_{3} \\cos{\\left(\\operatorname{q_{2}}{\\left(t \\right)} \\right)} + g l_{34} m_{3} \\cos{\\left(\\operatorname{q_{2}}{\\left(t \\right)} + \\operatorname{q_{3}}{\\left(t \\right)} \\right)} + 1.0 l_{2}^{2} m_{2} \\operatorname{q2dd}{\\left(t \\right)} + l_{2}^{2} m_{3} \\operatorname{q2dd}{\\left(t \\right)} - 2 l_{2} l_{34} m_{3} \\operatorname{q2d}{\\left(t \\right)} \\operatorname{q3d}{\\left(t \\right)} \\sin{\\left(\\operatorname{q_{3}}{\\left(t \\right)} \\right)} + 2 l_{2} l_{34} m_{3} \\operatorname{q2dd}{\\left(t \\right)} \\cos{\\left(\\operatorname{q_{3}}{\\left(t \\right)} \\right)} - l_{2} l_{34} m_{3} \\operatorname{q3d}^{2}{\\left(t \\right)} \\sin{\\left(\\operatorname{q_{3}}{\\left(t \\right)} \\right)} + l_{2} l_{34} m_{3} \\operatorname{q3dd}{\\left(t \\right)} \\cos{\\left(\\operatorname{q_{3}}{\\left(t \\right)} \\right)} + l_{34}^{2} m_{3} \\operatorname{q2dd}{\\left(t \\right)} + l_{34}^{2} m_{3} \\operatorname{q3dd}{\\left(t \\right)}\\\\g l_{34} m_{3} \\cos{\\left(\\operatorname{q_{2}}{\\left(t \\right)} + \\operatorname{q_{3}}{\\left(t \\right)} \\right)} + l_{2} l_{34} m_{3} \\operatorname{q2d}^{2}{\\left(t \\right)} \\sin{\\left(\\operatorname{q_{3}}{\\left(t \\right)} \\right)} + l_{2} l_{34} m_{3} \\operatorname{q2dd}{\\left(t \\right)} \\cos{\\left(\\operatorname{q_{3}}{\\left(t \\right)} \\right)} + l_{34}^{2} m_{3} \\operatorname{q2dd}{\\left(t \\right)} + l_{34}^{2} m_{3} \\operatorname{q3dd}{\\left(t \\right)}\\end{matrix}\\right]\\end{equation*}$\n"
      ],
      "text/plain": [
       "⎡                                                                             \n",
       "⎢   g⋅l₀⋅m₀⋅cos(q₀(t)) + g⋅l₀⋅m₁⋅cos(q₀(t)) + g⋅l₁⋅m₁⋅cos(q₀(t) + q₁(t)) + 1.0\n",
       "⎢                                                                             \n",
       "⎢                                                                             \n",
       "⎢                                                                             \n",
       "⎢                                                                             \n",
       "⎢                                                                             \n",
       "⎢g⋅l₂⋅m₂⋅cos(q₂(t)) + g⋅l₂⋅m₃⋅cos(q₂(t)) + g⋅l₃₄⋅m₃⋅cos(q₂(t) + q₃(t)) + 1.0⋅l\n",
       "⎢                                                                             \n",
       "⎢                                                                             \n",
       "⎣                                                                            g\n",
       "\n",
       "   2                2                                                         \n",
       "⋅l₀ ⋅m₀⋅q0dd(t) + l₀ ⋅m₁⋅q0dd(t) - 2⋅l₀⋅l₁⋅m₁⋅q0d(t)⋅q1d(t)⋅sin(q₁(t)) + 2⋅l₀⋅\n",
       "                                                                              \n",
       "                                          2                                   \n",
       " g⋅l₁⋅m₁⋅cos(q₀(t) + q₁(t)) + l₀⋅l₁⋅m₁⋅q0d (t)⋅sin(q₁(t)) + l₀⋅l₁⋅m₁⋅q0dd(t)⋅c\n",
       "                                                                              \n",
       " 2                2                                                           \n",
       "₂ ⋅m₂⋅q2dd(t) + l₂ ⋅m₃⋅q2dd(t) - 2⋅l₂⋅l₃₄⋅m₃⋅q2d(t)⋅q3d(t)⋅sin(q₃(t)) + 2⋅l₂⋅l\n",
       "                                                                              \n",
       "                                          2                                   \n",
       "⋅l₃₄⋅m₃⋅cos(q₂(t) + q₃(t)) + l₂⋅l₃₄⋅m₃⋅q2d (t)⋅sin(q₃(t)) + l₂⋅l₃₄⋅m₃⋅q2dd(t)⋅\n",
       "\n",
       "                                       2                                      \n",
       "l₁⋅m₁⋅q0dd(t)⋅cos(q₁(t)) - l₀⋅l₁⋅m₁⋅q1d (t)⋅sin(q₁(t)) + l₀⋅l₁⋅m₁⋅q1dd(t)⋅cos(\n",
       "                                                                              \n",
       "              2                2                                              \n",
       "os(q₁(t)) + l₁ ⋅m₁⋅q0dd(t) + l₁ ⋅m₁⋅q1dd(t)                                   \n",
       "                                                                              \n",
       "                                        2                                     \n",
       "₃₄⋅m₃⋅q2dd(t)⋅cos(q₃(t)) - l₂⋅l₃₄⋅m₃⋅q3d (t)⋅sin(q₃(t)) + l₂⋅l₃₄⋅m₃⋅q3dd(t)⋅co\n",
       "                                                                              \n",
       "                2                 2                                           \n",
       "cos(q₃(t)) + l₃₄ ⋅m₃⋅q2dd(t) + l₃₄ ⋅m₃⋅q3dd(t)                                \n",
       "\n",
       "           2                2               ⎤\n",
       "q₁(t)) + l₁ ⋅m₁⋅q0dd(t) + l₁ ⋅m₁⋅q1dd(t)    ⎥\n",
       "                                            ⎥\n",
       "                                            ⎥\n",
       "                                            ⎥\n",
       "                                            ⎥\n",
       "              2                 2           ⎥\n",
       "s(q₃(t)) + l₃₄ ⋅m₃⋅q2dd(t) + l₃₄ ⋅m₃⋅q3dd(t)⎥\n",
       "                                            ⎥\n",
       "                                            ⎥\n",
       "                                            ⎦"
      ]
     },
     "execution_count": 3,
     "metadata": {},
     "output_type": "execute_result"
    }
   ],
   "source": [
    "# generate manipulator equation\n",
    "# TODO: Switch to Symbolics.jl\n",
    "sympy.init_printing(use_unicode=True)\n",
    "\n",
    "@syms m0, m1, m2, m3, g, l0, l1, l2, l34\n",
    "@syms q0()::real t\n",
    "@syms q1()::real t\n",
    "@syms q2()::real t\n",
    "@syms q3()::real t\n",
    "@syms q0d()::real t\n",
    "@syms q1d()::real t\n",
    "@syms q2d()::real t\n",
    "@syms q3d()::real t\n",
    "@syms q0dd()::real t\n",
    "@syms q1dd()::real t\n",
    "@syms q2dd()::real t\n",
    "@syms q3dd()::real t\n",
    "\n",
    "# l34 = l3 + l4  # last link is split into l3 and l4 to mark parallel joint constraint\n",
    "# Important: Assumes massless links with point masses on link ends\n",
    "x0 = l0*sympy.cos(q0(t))\n",
    "y0 = l0*sympy.sin(q0(t))\n",
    "x1 = l0*sympy.cos(q0(t)) + l1*sympy.cos(q0(t) + q1(t))\n",
    "y1 = l0*sympy.sin(q0(t)) + l1*sympy.sin(q0(t) + q1(t))\n",
    "\n",
    "x2 = l2*sympy.cos(q2(t))\n",
    "y2 = l2*sympy.sin(q2(t))\n",
    "x3 = l2*sympy.cos(q2(t)) + l34*sympy.cos(q2(t) + q3(t))\n",
    "y3 = l2*sympy.sin(q2(t)) + l34*sympy.sin(q2(t) + q3(t))\n",
    "\n",
    "x0d = diff(x0, t)\n",
    "y0d = diff(y0, t)\n",
    "x1d = diff(x1, t)\n",
    "y1d = diff(y1, t)\n",
    "x2d = diff(x2, t)\n",
    "y2d = diff(y2, t)\n",
    "x3d = diff(x3, t)\n",
    "y3d = diff(y3, t)\n",
    "\n",
    "U0 = m0*g*y0 + m1*g*y1\n",
    "U2 = m2*g*y2 + m3*g*y3\n",
    "\n",
    "v0_squared = x0d^2 + y0d^2\n",
    "v1_squared = x1d^2 + y1d^2\n",
    "v2_squared = x2d^2 + y2d^2\n",
    "v3_squared = x3d^2 + y3d^2\n",
    "T0 = sympy.simplify(0.5*m0*v0_squared + 0.5*m1*v1_squared)\n",
    "T2 = sympy.simplify(0.5*m2*v2_squared + 0.5*m3*v3_squared)\n",
    "\n",
    "U = U0 + U2\n",
    "T = T0 + T2\n",
    "\n",
    "# Le Lagrangian\n",
    "L = sympy.trigsimp(T - U)\n",
    "L = L.subs(sympy.Derivative(q0(t), t), q0d(t))  # substitute d/dt q2(t) with q2d\n",
    "L = L.subs(sympy.Derivative(q1(t), t), q1d(t))  # substitute d/dt q1(t) with q1d\n",
    "L = L.subs(sympy.Derivative(q2(t), t), q2d(t))  # substitute d/dt q2(t) with q2d\n",
    "L = L.subs(sympy.Derivative(q3(t), t), q3d(t))  # substitute d/dt q2(t) with q2d\n",
    "\n",
    "# Lagrange-Euler Equation\n",
    "LE0 = diff(diff(L, q0d(t)), t) - diff(L, q0(t))\n",
    "LE1 = diff(diff(L, q1d(t)), t) - diff(L, q1(t))  \n",
    "LE2 = diff(diff(L, q2d(t)), t) - diff(L, q2(t))\n",
    "LE3 = diff(diff(L, q3d(t)), t) - diff(L, q3(t))\n",
    "LE = [LE0, LE1, LE2, LE3]\n",
    "# LE = sympy.trigsimp(LE)\n",
    "\n",
    "# subs first derivative\n",
    "LE = LE.subs(sympy.Derivative(q0(t), t), q0d(t))  # substitute d/dt q1(t) with q1d\n",
    "LE = LE.subs(sympy.Derivative(q1(t), t), q1d(t))  # substitute d/dt q1(t) with q1d\n",
    "LE = LE.subs(sympy.Derivative(q2(t), t), q2d(t))  # substitute d/dt q2(t) with q2d\n",
    "LE = LE.subs(sympy.Derivative(q3(t), t), q3d(t))  # substitute d/dt q1(t) with q1d\n",
    "# subs second derivative\n",
    "LE = LE.subs(sympy.Derivative(q0d(t), t), q0dd(t))  # substitute d/dt q1d(t) with q1dd\n",
    "LE = LE.subs(sympy.Derivative(q1d(t), t), q1dd(t))  # substitute d/dt q1d(t) with q1dd\n",
    "LE = LE.subs(sympy.Derivative(q2d(t), t), q2dd(t))  # substitute d/dt q2d(t) with q2dd\n",
    "LE = LE.subs(sympy.Derivative(q3d(t), t), q3dd(t))  # substitute d/dt q1d(t) with q1dd\n",
    "LE = sympy.expand(sympy.simplify(LE))\n",
    "\n",
    "# Generalized mass matrix\n",
    "# M1 = sympy.Poly(LE[1], q1dd(t)).coeffs()\n",
    "M11 = collect(LE[0], q0dd(t)).coeff(q0dd(t))\n",
    "M12 = collect(LE[0], q1dd(t)).coeff(q1dd(t))\n",
    "M13 = collect(LE[0], q2dd(t)).coeff(q2dd(t))\n",
    "M14 = collect(LE[0], q3dd(t)).coeff(q3dd(t))\n",
    "\n",
    "M21 = collect(LE[1], q0dd(t)).coeff(q0dd(t))\n",
    "M22 = collect(LE[1], q1dd(t)).coeff(q1dd(t))\n",
    "M23 = collect(LE[1], q2dd(t)).coeff(q2dd(t))\n",
    "M24 = collect(LE[1], q3dd(t)).coeff(q3dd(t))\n",
    "\n",
    "M31 = collect(LE[2], q0dd(t)).coeff(q0dd(t))\n",
    "M32 = collect(LE[2], q1dd(t)).coeff(q1dd(t))\n",
    "M33 = collect(LE[2], q2dd(t)).coeff(q2dd(t))\n",
    "M34 = collect(LE[2], q3dd(t)).coeff(q3dd(t))\n",
    "\n",
    "M41 = collect(LE[3], q0dd(t)).coeff(q0dd(t))\n",
    "M42 = collect(LE[3], q1dd(t)).coeff(q1dd(t))\n",
    "M43 = collect(LE[3], q2dd(t)).coeff(q2dd(t))\n",
    "M44 = collect(LE[3], q3dd(t)).coeff(q3dd(t))\n",
    "\n",
    "M = [M11 M12 M13 M14;\n",
    "     M21 M22 M23 M24;\n",
    "     M31 M32 M33 M34;\n",
    "     M41 M42 M43 M44]\n",
    "\n",
    "# Gravity Matrix\n",
    "G = LE\n",
    "G = G.subs(q0d(t), 0)\n",
    "G = G.subs(q1d(t), 0)  # must remove q derivative terms manually\n",
    "G = G.subs(q2d(t), 0)\n",
    "G = G.subs(q3d(t), 0)\n",
    "G = G.subs(q0dd(t), 0)\n",
    "G = G.subs(q1dd(t), 0)\n",
    "G = G.subs(q2dd(t), 0)\n",
    "G = G.subs(q3dd(t), 0)\n",
    "\n",
    "# Coriolis Matrix\n",
    "# assume anything without qdd minus G is C\n",
    "C = LE\n",
    "C = C.subs(q0dd(t), 0)\n",
    "C = C.subs(q1dd(t), 0)\n",
    "C = C.subs(q2dd(t), 0)\n",
    "C = C.subs(q3dd(t), 0)\n",
    "C = C - G\n",
    "\n",
    "LE"
   ]
  },
  {
   "cell_type": "code",
   "execution_count": 4,
   "id": "aaee76ab",
   "metadata": {},
   "outputs": [
    {
     "name": "stdout",
     "output_type": "stream",
     "text": [
      "M = Sym[1.0*l0^2*m0 + l0^2*m1 + 2*l0*l1*m1*cos(q1(t)) + l1^2*m1 l0*l1*m1*cos(q1(t)) + l1^2*m1 0 0; l0*l1*m1*cos(q1(t)) + l1^2*m1 l1^2*m1 0 0; 0 0 1.0*l2^2*m2 + l2^2*m3 + 2*l2*l34*m3*cos(q3(t)) + l34^2*m3 l2*l34*m3*cos(q3(t)) + l34^2*m3; 0 0 l2*l34*m3*cos(q3(t)) + l34^2*m3 l34^2*m3]\n"
     ]
    },
    {
     "data": {
      "text/latex": [
       "$\\left[ \\begin{array}{rrrr}1.0 l_{0}^{2} m_{0} + l_{0}^{2} m_{1} + 2 l_{0} l_{1} m_{1} \\cos{\\left(\\operatorname{q_{1}}{\\left(t \\right)} \\right)} + l_{1}^{2} m_{1}&l_{0} l_{1} m_{1} \\cos{\\left(\\operatorname{q_{1}}{\\left(t \\right)} \\right)} + l_{1}^{2} m_{1}&0&0\\\\l_{0} l_{1} m_{1} \\cos{\\left(\\operatorname{q_{1}}{\\left(t \\right)} \\right)} + l_{1}^{2} m_{1}&l_{1}^{2} m_{1}&0&0\\\\0&0&1.0 l_{2}^{2} m_{2} + l_{2}^{2} m_{3} + 2 l_{2} l_{34} m_{3} \\cos{\\left(\\operatorname{q_{3}}{\\left(t \\right)} \\right)} + l_{34}^{2} m_{3}&l_{2} l_{34} m_{3} \\cos{\\left(\\operatorname{q_{3}}{\\left(t \\right)} \\right)} + l_{34}^{2} m_{3}\\\\0&0&l_{2} l_{34} m_{3} \\cos{\\left(\\operatorname{q_{3}}{\\left(t \\right)} \\right)} + l_{34}^{2} m_{3}&l_{34}^{2} m_{3}\\end{array}\\right]$\n"
      ],
      "text/plain": [
       "4×4 Matrix{Sym}:\n",
       " 1.0*l0^2*m0 + l0^2*m1 + 2*l0*l1*m1*cos(q1(t)) + l1^2*m1  …                                0\n",
       "                           l0*l1*m1*cos(q1(t)) + l1^2*m1                                   0\n",
       "                                                       0     l2*l34*m3*cos(q3(t)) + l34^2*m3\n",
       "                                                       0                            l34^2*m3"
      ]
     },
     "execution_count": 4,
     "metadata": {},
     "output_type": "execute_result"
    }
   ],
   "source": [
    "@show M"
   ]
  },
  {
   "cell_type": "code",
   "execution_count": 5,
   "id": "131f7b0f",
   "metadata": {},
   "outputs": [
    {
     "name": "stdout",
     "output_type": "stream",
     "text": [
      "C = SymMatrix(PyObject Matrix([\n",
      "[  -2*l0*l1*m1*q0d(t)*q1d(t)*sin(q1(t)) - l0*l1*m1*q1d(t)**2*sin(q1(t))],\n",
      "[                                         l0*l1*m1*q0d(t)**2*sin(q1(t))],\n",
      "[-2*l2*l34*m3*q2d(t)*q3d(t)*sin(q3(t)) - l2*l34*m3*q3d(t)**2*sin(q3(t))],\n",
      "[                                        l2*l34*m3*q2d(t)**2*sin(q3(t))]]))\n"
     ]
    },
    {
     "data": {
      "text/latex": [
       "$\\begin{equation*}\\left[\\begin{matrix}- 2 l_{0} l_{1} m_{1} \\operatorname{q0d}{\\left(t \\right)} \\operatorname{q1d}{\\left(t \\right)} \\sin{\\left(\\operatorname{q_{1}}{\\left(t \\right)} \\right)} - l_{0} l_{1} m_{1} \\operatorname{q1d}^{2}{\\left(t \\right)} \\sin{\\left(\\operatorname{q_{1}}{\\left(t \\right)} \\right)}\\\\l_{0} l_{1} m_{1} \\operatorname{q0d}^{2}{\\left(t \\right)} \\sin{\\left(\\operatorname{q_{1}}{\\left(t \\right)} \\right)}\\\\- 2 l_{2} l_{34} m_{3} \\operatorname{q2d}{\\left(t \\right)} \\operatorname{q3d}{\\left(t \\right)} \\sin{\\left(\\operatorname{q_{3}}{\\left(t \\right)} \\right)} - l_{2} l_{34} m_{3} \\operatorname{q3d}^{2}{\\left(t \\right)} \\sin{\\left(\\operatorname{q_{3}}{\\left(t \\right)} \\right)}\\\\l_{2} l_{34} m_{3} \\operatorname{q2d}^{2}{\\left(t \\right)} \\sin{\\left(\\operatorname{q_{3}}{\\left(t \\right)} \\right)}\\end{matrix}\\right]\\end{equation*}$\n"
      ],
      "text/plain": [
       "⎡                                                    2               ⎤\n",
       "⎢ -2⋅l₀⋅l₁⋅m₁⋅q0d(t)⋅q1d(t)⋅sin(q₁(t)) - l₀⋅l₁⋅m₁⋅q1d (t)⋅sin(q₁(t)) ⎥\n",
       "⎢                                                                    ⎥\n",
       "⎢                                2                                   ⎥\n",
       "⎢                    l₀⋅l₁⋅m₁⋅q0d (t)⋅sin(q₁(t))                     ⎥\n",
       "⎢                                                                    ⎥\n",
       "⎢                                                     2              ⎥\n",
       "⎢-2⋅l₂⋅l₃₄⋅m₃⋅q2d(t)⋅q3d(t)⋅sin(q₃(t)) - l₂⋅l₃₄⋅m₃⋅q3d (t)⋅sin(q₃(t))⎥\n",
       "⎢                                                                    ⎥\n",
       "⎢                                 2                                  ⎥\n",
       "⎣                    l₂⋅l₃₄⋅m₃⋅q2d (t)⋅sin(q₃(t))                    ⎦"
      ]
     },
     "execution_count": 5,
     "metadata": {},
     "output_type": "execute_result"
    }
   ],
   "source": [
    "@show C"
   ]
  },
  {
   "cell_type": "code",
   "execution_count": 6,
   "id": "c80300cc",
   "metadata": {},
   "outputs": [
    {
     "name": "stdout",
     "output_type": "stream",
     "text": [
      "G = SymMatrix(PyObject Matrix([\n",
      "[ g*l0*m0*cos(q0(t)) + g*l0*m1*cos(q0(t)) + g*l1*m1*cos(q0(t) + q1(t))],\n",
      "[                                           g*l1*m1*cos(q0(t) + q1(t))],\n",
      "[g*l2*m2*cos(q2(t)) + g*l2*m3*cos(q2(t)) + g*l34*m3*cos(q2(t) + q3(t))],\n",
      "[                                          g*l34*m3*cos(q2(t) + q3(t))]]))\n"
     ]
    },
    {
     "data": {
      "text/latex": [
       "$\\begin{equation*}\\left[\\begin{matrix}g l_{0} m_{0} \\cos{\\left(\\operatorname{q_{0}}{\\left(t \\right)} \\right)} + g l_{0} m_{1} \\cos{\\left(\\operatorname{q_{0}}{\\left(t \\right)} \\right)} + g l_{1} m_{1} \\cos{\\left(\\operatorname{q_{0}}{\\left(t \\right)} + \\operatorname{q_{1}}{\\left(t \\right)} \\right)}\\\\g l_{1} m_{1} \\cos{\\left(\\operatorname{q_{0}}{\\left(t \\right)} + \\operatorname{q_{1}}{\\left(t \\right)} \\right)}\\\\g l_{2} m_{2} \\cos{\\left(\\operatorname{q_{2}}{\\left(t \\right)} \\right)} + g l_{2} m_{3} \\cos{\\left(\\operatorname{q_{2}}{\\left(t \\right)} \\right)} + g l_{34} m_{3} \\cos{\\left(\\operatorname{q_{2}}{\\left(t \\right)} + \\operatorname{q_{3}}{\\left(t \\right)} \\right)}\\\\g l_{34} m_{3} \\cos{\\left(\\operatorname{q_{2}}{\\left(t \\right)} + \\operatorname{q_{3}}{\\left(t \\right)} \\right)}\\end{matrix}\\right]\\end{equation*}$\n"
      ],
      "text/plain": [
       "⎡g⋅l₀⋅m₀⋅cos(q₀(t)) + g⋅l₀⋅m₁⋅cos(q₀(t)) + g⋅l₁⋅m₁⋅cos(q₀(t) + q₁(t)) ⎤\n",
       "⎢                                                                     ⎥\n",
       "⎢                     g⋅l₁⋅m₁⋅cos(q₀(t) + q₁(t))                      ⎥\n",
       "⎢                                                                     ⎥\n",
       "⎢g⋅l₂⋅m₂⋅cos(q₂(t)) + g⋅l₂⋅m₃⋅cos(q₂(t)) + g⋅l₃₄⋅m₃⋅cos(q₂(t) + q₃(t))⎥\n",
       "⎢                                                                     ⎥\n",
       "⎣                     g⋅l₃₄⋅m₃⋅cos(q₂(t) + q₃(t))                     ⎦"
      ]
     },
     "execution_count": 6,
     "metadata": {},
     "output_type": "execute_result"
    }
   ],
   "source": [
    "@show G"
   ]
  },
  {
   "cell_type": "code",
   "execution_count": 9,
   "id": "b700d5a1",
   "metadata": {},
   "outputs": [
    {
     "name": "stdout",
     "output_type": "stream",
     "text": [
      "T = 0.5*l0^2*m0*q0d(t)^2 + 0.5*l2^2*m2*q2d(t)^2 + 0.5*m1*(l0^2*q0d(t)^2 + 2*l0*l1*q0d(t)^2*cos(q1(t)) + 2*l0*l1*q0d(t)*q1d(t)*cos(q1(t)) + l1^2*q0d(t)^2 + 2*l1^2*q0d(t)*q1d(t) + l1^2*q1d(t)^2) + 0.5*m3*(l2^2*q2d(t)^2 + 2*l2*l34*q2d(t)^2*cos(q3(t)) + 2*l2*l34*q2d(t)*q3d(t)*cos(q3(t)) + l34^2*q2d(t)^2 + 2*l34^2*q2d(t)*q3d(t) + l34^2*q3d(t)^2)\n"
     ]
    },
    {
     "data": {
      "text/latex": [
       "$\\begin{equation*}0.5 l_{0}^{2} m_{0} \\operatorname{q0d}^{2}{\\left(t \\right)} + 0.5 l_{2}^{2} m_{2} \\operatorname{q2d}^{2}{\\left(t \\right)} + 0.5 m_{1} \\left(l_{0}^{2} \\operatorname{q0d}^{2}{\\left(t \\right)} + 2 l_{0} l_{1} \\operatorname{q0d}^{2}{\\left(t \\right)} \\cos{\\left(\\operatorname{q_{1}}{\\left(t \\right)} \\right)} + 2 l_{0} l_{1} \\operatorname{q0d}{\\left(t \\right)} \\operatorname{q1d}{\\left(t \\right)} \\cos{\\left(\\operatorname{q_{1}}{\\left(t \\right)} \\right)} + l_{1}^{2} \\operatorname{q0d}^{2}{\\left(t \\right)} + 2 l_{1}^{2} \\operatorname{q0d}{\\left(t \\right)} \\operatorname{q1d}{\\left(t \\right)} + l_{1}^{2} \\operatorname{q1d}^{2}{\\left(t \\right)}\\right) + 0.5 m_{3} \\left(l_{2}^{2} \\operatorname{q2d}^{2}{\\left(t \\right)} + 2 l_{2} l_{34} \\operatorname{q2d}^{2}{\\left(t \\right)} \\cos{\\left(\\operatorname{q_{3}}{\\left(t \\right)} \\right)} + 2 l_{2} l_{34} \\operatorname{q2d}{\\left(t \\right)} \\operatorname{q3d}{\\left(t \\right)} \\cos{\\left(\\operatorname{q_{3}}{\\left(t \\right)} \\right)} + l_{34}^{2} \\operatorname{q2d}^{2}{\\left(t \\right)} + 2 l_{34}^{2} \\operatorname{q2d}{\\left(t \\right)} \\operatorname{q3d}{\\left(t \\right)} + l_{34}^{2} \\operatorname{q3d}^{2}{\\left(t \\right)}\\right)\\end{equation*}$\n"
      ],
      "text/plain": [
       "      2       2            2       2             ⎛  2    2                 2  \n",
       "0.5⋅l₀ ⋅m₀⋅q0d (t) + 0.5⋅l₂ ⋅m₂⋅q2d (t) + 0.5⋅m₁⋅⎝l₀ ⋅q0d (t) + 2⋅l₀⋅l₁⋅q0d (t\n",
       "\n",
       "                                                    2    2          2         \n",
       ")⋅cos(q₁(t)) + 2⋅l₀⋅l₁⋅q0d(t)⋅q1d(t)⋅cos(q₁(t)) + l₁ ⋅q0d (t) + 2⋅l₁ ⋅q0d(t)⋅q\n",
       "\n",
       "          2    2   ⎞          ⎛  2    2                  2                    \n",
       "1d(t) + l₁ ⋅q1d (t)⎠ + 0.5⋅m₃⋅⎝l₂ ⋅q2d (t) + 2⋅l₂⋅l₃₄⋅q2d (t)⋅cos(q₃(t)) + 2⋅l\n",
       "\n",
       "                                    2    2           2                    2   \n",
       "₂⋅l₃₄⋅q2d(t)⋅q3d(t)⋅cos(q₃(t)) + l₃₄ ⋅q2d (t) + 2⋅l₃₄ ⋅q2d(t)⋅q3d(t) + l₃₄ ⋅q3\n",
       "\n",
       " 2   ⎞\n",
       "d (t)⎠"
      ]
     },
     "execution_count": 9,
     "metadata": {},
     "output_type": "execute_result"
    }
   ],
   "source": [
    "T = T.subs(sympy.Derivative(q0(t), t), q0d(t))  # substitute d/dt q2(t) with q2d\n",
    "T = T.subs(sympy.Derivative(q1(t), t), q1d(t))  # substitute d/dt q1(t) with q1d\n",
    "T = T.subs(sympy.Derivative(q2(t), t), q2d(t))  # substitute d/dt q2(t) with q2d\n",
    "T = T.subs(sympy.Derivative(q3(t), t), q3d(t))  # substitute d/dt q2(t) with q2d\n",
    "@show T"
   ]
  },
  {
   "cell_type": "code",
   "execution_count": null,
   "id": "8caa7bb3",
   "metadata": {},
   "outputs": [],
   "source": []
  }
 ],
 "metadata": {
  "kernelspec": {
   "display_name": "Julia 1.6.3",
   "language": "julia",
   "name": "julia-1.6"
  },
  "language_info": {
   "file_extension": ".jl",
   "mimetype": "application/julia",
   "name": "julia",
   "version": "1.6.3"
  }
 },
 "nbformat": 4,
 "nbformat_minor": 5
}
