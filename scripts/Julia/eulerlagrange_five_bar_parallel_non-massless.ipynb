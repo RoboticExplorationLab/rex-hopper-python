{
 "cells": [
  {
   "cell_type": "code",
   "execution_count": 1,
   "id": "90a569b7",
   "metadata": {},
   "outputs": [
    {
     "name": "stderr",
     "output_type": "stream",
     "text": [
      "\u001b[32m\u001b[1m  Activating\u001b[22m\u001b[39m environment at `/mnt/064AC6424AC62E6D/git_workspace/flyhopper/scripts/Julia/Project.toml`\n"
     ]
    }
   ],
   "source": [
    "import Pkg; Pkg.activate(@__DIR__); Pkg.instantiate()"
   ]
  },
  {
   "cell_type": "code",
   "execution_count": 2,
   "id": "fda07f8e",
   "metadata": {},
   "outputs": [],
   "source": [
    "using SymPy"
   ]
  },
  {
   "cell_type": "code",
   "execution_count": 12,
   "id": "595f965c",
   "metadata": {
    "scrolled": false
   },
   "outputs": [
    {
     "data": {
      "text/latex": [
       "$\\begin{equation*}\\left[\\begin{matrix}1.0 I_{0} \\operatorname{q0dd}{\\left(t \\right)} + g l_{0} m_{1} \\cos{\\left(\\operatorname{q_{0}}{\\left(t \\right)} \\right)} + g l_{c0} m_{0} \\cos{\\left(\\alpha_{0} + \\operatorname{q_{0}}{\\left(t \\right)} \\right)} + g l_{c1} m_{1} \\cos{\\left(\\operatorname{q_{0}}{\\left(t \\right)} + \\operatorname{q_{1}}{\\left(t \\right)} \\right)} + l_{0}^{2} m_{1} \\operatorname{q0dd}{\\left(t \\right)} - 2 l_{0} l_{c1} m_{1} \\operatorname{q0d}{\\left(t \\right)} \\operatorname{q1d}{\\left(t \\right)} \\sin{\\left(\\operatorname{q_{1}}{\\left(t \\right)} \\right)} + 2 l_{0} l_{c1} m_{1} \\operatorname{q0dd}{\\left(t \\right)} \\cos{\\left(\\operatorname{q_{1}}{\\left(t \\right)} \\right)} - l_{0} l_{c1} m_{1} \\operatorname{q1d}^{2}{\\left(t \\right)} \\sin{\\left(\\operatorname{q_{1}}{\\left(t \\right)} \\right)} + l_{0} l_{c1} m_{1} \\operatorname{q1dd}{\\left(t \\right)} \\cos{\\left(\\operatorname{q_{1}}{\\left(t \\right)} \\right)} + 1.0 l_{c0}^{2} m_{0} \\operatorname{q0dd}{\\left(t \\right)} + l_{c1}^{2} m_{1} \\operatorname{q0dd}{\\left(t \\right)} + l_{c1}^{2} m_{1} \\operatorname{q1dd}{\\left(t \\right)}\\\\1.0 I_{1} \\operatorname{q1dd}{\\left(t \\right)} + 1.0 g l_{c1} m_{1} \\cos{\\left(\\operatorname{q_{0}}{\\left(t \\right)} + \\operatorname{q_{1}}{\\left(t \\right)} \\right)} + 1.0 l_{0} l_{c1} m_{1} \\operatorname{q0d}^{2}{\\left(t \\right)} \\sin{\\left(\\operatorname{q_{1}}{\\left(t \\right)} \\right)} + 1.0 l_{0} l_{c1} m_{1} \\operatorname{q0dd}{\\left(t \\right)} \\cos{\\left(\\operatorname{q_{1}}{\\left(t \\right)} \\right)} + 1.0 l_{c1}^{2} m_{1} \\operatorname{q0dd}{\\left(t \\right)} + 1.0 l_{c1}^{2} m_{1} \\operatorname{q1dd}{\\left(t \\right)}\\\\1.0 I_{2} \\operatorname{q2dd}{\\left(t \\right)} + g l_{2} m_{3} \\cos{\\left(\\operatorname{q_{2}}{\\left(t \\right)} \\right)} + g l_{c2} m_{2} \\cos{\\left(\\operatorname{q_{2}}{\\left(t \\right)} \\right)} + g l_{cee} m_{3} \\cos{\\left(\\alpha_{3} + \\operatorname{q_{2}}{\\left(t \\right)} + \\operatorname{q_{3}}{\\left(t \\right)} \\right)} + l_{2}^{2} m_{3} \\operatorname{q2dd}{\\left(t \\right)} - 2 l_{2} l_{cee} m_{3} \\operatorname{q2d}{\\left(t \\right)} \\operatorname{q3d}{\\left(t \\right)} \\sin{\\left(\\alpha_{3} + \\operatorname{q_{3}}{\\left(t \\right)} \\right)} + 2 l_{2} l_{cee} m_{3} \\operatorname{q2dd}{\\left(t \\right)} \\cos{\\left(\\alpha_{3} + \\operatorname{q_{3}}{\\left(t \\right)} \\right)} - l_{2} l_{cee} m_{3} \\operatorname{q3d}^{2}{\\left(t \\right)} \\sin{\\left(\\alpha_{3} + \\operatorname{q_{3}}{\\left(t \\right)} \\right)} + l_{2} l_{cee} m_{3} \\operatorname{q3dd}{\\left(t \\right)} \\cos{\\left(\\alpha_{3} + \\operatorname{q_{3}}{\\left(t \\right)} \\right)} + 1.0 l_{c2}^{2} m_{2} \\operatorname{q2dd}{\\left(t \\right)} + l_{cee}^{2} m_{3} \\operatorname{q2dd}{\\left(t \\right)} + l_{cee}^{2} m_{3} \\operatorname{q3dd}{\\left(t \\right)}\\\\1.0 I_{3} \\operatorname{q3dd}{\\left(t \\right)} + 1.0 g l_{cee} m_{3} \\cos{\\left(\\alpha_{3} + \\operatorname{q_{2}}{\\left(t \\right)} + \\operatorname{q_{3}}{\\left(t \\right)} \\right)} + 1.0 l_{2} l_{cee} m_{3} \\operatorname{q2d}^{2}{\\left(t \\right)} \\sin{\\left(\\alpha_{3} + \\operatorname{q_{3}}{\\left(t \\right)} \\right)} + 1.0 l_{2} l_{cee} m_{3} \\operatorname{q2dd}{\\left(t \\right)} \\cos{\\left(\\alpha_{3} + \\operatorname{q_{3}}{\\left(t \\right)} \\right)} + 1.0 l_{cee}^{2} m_{3} \\operatorname{q2dd}{\\left(t \\right)} + 1.0 l_{cee}^{2} m_{3} \\operatorname{q3dd}{\\left(t \\right)}\\end{matrix}\\right]\\end{equation*}$\n"
      ],
      "text/plain": [
       "⎡                                                                             \n",
       "⎢             1.0⋅I₀⋅q0dd(t) + g⋅l₀⋅m₁⋅cos(q₀(t)) + g⋅l_c0⋅m₀⋅cos(α₀ + q₀(t)) \n",
       "⎢                                                                             \n",
       "⎢                                                                             \n",
       "⎢                                                                             \n",
       "⎢                                                                             \n",
       "⎢                                                                             \n",
       "⎢1.0⋅I₂⋅q2dd(t) + g⋅l₂⋅m₃⋅cos(q₂(t)) + g⋅l_c2⋅m₂⋅cos(q₂(t)) + g⋅l_cee⋅m₃⋅cos(α\n",
       "⎢                                                                             \n",
       "⎢                                                                             \n",
       "⎣                                                                           1.\n",
       "\n",
       "                                   2                                          \n",
       "+ g⋅l_c1⋅m₁⋅cos(q₀(t) + q₁(t)) + l₀ ⋅m₁⋅q0dd(t) - 2⋅l₀⋅l_c1⋅m₁⋅q0d(t)⋅q1d(t)⋅s\n",
       "                                                                              \n",
       "                                                                              \n",
       "        1.0⋅I₁⋅q1dd(t) + 1.0⋅g⋅l_c1⋅m₁⋅cos(q₀(t) + q₁(t)) + 1.0⋅l₀⋅l_c1⋅m₁⋅q0d\n",
       "                                                                              \n",
       "                       2                                                      \n",
       "₃ + q₂(t) + q₃(t)) + l₂ ⋅m₃⋅q2dd(t) - 2⋅l₂⋅l_cee⋅m₃⋅q2d(t)⋅q3d(t)⋅sin(α₃ + q₃(\n",
       "                                                                              \n",
       "                                                                           2  \n",
       "0⋅I₃⋅q3dd(t) + 1.0⋅g⋅l_cee⋅m₃⋅cos(α₃ + q₂(t) + q₃(t)) + 1.0⋅l₂⋅l_cee⋅m₃⋅q2d (t\n",
       "\n",
       "                                                            2                 \n",
       "in(q₁(t)) + 2⋅l₀⋅l_c1⋅m₁⋅q0dd(t)⋅cos(q₁(t)) - l₀⋅l_c1⋅m₁⋅q1d (t)⋅sin(q₁(t)) + \n",
       "                                                                              \n",
       "2                                                             2               \n",
       " (t)⋅sin(q₁(t)) + 1.0⋅l₀⋅l_c1⋅m₁⋅q0dd(t)⋅cos(q₁(t)) + 1.0⋅l_c1 ⋅m₁⋅q0dd(t) + 1\n",
       "                                                                              \n",
       "                                                             2                \n",
       "t)) + 2⋅l₂⋅l_cee⋅m₃⋅q2dd(t)⋅cos(α₃ + q₃(t)) - l₂⋅l_cee⋅m₃⋅q3d (t)⋅sin(α₃ + q₃(\n",
       "                                                                              \n",
       "                                                                       2      \n",
       ")⋅sin(α₃ + q₃(t)) + 1.0⋅l₂⋅l_cee⋅m₃⋅q2dd(t)⋅cos(α₃ + q₃(t)) + 1.0⋅l_cee ⋅m₃⋅q2\n",
       "\n",
       "                                        2                  2                  \n",
       "l₀⋅l_c1⋅m₁⋅q1dd(t)⋅cos(q₁(t)) + 1.0⋅l_c0 ⋅m₀⋅q0dd(t) + l_c1 ⋅m₁⋅q0dd(t) + l_c1\n",
       "                                                                              \n",
       "       2                                                                      \n",
       ".0⋅l_c1 ⋅m₁⋅q1dd(t)                                                           \n",
       "                                                                              \n",
       "                                                    2                   2     \n",
       "t)) + l₂⋅l_cee⋅m₃⋅q3dd(t)⋅cos(α₃ + q₃(t)) + 1.0⋅l_c2 ⋅m₂⋅q2dd(t) + l_cee ⋅m₃⋅q\n",
       "                                                                              \n",
       "                 2                                                            \n",
       "dd(t) + 1.0⋅l_cee ⋅m₃⋅q3dd(t)                                                 \n",
       "\n",
       "2                         ⎤\n",
       " ⋅m₁⋅q1dd(t)              ⎥\n",
       "                          ⎥\n",
       "                          ⎥\n",
       "                          ⎥\n",
       "                          ⎥\n",
       "              2           ⎥\n",
       "2dd(t) + l_cee ⋅m₃⋅q3dd(t)⎥\n",
       "                          ⎥\n",
       "                          ⎥\n",
       "                          ⎦"
      ]
     },
     "execution_count": 12,
     "metadata": {},
     "output_type": "execute_result"
    }
   ],
   "source": [
    "# generate manipulator equation\n",
    "# TODO: Switch to Symbolics.jl\n",
    "\n",
    "const sp = sympy\n",
    "sp.init_printing(use_unicode=True)\n",
    "\n",
    "\n",
    "@syms m0, m1, m2, m3, g, l0, l1, l2, lee, l_c0, l_c1, l_c2, l_cee, I0, I1, I2, I3, alpha0, alpha3\n",
    "@syms q0()::real t\n",
    "@syms q1()::real t\n",
    "@syms q2()::real t\n",
    "@syms q3()::real t\n",
    "@syms q0d()::real t\n",
    "@syms q1d()::real t\n",
    "@syms q2d()::real t\n",
    "@syms q3d()::real t\n",
    "@syms q0dd()::real t\n",
    "@syms q1dd()::real t\n",
    "@syms q2dd()::real t\n",
    "@syms q3dd()::real t\n",
    "\n",
    "# lee = sqrt((l3 + l4)^2 + l5^2)  # last link is split into l3, l4, and l5\n",
    "\n",
    "# Assume links do have mass\n",
    "# Inertia terms are taken w.r.t. CoM of links\n",
    "\n",
    "x0 = l_c0*sp.cos(q0(t) + alpha0)\n",
    "y0 = l_c0*sp.sin(q0(t) + alpha0)\n",
    "x1 = l0*sp.cos(q0(t)) + l_c1*sp.cos(q0(t) + q1(t))\n",
    "y1 = l0*sp.sin(q0(t)) + l_c1*sp.sin(q0(t) + q1(t))\n",
    "\n",
    "x2 = l_c2*sp.cos(q2(t))\n",
    "y2 = l_c2*sp.sin(q2(t))\n",
    "x3 = l2*sp.cos(q2(t)) + l_cee*sp.cos(q2(t) + q3(t) + alpha3)\n",
    "y3 = l2*sp.sin(q2(t)) + l_cee*sp.sin(q2(t) + q3(t) + alpha3)\n",
    "\n",
    "x0d = diff(x0, t)\n",
    "y0d = diff(y0, t)\n",
    "x1d = diff(x1, t)\n",
    "y1d = diff(y1, t)\n",
    "x2d = diff(x2, t)\n",
    "y2d = diff(y2, t)\n",
    "x3d = diff(x3, t)\n",
    "y3d = diff(y3, t)\n",
    "\n",
    "U0 = m0*g*y0\n",
    "U1 = m1*g*y1\n",
    "U2 = m2*g*y2\n",
    "U3 = m3*g*y3\n",
    "\n",
    "v0_squared = x0d^2 + y0d^2\n",
    "v1_squared = x1d^2 + y1d^2\n",
    "v2_squared = x2d^2 + y2d^2\n",
    "v3_squared = x3d^2 + y3d^2\n",
    "T0 = 0.5*m0*v0_squared + 0.5*I0*q0d(t)^2\n",
    "T1 = 0.5*m1*v1_squared + 0.5*I1*q1d(t)^2\n",
    "T2 = 0.5*m2*v2_squared + 0.5*I2*q2d(t)^2 \n",
    "T3 = 0.5*m3*v3_squared + 0.5*I3*q3d(t)^2  # TODO: Why doesn't this need cumulative sum of qdots??\n",
    "\n",
    "U = U0 + U1 + U2 + U3\n",
    "T = T0 + T1 + T2 + T3\n",
    "\n",
    "# Le Lagrangian\n",
    "L = sp.trigsimp(T - U)\n",
    "L = L.subs(sp.Derivative(q0(t), t), q0d(t))  # substitute d/dt q2(t) with q2d\n",
    "L = L.subs(sp.Derivative(q1(t), t), q1d(t))  # substitute d/dt q1(t) with q1d\n",
    "L = L.subs(sp.Derivative(q2(t), t), q2d(t))  # substitute d/dt q2(t) with q2d\n",
    "L = L.subs(sp.Derivative(q3(t), t), q3d(t))  # substitute d/dt q2(t) with q2d\n",
    "\n",
    "# Lagrange-Euler Equation\n",
    "LE0 = diff(diff(L, q0d(t)), t) - diff(L, q0(t))\n",
    "LE1 = diff(diff(L, q1d(t)), t) - diff(L, q1(t))  \n",
    "LE2 = diff(diff(L, q2d(t)), t) - diff(L, q2(t))\n",
    "LE3 = diff(diff(L, q3d(t)), t) - diff(L, q3(t))\n",
    "LE = [LE0, LE1, LE2, LE3]\n",
    "# LE = sp.trigsimp(LE)\n",
    "\n",
    "# subs first derivative\n",
    "LE = LE.subs(sp.Derivative(q0(t), t), q0d(t))  # substitute d/dt q1(t) with q1d\n",
    "LE = LE.subs(sp.Derivative(q1(t), t), q1d(t))  # substitute d/dt q1(t) with q1d\n",
    "LE = LE.subs(sp.Derivative(q2(t), t), q2d(t))  # substitute d/dt q2(t) with q2d\n",
    "LE = LE.subs(sp.Derivative(q3(t), t), q3d(t))  # substitute d/dt q1(t) with q1d\n",
    "# subs second derivative\n",
    "LE = LE.subs(sp.Derivative(q0d(t), t), q0dd(t))  # substitute d/dt q1d(t) with q1dd\n",
    "LE = LE.subs(sp.Derivative(q1d(t), t), q1dd(t))  # substitute d/dt q1d(t) with q1dd\n",
    "LE = LE.subs(sp.Derivative(q2d(t), t), q2dd(t))  # substitute d/dt q2d(t) with q2dd\n",
    "LE = LE.subs(sp.Derivative(q3d(t), t), q3dd(t))  # substitute d/dt q1d(t) with q1dd\n",
    "LE = sp.expand(sp.simplify(LE))\n",
    "\n",
    "# Generalized mass matrix\n",
    "# M1 = sp.Poly(LE[1], q1dd(t)).coeffs()\n",
    "M11 = collect(LE[0], q0dd(t)).coeff(q0dd(t))\n",
    "M12 = collect(LE[0], q1dd(t)).coeff(q1dd(t))\n",
    "M13 = collect(LE[0], q2dd(t)).coeff(q2dd(t))\n",
    "M14 = collect(LE[0], q3dd(t)).coeff(q3dd(t))\n",
    "\n",
    "M21 = collect(LE[1], q0dd(t)).coeff(q0dd(t))\n",
    "M22 = collect(LE[1], q1dd(t)).coeff(q1dd(t))\n",
    "M23 = collect(LE[1], q2dd(t)).coeff(q2dd(t))\n",
    "M24 = collect(LE[1], q3dd(t)).coeff(q3dd(t))\n",
    "\n",
    "M31 = collect(LE[2], q0dd(t)).coeff(q0dd(t))\n",
    "M32 = collect(LE[2], q1dd(t)).coeff(q1dd(t))\n",
    "M33 = collect(LE[2], q2dd(t)).coeff(q2dd(t))\n",
    "M34 = collect(LE[2], q3dd(t)).coeff(q3dd(t))\n",
    "\n",
    "M41 = collect(LE[3], q0dd(t)).coeff(q0dd(t))\n",
    "M42 = collect(LE[3], q1dd(t)).coeff(q1dd(t))\n",
    "M43 = collect(LE[3], q2dd(t)).coeff(q2dd(t))\n",
    "M44 = collect(LE[3], q3dd(t)).coeff(q3dd(t))\n",
    "\n",
    "M = [M11 M12 M13 M14;\n",
    "     M21 M22 M23 M24;\n",
    "     M31 M32 M33 M34;\n",
    "     M41 M42 M43 M44]\n",
    "\n",
    "# Gravity Matrix\n",
    "G = LE\n",
    "G = G.subs(q0d(t), 0)\n",
    "G = G.subs(q1d(t), 0)  # must remove q derivative terms manually\n",
    "G = G.subs(q2d(t), 0)\n",
    "G = G.subs(q3d(t), 0)\n",
    "G = G.subs(q0dd(t), 0)\n",
    "G = G.subs(q1dd(t), 0)\n",
    "G = G.subs(q2dd(t), 0)\n",
    "G = G.subs(q3dd(t), 0)\n",
    "\n",
    "# Coriolis Matrix\n",
    "# assume anything without qdd minus G is C\n",
    "C = LE\n",
    "C = C.subs(q0dd(t), 0)\n",
    "C = C.subs(q1dd(t), 0)\n",
    "C = C.subs(q2dd(t), 0)\n",
    "C = C.subs(q3dd(t), 0)\n",
    "C = C - G\n",
    "\n",
    "LE"
   ]
  },
  {
   "cell_type": "code",
   "execution_count": 13,
   "id": "0b48df51",
   "metadata": {},
   "outputs": [
    {
     "name": "stdout",
     "output_type": "stream",
     "text": [
      "M = Sym[1.0*I0 + l0^2*m1 + 2*l0*l_c1*m1*cos(q1(t)) + 1.0*l_c0^2*m0 + l_c1^2*m1 l0*l_c1*m1*cos(q1(t)) + l_c1^2*m1 0 0; 1.0*l0*l_c1*m1*cos(q1(t)) + 1.0*l_c1^2*m1 1.0*I1 + 1.0*l_c1^2*m1 0 0; 0 0 1.0*I2 + l2^2*m3 + 2*l2*l_cee*m3*cos(alpha3 + q3(t)) + 1.0*l_c2^2*m2 + l_cee^2*m3 l2*l_cee*m3*cos(alpha3 + q3(t)) + l_cee^2*m3; 0 0 1.0*l2*l_cee*m3*cos(alpha3 + q3(t)) + 1.0*l_cee^2*m3 1.0*I3 + 1.0*l_cee^2*m3]\n"
     ]
    },
    {
     "data": {
      "text/latex": [
       "$\\left[ \\begin{array}{rrrr}1.0 I_{0} + l_{0}^{2} m_{1} + 2 l_{0} l_{c1} m_{1} \\cos{\\left(\\operatorname{q_{1}}{\\left(t \\right)} \\right)} + 1.0 l_{c0}^{2} m_{0} + l_{c1}^{2} m_{1}&l_{0} l_{c1} m_{1} \\cos{\\left(\\operatorname{q_{1}}{\\left(t \\right)} \\right)} + l_{c1}^{2} m_{1}&0&0\\\\1.0 l_{0} l_{c1} m_{1} \\cos{\\left(\\operatorname{q_{1}}{\\left(t \\right)} \\right)} + 1.0 l_{c1}^{2} m_{1}&1.0 I_{1} + 1.0 l_{c1}^{2} m_{1}&0&0\\\\0&0&1.0 I_{2} + l_{2}^{2} m_{3} + 2 l_{2} l_{cee} m_{3} \\cos{\\left(\\alpha_{3} + \\operatorname{q_{3}}{\\left(t \\right)} \\right)} + 1.0 l_{c2}^{2} m_{2} + l_{cee}^{2} m_{3}&l_{2} l_{cee} m_{3} \\cos{\\left(\\alpha_{3} + \\operatorname{q_{3}}{\\left(t \\right)} \\right)} + l_{cee}^{2} m_{3}\\\\0&0&1.0 l_{2} l_{cee} m_{3} \\cos{\\left(\\alpha_{3} + \\operatorname{q_{3}}{\\left(t \\right)} \\right)} + 1.0 l_{cee}^{2} m_{3}&1.0 I_{3} + 1.0 l_{cee}^{2} m_{3}\\end{array}\\right]$\n"
      ],
      "text/plain": [
       "4×4 Matrix{Sym}:\n",
       " 1.0*I0 + l0^2*m1 + 2*l0*l_c1*m1*cos(q1(t)) + 1.0*l_c0^2*m0 + l_c1^2*m1  …                                             0\n",
       "                              1.0*l0*l_c1*m1*cos(q1(t)) + 1.0*l_c1^2*m1                                                0\n",
       "                                                                      0     l2*l_cee*m3*cos(alpha3 + q3(t)) + l_cee^2*m3\n",
       "                                                                      0                          1.0*I3 + 1.0*l_cee^2*m3"
      ]
     },
     "execution_count": 13,
     "metadata": {},
     "output_type": "execute_result"
    }
   ],
   "source": [
    "@show M"
   ]
  },
  {
   "cell_type": "code",
   "execution_count": 14,
   "id": "9dfc8915",
   "metadata": {},
   "outputs": [
    {
     "name": "stdout",
     "output_type": "stream",
     "text": [
      "C = SymMatrix(PyObject Matrix([\n",
      "[                    -2*l0*l_c1*m1*q0d(t)*q1d(t)*sin(q1(t)) - l0*l_c1*m1*q1d(t)**2*sin(q1(t))],\n",
      "[                                                         1.0*l0*l_c1*m1*q0d(t)**2*sin(q1(t))],\n",
      "[-2*l2*l_cee*m3*q2d(t)*q3d(t)*sin(alpha3 + q3(t)) - l2*l_cee*m3*q3d(t)**2*sin(alpha3 + q3(t))],\n",
      "[                                               1.0*l2*l_cee*m3*q2d(t)**2*sin(alpha3 + q3(t))]]))\n"
     ]
    },
    {
     "data": {
      "text/latex": [
       "$\\begin{equation*}\\left[\\begin{matrix}- 2 l_{0} l_{c1} m_{1} \\operatorname{q0d}{\\left(t \\right)} \\operatorname{q1d}{\\left(t \\right)} \\sin{\\left(\\operatorname{q_{1}}{\\left(t \\right)} \\right)} - l_{0} l_{c1} m_{1} \\operatorname{q1d}^{2}{\\left(t \\right)} \\sin{\\left(\\operatorname{q_{1}}{\\left(t \\right)} \\right)}\\\\1.0 l_{0} l_{c1} m_{1} \\operatorname{q0d}^{2}{\\left(t \\right)} \\sin{\\left(\\operatorname{q_{1}}{\\left(t \\right)} \\right)}\\\\- 2 l_{2} l_{cee} m_{3} \\operatorname{q2d}{\\left(t \\right)} \\operatorname{q3d}{\\left(t \\right)} \\sin{\\left(\\alpha_{3} + \\operatorname{q_{3}}{\\left(t \\right)} \\right)} - l_{2} l_{cee} m_{3} \\operatorname{q3d}^{2}{\\left(t \\right)} \\sin{\\left(\\alpha_{3} + \\operatorname{q_{3}}{\\left(t \\right)} \\right)}\\\\1.0 l_{2} l_{cee} m_{3} \\operatorname{q2d}^{2}{\\left(t \\right)} \\sin{\\left(\\alpha_{3} + \\operatorname{q_{3}}{\\left(t \\right)} \\right)}\\end{matrix}\\right]\\end{equation*}$\n"
      ],
      "text/plain": [
       "⎡                                                             2               \n",
       "⎢      -2⋅l₀⋅l_c1⋅m₁⋅q0d(t)⋅q1d(t)⋅sin(q₁(t)) - l₀⋅l_c1⋅m₁⋅q1d (t)⋅sin(q₁(t)) \n",
       "⎢                                                                             \n",
       "⎢                                          2                                  \n",
       "⎢                        1.0⋅l₀⋅l_c1⋅m₁⋅q0d (t)⋅sin(q₁(t))                    \n",
       "⎢                                                                             \n",
       "⎢                                                              2              \n",
       "⎢-2⋅l₂⋅l_cee⋅m₃⋅q2d(t)⋅q3d(t)⋅sin(α₃ + q₃(t)) - l₂⋅l_cee⋅m₃⋅q3d (t)⋅sin(α₃ + q\n",
       "⎢                                                                             \n",
       "⎢                                        2                                    \n",
       "⎣                     1.0⋅l₂⋅l_cee⋅m₃⋅q2d (t)⋅sin(α₃ + q₃(t))                 \n",
       "\n",
       "     ⎤\n",
       "     ⎥\n",
       "     ⎥\n",
       "     ⎥\n",
       "     ⎥\n",
       "     ⎥\n",
       "     ⎥\n",
       "₃(t))⎥\n",
       "     ⎥\n",
       "     ⎥\n",
       "     ⎦"
      ]
     },
     "execution_count": 14,
     "metadata": {},
     "output_type": "execute_result"
    }
   ],
   "source": [
    "@show C"
   ]
  },
  {
   "cell_type": "code",
   "execution_count": 15,
   "id": "0d0636a6",
   "metadata": {},
   "outputs": [
    {
     "name": "stdout",
     "output_type": "stream",
     "text": [
      "G = SymMatrix(PyObject Matrix([\n",
      "[ g*l0*m1*cos(q0(t)) + g*l_c0*m0*cos(alpha0 + q0(t)) + g*l_c1*m1*cos(q0(t) + q1(t))],\n",
      "[                                                  1.0*g*l_c1*m1*cos(q0(t) + q1(t))],\n",
      "[g*l2*m3*cos(q2(t)) + g*l_c2*m2*cos(q2(t)) + g*l_cee*m3*cos(alpha3 + q2(t) + q3(t))],\n",
      "[                                        1.0*g*l_cee*m3*cos(alpha3 + q2(t) + q3(t))]]))\n"
     ]
    },
    {
     "data": {
      "text/latex": [
       "$\\begin{equation*}\\left[\\begin{matrix}g l_{0} m_{1} \\cos{\\left(\\operatorname{q_{0}}{\\left(t \\right)} \\right)} + g l_{c0} m_{0} \\cos{\\left(\\alpha_{0} + \\operatorname{q_{0}}{\\left(t \\right)} \\right)} + g l_{c1} m_{1} \\cos{\\left(\\operatorname{q_{0}}{\\left(t \\right)} + \\operatorname{q_{1}}{\\left(t \\right)} \\right)}\\\\1.0 g l_{c1} m_{1} \\cos{\\left(\\operatorname{q_{0}}{\\left(t \\right)} + \\operatorname{q_{1}}{\\left(t \\right)} \\right)}\\\\g l_{2} m_{3} \\cos{\\left(\\operatorname{q_{2}}{\\left(t \\right)} \\right)} + g l_{c2} m_{2} \\cos{\\left(\\operatorname{q_{2}}{\\left(t \\right)} \\right)} + g l_{cee} m_{3} \\cos{\\left(\\alpha_{3} + \\operatorname{q_{2}}{\\left(t \\right)} + \\operatorname{q_{3}}{\\left(t \\right)} \\right)}\\\\1.0 g l_{cee} m_{3} \\cos{\\left(\\alpha_{3} + \\operatorname{q_{2}}{\\left(t \\right)} + \\operatorname{q_{3}}{\\left(t \\right)} \\right)}\\end{matrix}\\right]\\end{equation*}$\n"
      ],
      "text/plain": [
       "⎡g⋅l₀⋅m₁⋅cos(q₀(t)) + g⋅l_c0⋅m₀⋅cos(α₀ + q₀(t)) + g⋅l_c1⋅m₁⋅cos(q₀(t) + q₁(t))\n",
       "⎢                                                                             \n",
       "⎢                       1.0⋅g⋅l_c1⋅m₁⋅cos(q₀(t) + q₁(t))                      \n",
       "⎢                                                                             \n",
       "⎢g⋅l₂⋅m₃⋅cos(q₂(t)) + g⋅l_c2⋅m₂⋅cos(q₂(t)) + g⋅l_cee⋅m₃⋅cos(α₃ + q₂(t) + q₃(t)\n",
       "⎢                                                                             \n",
       "⎣                    1.0⋅g⋅l_cee⋅m₃⋅cos(α₃ + q₂(t) + q₃(t))                   \n",
       "\n",
       " ⎤\n",
       " ⎥\n",
       " ⎥\n",
       " ⎥\n",
       ")⎥\n",
       " ⎥\n",
       " ⎦"
      ]
     },
     "execution_count": 15,
     "metadata": {},
     "output_type": "execute_result"
    }
   ],
   "source": [
    "@show G"
   ]
  },
  {
   "cell_type": "code",
   "execution_count": 16,
   "id": "3327034d",
   "metadata": {},
   "outputs": [
    {
     "name": "stdout",
     "output_type": "stream",
     "text": [
      "T = 0.5*I0*q0d(t)^2 + 0.5*I1*q1d(t)^2 + 0.5*I2*q2d(t)^2 + 0.5*I3*q3d(t)^2 + 0.5*l_c0^2*m0*q0d(t)^2 + 0.5*l_c2^2*m2*q2d(t)^2 + 0.5*m1*(l0^2*q0d(t)^2 + 2*l0*l_c1*q0d(t)^2*cos(q1(t)) + 2*l0*l_c1*q0d(t)*q1d(t)*cos(q1(t)) + l_c1^2*q0d(t)^2 + 2*l_c1^2*q0d(t)*q1d(t) + l_c1^2*q1d(t)^2) + 0.5*m3*(l2^2*q2d(t)^2 + 2*l2*l_cee*q2d(t)^2*cos(alpha3 + q3(t)) + 2*l2*l_cee*q2d(t)*q3d(t)*cos(alpha3 + q3(t)) + l_cee^2*q2d(t)^2 + 2*l_cee^2*q2d(t)*q3d(t) + l_cee^2*q3d(t)^2)\n"
     ]
    },
    {
     "data": {
      "text/latex": [
       "$\\begin{equation*}0.5 I_{0} \\operatorname{q0d}^{2}{\\left(t \\right)} + 0.5 I_{1} \\operatorname{q1d}^{2}{\\left(t \\right)} + 0.5 I_{2} \\operatorname{q2d}^{2}{\\left(t \\right)} + 0.5 I_{3} \\operatorname{q3d}^{2}{\\left(t \\right)} + 0.5 l_{c0}^{2} m_{0} \\operatorname{q0d}^{2}{\\left(t \\right)} + 0.5 l_{c2}^{2} m_{2} \\operatorname{q2d}^{2}{\\left(t \\right)} + 0.5 m_{1} \\left(l_{0}^{2} \\operatorname{q0d}^{2}{\\left(t \\right)} + 2 l_{0} l_{c1} \\operatorname{q0d}^{2}{\\left(t \\right)} \\cos{\\left(\\operatorname{q_{1}}{\\left(t \\right)} \\right)} + 2 l_{0} l_{c1} \\operatorname{q0d}{\\left(t \\right)} \\operatorname{q1d}{\\left(t \\right)} \\cos{\\left(\\operatorname{q_{1}}{\\left(t \\right)} \\right)} + l_{c1}^{2} \\operatorname{q0d}^{2}{\\left(t \\right)} + 2 l_{c1}^{2} \\operatorname{q0d}{\\left(t \\right)} \\operatorname{q1d}{\\left(t \\right)} + l_{c1}^{2} \\operatorname{q1d}^{2}{\\left(t \\right)}\\right) + 0.5 m_{3} \\left(l_{2}^{2} \\operatorname{q2d}^{2}{\\left(t \\right)} + 2 l_{2} l_{cee} \\operatorname{q2d}^{2}{\\left(t \\right)} \\cos{\\left(\\alpha_{3} + \\operatorname{q_{3}}{\\left(t \\right)} \\right)} + 2 l_{2} l_{cee} \\operatorname{q2d}{\\left(t \\right)} \\operatorname{q3d}{\\left(t \\right)} \\cos{\\left(\\alpha_{3} + \\operatorname{q_{3}}{\\left(t \\right)} \\right)} + l_{cee}^{2} \\operatorname{q2d}^{2}{\\left(t \\right)} + 2 l_{cee}^{2} \\operatorname{q2d}{\\left(t \\right)} \\operatorname{q3d}{\\left(t \\right)} + l_{cee}^{2} \\operatorname{q3d}^{2}{\\left(t \\right)}\\right)\\end{equation*}$\n"
      ],
      "text/plain": [
       "          2                2                2                2              2 \n",
       "0.5⋅I₀⋅q0d (t) + 0.5⋅I₁⋅q1d (t) + 0.5⋅I₂⋅q2d (t) + 0.5⋅I₃⋅q3d (t) + 0.5⋅l_c0 ⋅\n",
       "\n",
       "      2              2       2             ⎛  2    2                   2      \n",
       "m₀⋅q0d (t) + 0.5⋅l_c2 ⋅m₂⋅q2d (t) + 0.5⋅m₁⋅⎝l₀ ⋅q0d (t) + 2⋅l₀⋅l_c1⋅q0d (t)⋅co\n",
       "\n",
       "                                                    2    2            2       \n",
       "s(q₁(t)) + 2⋅l₀⋅l_c1⋅q0d(t)⋅q1d(t)⋅cos(q₁(t)) + l_c1 ⋅q0d (t) + 2⋅l_c1 ⋅q0d(t)\n",
       "\n",
       "              2    2   ⎞          ⎛  2    2                    2              \n",
       "⋅q1d(t) + l_c1 ⋅q1d (t)⎠ + 0.5⋅m₃⋅⎝l₂ ⋅q2d (t) + 2⋅l₂⋅l_cee⋅q2d (t)⋅cos(α₃ + q\n",
       "\n",
       "                                                        2    2             2  \n",
       "₃(t)) + 2⋅l₂⋅l_cee⋅q2d(t)⋅q3d(t)⋅cos(α₃ + q₃(t)) + l_cee ⋅q2d (t) + 2⋅l_cee ⋅q\n",
       "\n",
       "                    2    2   ⎞\n",
       "2d(t)⋅q3d(t) + l_cee ⋅q3d (t)⎠"
      ]
     },
     "execution_count": 16,
     "metadata": {},
     "output_type": "execute_result"
    }
   ],
   "source": [
    "T = sympy.simplify(T)\n",
    "T = T.subs(sympy.Derivative(q0(t), t), q0d(t))  # substitute d/dt q2(t) with q2d\n",
    "T = T.subs(sympy.Derivative(q1(t), t), q1d(t))  # substitute d/dt q1(t) with q1d\n",
    "T = T.subs(sympy.Derivative(q2(t), t), q2d(t))  # substitute d/dt q2(t) with q2d\n",
    "T = T.subs(sympy.Derivative(q3(t), t), q3d(t))  # substitute d/dt q2(t) with q2d\n",
    "@show T"
   ]
  },
  {
   "cell_type": "code",
   "execution_count": null,
   "id": "2142834b",
   "metadata": {},
   "outputs": [],
   "source": []
  }
 ],
 "metadata": {
  "kernelspec": {
   "display_name": "Julia 1.6.3",
   "language": "julia",
   "name": "julia-1.6"
  },
  "language_info": {
   "file_extension": ".jl",
   "mimetype": "application/julia",
   "name": "julia",
   "version": "1.6.3"
  }
 },
 "nbformat": 4,
 "nbformat_minor": 5
}
