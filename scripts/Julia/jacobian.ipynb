{
 "cells": [
  {
   "cell_type": "code",
   "execution_count": 7,
   "id": "e262908e",
   "metadata": {},
   "outputs": [
    {
     "name": "stdout",
     "output_type": "stream",
     "text": [
      "[[[-l1*sin(q1) - l2*sin(q1 + q2) -l2*sin(q1 + q2)]]\n",
      "\n",
      " [[l1*cos(q1) + l2*cos(q1 + q2) l2*cos(q1 + q2)]]]\n"
     ]
    }
   ],
   "source": [
    "import sympy as sp\n",
    "import numpy as np\n",
    "\n",
    "sp.var('q1 q2 l1 l2')\n",
    "\n",
    "x1 = l1*sp.cos(q1)\n",
    "y1 = l1*sp.sin(q1)\n",
    "x2 = sp.Matrix([l1*sp.cos(q1) + l2*sp.cos(q1 + q2)])\n",
    "y2 = sp.Matrix([l1*sp.sin(q1) + l2*sp.sin(q1 + q2)])\n",
    "\n",
    "# Compute Jacobian\n",
    "Jx = x2.jacobian([q1, q2])\n",
    "Jy = y2.jacobian([q1, q2])\n",
    "J = np.array([Jx, Jy])\n",
    "print(J)"
   ]
  },
  {
   "cell_type": "code",
   "execution_count": null,
   "id": "9c80ffbc",
   "metadata": {},
   "outputs": [],
   "source": []
  }
 ],
 "metadata": {
  "kernelspec": {
   "display_name": "Python 3",
   "language": "python",
   "name": "python3"
  },
  "language_info": {
   "codemirror_mode": {
    "name": "ipython",
    "version": 3
   },
   "file_extension": ".py",
   "mimetype": "text/x-python",
   "name": "python",
   "nbconvert_exporter": "python",
   "pygments_lexer": "ipython3",
   "version": "3.8.11"
  }
 },
 "nbformat": 4,
 "nbformat_minor": 5
}
