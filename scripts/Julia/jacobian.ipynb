{
 "cells": [
  {
   "cell_type": "code",
   "execution_count": 1,
   "id": "d3c40faf",
   "metadata": {},
   "outputs": [],
   "source": [
    "import sympy as sp\n",
    "import numpy as np\n",
    "\n",
    "sp.var('q0, q1, q2, q3, m0, m1, m2, m3, g, l0, l1, l2, l3, l4, l34, t')\n",
    "\n",
    "x0 = l0*sp.cos(q0)\n",
    "y0 = l0*sp.sin(q0)\n",
    "x1 = l0*sp.cos(q0) + l1*sp.cos(q0 + q1)\n",
    "y1 = l0*sp.sin(q0) + l1*sp.sin(q0 + q1)\n",
    "\n",
    "x2 = l2*sp.cos(q2)\n",
    "y2 = l2*sp.sin(q2)\n",
    "\n",
    "# foot forward kinematics\n",
    "x3 = l2*sp.cos(q2) + l34*sp.cos(q2 + q3)\n",
    "y3 = l2*sp.sin(q2) + l34*sp.sin(q2 + q3)\n",
    "\n",
    "# constraint forward kinematics\n",
    "xc = l2*sp.cos(q2) + l3*sp.cos(q2 + q3)\n",
    "yc = l2*sp.sin(q2) + l3*sp.sin(q2 + q3)"
   ]
  },
  {
   "cell_type": "code",
   "execution_count": 13,
   "id": "ffbee67d",
   "metadata": {},
   "outputs": [
    {
     "name": "stdout",
     "output_type": "stream",
     "text": [
      "Matrix([[l0*cos(q0) + l1*cos(q0 + q1) - l2*cos(q2) - l3*cos(q2 + q3)], [l0*sin(q0) + l1*sin(q0 + q1) - l2*sin(q2) - l3*sin(q2 + q3)]])\n"
     ]
    }
   ],
   "source": [
    "# Compute Constraint\n",
    "# enforces endpoints to have same position and velocity at all times\n",
    "c  = sp.Matrix((2, 1))\n",
    "c[0, 0] = x1 - xc\n",
    "c[1, 0] = y1 - yc\n",
    "print(c)"
   ]
  },
  {
   "cell_type": "code",
   "execution_count": 14,
   "id": "180d30b0",
   "metadata": {},
   "outputs": [
    {
     "name": "stdout",
     "output_type": "stream",
     "text": [
      "Matrix([[-l0*sin(q0) - l1*sin(q0 + q1), -l1*sin(q0 + q1), l2*sin(q2) + l3*sin(q2 + q3), l3*sin(q2 + q3)], [l0*cos(q0) + l1*cos(q0 + q1), l1*cos(q0 + q1), -l2*cos(q2) - l3*cos(q2 + q3), -l3*cos(q2 + q3)]])\n"
     ]
    }
   ],
   "source": [
    "# Constraint Jacobian\n",
    "D = c.jacobian([q0, q1, q2, q3])\n",
    "print(D)"
   ]
  },
  {
   "cell_type": "code",
   "execution_count": 15,
   "id": "5fc27235",
   "metadata": {},
   "outputs": [
    {
     "name": "stdout",
     "output_type": "stream",
     "text": [
      "Matrix([[q0d*(-l1*q1d*cos(q0 + q1) + q0d*(-l0*cos(q0) - l1*cos(q0 + q1))) + q1d*(-l1*q0d*cos(q0 + q1) - l1*q1d*cos(q0 + q1)) + q2d*(l3*q3d*cos(q2 + q3) + q2d*(l2*cos(q2) + l3*cos(q2 + q3))) + q3d*(l3*q2d*cos(q2 + q3) + l3*q3d*cos(q2 + q3))], [q0d*(-l1*q1d*sin(q0 + q1) + q0d*(-l0*sin(q0) - l1*sin(q0 + q1))) + q1d*(-l1*q0d*sin(q0 + q1) - l1*q1d*sin(q0 + q1)) + q2d*(l3*q3d*sin(q2 + q3) + q2d*(l2*sin(q2) + l3*sin(q2 + q3))) + q3d*(l3*q2d*sin(q2 + q3) + l3*q3d*sin(q2 + q3))]])\n"
     ]
    }
   ],
   "source": [
    "# Compute del/delq(D(q)q_dot)q_dot\n",
    "'''\n",
    "q0 = Function('q0')\n",
    "q0_t = q0(t)\n",
    "q1 = Function('q1')\n",
    "q1_t = q1(t)\n",
    "q1 = Function('q2')\n",
    "q2_t = q2(t)\n",
    "q2 = Function('q3')\n",
    "q3_t = q3(t)\n",
    "q_t = sp.array([q0_t, q1_t, q2_t, q3_t])\n",
    "q_dot = sp.diff(q_t, t)\n",
    "'''\n",
    "sp.var('q0d q1d q2d q3d')\n",
    "q_dot = sp.Matrix([q0d, q1d, q2d, q3d])\n",
    "# dqdot = sp.Matrix((2, 4))\n",
    "dqdot = D.multiply(q_dot)\n",
    "d = dqdot.jacobian([q0, q1, q2, q3])*q_dot\n",
    "print(d)"
   ]
  },
  {
   "cell_type": "code",
   "execution_count": 34,
   "id": "e7cca997",
   "metadata": {},
   "outputs": [
    {
     "name": "stdout",
     "output_type": "stream",
     "text": [
      "Matrix([[-l1*q1d*sin(q0 + q1) + l3*q3d*sin(q2 + q3) + q0d*(-l0*sin(q0) - l1*sin(q0 + q1)) + q2d*(l2*sin(q2) + l3*sin(q2 + q3))], [l1*q1d*cos(q0 + q1) - l3*q3d*cos(q2 + q3) + q0d*(l0*cos(q0) + l1*cos(q0 + q1)) + q2d*(-l2*cos(q2) - l3*cos(q2 + q3))]])\n"
     ]
    }
   ],
   "source": [
    "#Compute cdot (first derivative of constraint function)\n",
    "cdot = sp.transpose(q_dot.T * D.T)\n",
    "# cdot = # sp.transpose(sp.ones(np.shape(D)[1], 1).T * D.T)\n",
    "print(cdot)"
   ]
  },
  {
   "cell_type": "code",
   "execution_count": null,
   "id": "80c9240f",
   "metadata": {},
   "outputs": [],
   "source": [
    "# Compute Foot Jacobian\n",
    "Jx = x2.jacobian([q0, q1, q2, q3])\n",
    "Jy = y2.jacobian([q0, q1, q2, q3])\n",
    "Jf = np.array([Jx, Jy])\n",
    "print(Jf)"
   ]
  }
 ],
 "metadata": {
  "kernelspec": {
   "display_name": "Python 3",
   "language": "python",
   "name": "python3"
  },
  "language_info": {
   "codemirror_mode": {
    "name": "ipython",
    "version": 3
   },
   "file_extension": ".py",
   "mimetype": "text/x-python",
   "name": "python",
   "nbconvert_exporter": "python",
   "pygments_lexer": "ipython3",
   "version": "3.8.11"
  }
 },
 "nbformat": 4,
 "nbformat_minor": 5
}
