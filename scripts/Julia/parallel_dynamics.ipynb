{
 "cells": [
  {
   "cell_type": "code",
   "execution_count": 18,
   "id": "f2a4e977",
   "metadata": {},
   "outputs": [
    {
     "name": "stderr",
     "output_type": "stream",
     "text": [
      "\u001b[32m\u001b[1m  Activating\u001b[22m\u001b[39m environment at `/mnt/064AC6424AC62E6D/git_workspace/flyhopper/scripts/Julia/Project.toml`\n"
     ]
    }
   ],
   "source": [
    "import Pkg; Pkg.activate(@__DIR__); Pkg.instantiate()"
   ]
  },
  {
   "cell_type": "code",
   "execution_count": 19,
   "id": "173fc25e",
   "metadata": {},
   "outputs": [],
   "source": [
    "using RigidBodyDynamics\n",
    "using LinearAlgebra\n",
    "using MeshCatMechanisms\n",
    "using StaticArrays"
   ]
  },
  {
   "cell_type": "code",
   "execution_count": 20,
   "id": "e11484c9",
   "metadata": {},
   "outputs": [
    {
     "data": {
      "text/plain": [
       "1.0"
      ]
     },
     "execution_count": 20,
     "metadata": {},
     "output_type": "execute_result"
    }
   ],
   "source": [
    "ℓ1 = 1.0\n",
    "ℓ2 = 1.0\n",
    "ℓc1 = ℓ1/2\n",
    "ℓc2 = ℓ2/2\n",
    "m1 = 1.0\n",
    "m2 = 1.0\n",
    "g = 9.81\n",
    "I1 = m1*(ℓ1^2)\n",
    "I2 = m2*(ℓ2^2)"
   ]
  },
  {
   "cell_type": "code",
   "execution_count": 21,
   "id": "eeca8a3e",
   "metadata": {},
   "outputs": [
    {
     "data": {
      "text/plain": [
       "Spanning tree:\n",
       "Vertex: world (root)\n",
       "No non-tree joints."
      ]
     },
     "execution_count": 21,
     "metadata": {},
     "output_type": "execute_result"
    }
   ],
   "source": [
    "g = -9.81 # gravitational acceleration in z-direction\n",
    "world = RigidBody{Float64}(\"world\")\n",
    "doublependulum = Mechanism(world; gravity = SVector(0, 0, g))"
   ]
  },
  {
   "cell_type": "code",
   "execution_count": 36,
   "id": "3ce9fa08",
   "metadata": {},
   "outputs": [
    {
     "data": {
      "text/plain": [
       "Spanning tree:\n",
       "Vertex: world (root)\n",
       "  Vertex: frame0, Edge: joint0\n",
       "  Vertex: frame0, Edge: joint0\n",
       "    Vertex: lower_link, Edge: elbow\n",
       "No non-tree joints."
      ]
     },
     "execution_count": 36,
     "metadata": {},
     "output_type": "execute_result"
    }
   ],
   "source": [
    "# We'll now add a second body, called 'upper link', to the `Mechanism`. \n",
    "# We'll attach it to the world with a revolute joint, with the $y$-axis \n",
    "# as the axis of rotation. We'll start by creating a `SpatialInertia`, \n",
    "# which stores the inertial properties of the new body:\n",
    "\n",
    "axis = SVector(0., 1., 0.) # joint axis\n",
    "frame0 = CartesianFrame3D(\"frame0\") # the reference frame in which the spatial inertia will be expressed\n",
    "inertia1 = SpatialInertia(frame0,\n",
    "    moment=I1 * axis * axis',\n",
    "    com=SVector(0, 0, ℓc1),\n",
    "    mass=m1)\n",
    "\n",
    "link0 = RigidBody(inertia1)\n",
    "joint0 = Joint(\"joint0\", Revolute(axis))\n",
    "before_joint0_to_world = one(Transform3D, frame_before(joint0), default_frame(world))\n",
    "\n",
    "# Now we can attach link0 to the world:\n",
    "attach!(doublependulum, world, link0, joint0, joint_pose = before_joint0_to_world)\n",
    "# which changes the tree representation of the `Mechanism`.\n",
    "\n",
    "inertia2 = SpatialInertia(CartesianFrame3D(\"frame1\"),\n",
    "    moment=I2 * axis * axis',\n",
    "    com=SVector(0, 0, ℓc2),\n",
    "    mass=m2)\n",
    "link1 = RigidBody(inertia2)\n",
    "joint1 = Joint(\"joint1\", Revolute(axis))\n",
    "before_joint1_to_after_joint0 = Transform3D(frame_before(joint1), frame_after(joint0), SVector(0, 0, ℓ1))\n",
    "attach!(doublependulum, link0, link1, joint1, joint_pose = before_joint1_to_after_joint0)"
   ]
  },
  {
   "cell_type": "code",
   "execution_count": 23,
   "id": "6465dd3d",
   "metadata": {},
   "outputs": [
    {
     "data": {
      "text/plain": [
       "MechanismState{Float64, Float64, Float64, …}(…)"
      ]
     },
     "execution_count": 23,
     "metadata": {},
     "output_type": "execute_result"
    }
   ],
   "source": [
    "state = MechanismState(doublependulum)"
   ]
  },
  {
   "cell_type": "code",
   "execution_count": 37,
   "id": "7804a9d2",
   "metadata": {},
   "outputs": [
    {
     "ename": "LoadError",
     "evalue": "MethodError: no method matching set_configuration!(::MechanismState{Float64, Float64, Float64, TypeSortedCollections.TypeSortedCollection{Tuple{Vector{Joint{Float64, Revolute{Float64}}}}, 1}}, ::RigidBody{Float64}, ::Float64)\n\u001b[0mClosest candidates are:\n\u001b[0m  set_configuration!(::MechanismState, \u001b[91m::Joint\u001b[39m, ::Any) at /home/ben/.julia/packages/RigidBodyDynamics/8B04X/src/mechanism_state.jl:397\n\u001b[0m  set_configuration!(\u001b[91m::MechanismVisualizer\u001b[39m, ::Any...) at /home/ben/.julia/packages/MeshCatMechanisms/QczZo/src/visualizer.jl:166\n\u001b[0m  set_configuration!(\u001b[91m::AbstractVector{T} where T\u001b[39m, \u001b[91m::Joint{var\"#s6\", var\"#s5\"} where {var\"#s6\", var\"#s5\"<:Prismatic}\u001b[39m, ::Number) at /home/ben/.julia/packages/RigidBodyDynamics/8B04X/src/joint_types/prismatic.jl:36\n\u001b[0m  ...",
     "output_type": "error",
     "traceback": [
      "MethodError: no method matching set_configuration!(::MechanismState{Float64, Float64, Float64, TypeSortedCollections.TypeSortedCollection{Tuple{Vector{Joint{Float64, Revolute{Float64}}}}, 1}}, ::RigidBody{Float64}, ::Float64)\n\u001b[0mClosest candidates are:\n\u001b[0m  set_configuration!(::MechanismState, \u001b[91m::Joint\u001b[39m, ::Any) at /home/ben/.julia/packages/RigidBodyDynamics/8B04X/src/mechanism_state.jl:397\n\u001b[0m  set_configuration!(\u001b[91m::MechanismVisualizer\u001b[39m, ::Any...) at /home/ben/.julia/packages/MeshCatMechanisms/QczZo/src/visualizer.jl:166\n\u001b[0m  set_configuration!(\u001b[91m::AbstractVector{T} where T\u001b[39m, \u001b[91m::Joint{var\"#s6\", var\"#s5\"} where {var\"#s6\", var\"#s5\"<:Prismatic}\u001b[39m, ::Number) at /home/ben/.julia/packages/RigidBodyDynamics/8B04X/src/joint_types/prismatic.jl:36\n\u001b[0m  ...",
      "",
      "Stacktrace:",
      " [1] top-level scope",
      "   @ In[37]:1",
      " [2] eval",
      "   @ ./boot.jl:360 [inlined]",
      " [3] include_string(mapexpr::typeof(REPL.softscope), mod::Module, code::String, filename::String)",
      "   @ Base ./loading.jl:1116"
     ]
    }
   ],
   "source": [
    "set_configuration!(state, link0, 0.3)\n",
    "set_configuration!(state, link1, 0.4)\n",
    "set_velocity!(state, link0, 1.)\n",
    "set_velocity!(state, link1, 2.);"
   ]
  },
  {
   "cell_type": "code",
   "execution_count": 25,
   "id": "0c4a4347",
   "metadata": {},
   "outputs": [
    {
     "data": {
      "text/plain": [
       "1-element SegmentedVector{JointID, Float64, Base.OneTo{JointID}, Vector{Float64}}:\n",
       " 0.0"
      ]
     },
     "execution_count": 25,
     "metadata": {},
     "output_type": "execute_result"
    }
   ],
   "source": [
    "q = configuration(state)\n",
    "v = velocity(state)"
   ]
  },
  {
   "cell_type": "code",
   "execution_count": 26,
   "id": "5add56b3",
   "metadata": {},
   "outputs": [],
   "source": [
    "#=\n",
    "curdir = pwd()\n",
    "urdfpath = joinpath(curdir, \"../../res/flyhopper_mockup/urdf/flyhopper_mockup_jl.urdf\")\n",
    "bot = parse_urdf(urdfpath, floating=False)\n",
    "# remove_fixed_tree_joints!(bot);\n",
    "g = -9.81 # gravitational acceleration in z-direction\n",
    "state = MechanismState(bot)\n",
    "set_configuration!(state, [1; 0; 0; 0; 0; 0; 0.7])\n",
    "q = configuration(state)\n",
    "v = velocity(state)\n",
    "ts, qs, vs = simulate(state, 5., Δt = 1e-3);\n",
    "=#"
   ]
  },
  {
   "cell_type": "code",
   "execution_count": 27,
   "id": "6faeb5a7",
   "metadata": {},
   "outputs": [
    {
     "data": {
      "text/plain": [
       "f (generic function with 1 method)"
      ]
     },
     "execution_count": 27,
     "metadata": {},
     "output_type": "execute_result"
    }
   ],
   "source": [
    "function f(x)\n",
    "    # double pendulum dynamics\n",
    "    \n",
    "    q1 = x[1]\n",
    "    q1̇ = x[2]\n",
    "    q2 = x[3]\n",
    "    q2̇ = x[4]\n",
    "    \n",
    "    M = zeros(2, 2)\n",
    "    M[1, 1] = I1 + I2 + m2*ℓ1^2 + 2*m2*ℓ1*ℓc2*cos(q2)\n",
    "    M[1, 2] = I2 + m2*ℓ1*ℓc2*cos(q2)\n",
    "    M[2, 1] = I2 + m2*ℓ1*ℓc2*cos(q2)\n",
    "    M[2, 2] = I2\n",
    "    \n",
    "    C = zeros(2, 2)\n",
    "    C[1, 1] = -2*m2*ℓ1*ℓc2*sin(q2)*q2̇ \n",
    "    C[1, 2] = -m2*ℓ1*ℓc2*sin(q2)*q2̇ \n",
    "    C[2, 1] = m2*ℓ1*ℓc2*sin(q2)*q1̇\n",
    "    C[2, 2] = 0\n",
    "    \n",
    "    τg = zeros(2)\n",
    "    τg[1] = -m1*g*ℓc1*sin(q1) - m2*g*(ℓ1*sin(q1) + ℓc2*sin(q1+q2))\n",
    "    τg[2] = -m2*g*ℓc2*sin(q1+q2)\n",
    "    q_d = zeros(2)\n",
    "    q_d[1] = q1̇ \n",
    "    q_d[2] = q2̇ \n",
    "    q_dd = inv(M)*(τg - C*q_d)\n",
    "    q1̈  = q_dd[1]\n",
    "    q2̈  = q_dd[2]\n",
    "    \n",
    "    ẋ = zeros(4)\n",
    "    ẋ[1] = q1̇  # q1 dot\n",
    "    ẋ[2] = q1̈  # q1 double dot\n",
    "    ẋ[3] = q2̇  # q2 dot\n",
    "    ẋ[4] = q2̈  # q2 double dot\n",
    "    \n",
    "end"
   ]
  },
  {
   "cell_type": "code",
   "execution_count": 28,
   "id": "92eb82dc",
   "metadata": {},
   "outputs": [
    {
     "data": {
      "text/plain": [
       "euler_step (generic function with 1 method)"
      ]
     },
     "execution_count": 28,
     "metadata": {},
     "output_type": "execute_result"
    }
   ],
   "source": [
    "function euler_step(xk)\n",
    "    xn = xk .+ h*f(xk)\n",
    "end"
   ]
  },
  {
   "cell_type": "code",
   "execution_count": 29,
   "id": "d4c947b1",
   "metadata": {},
   "outputs": [
    {
     "data": {
      "text/plain": [
       "simulate! (generic function with 1 method)"
      ]
     },
     "execution_count": 29,
     "metadata": {},
     "output_type": "execute_result"
    }
   ],
   "source": [
    "function simulate!(xtraj, N)\n",
    "    for k = 1:(N-1)\n",
    "        xtraj[:,k+1] .= euler_step(xtraj[:,k])\n",
    "    end\n",
    "end"
   ]
  },
  {
   "cell_type": "code",
   "execution_count": 30,
   "id": "d1b9a0a7",
   "metadata": {},
   "outputs": [],
   "source": [
    "Tf = 10.0\n",
    "h = 0.001 #20 Hz\n",
    "N = Int(floor(Tf./h + 1))\n",
    "thist = h.*Array(0:(N-1));"
   ]
  },
  {
   "cell_type": "code",
   "execution_count": 31,
   "id": "06816237",
   "metadata": {},
   "outputs": [],
   "source": [
    "x0 = [5*(pi/180); 0.0; 0.0; 0.0]\n",
    "xtraj = zeros(4,N)\n",
    "xtraj[:,1] = x0;"
   ]
  },
  {
   "cell_type": "code",
   "execution_count": 32,
   "id": "e385ae25",
   "metadata": {},
   "outputs": [],
   "source": [
    "simulate!(xtraj, N)"
   ]
  },
  {
   "cell_type": "code",
   "execution_count": 33,
   "id": "73e7ed76",
   "metadata": {},
   "outputs": [
    {
     "name": "stderr",
     "output_type": "stream",
     "text": [
      "┌ Info: MeshCat server started. You can open the visualizer by visiting the following URL in your browser:\n",
      "│ http://127.0.0.1:8702\n",
      "└ @ MeshCat /home/ben/.julia/packages/MeshCat/GlCMx/src/visualizer.jl:73\n"
     ]
    },
    {
     "ename": "LoadError",
     "evalue": "Principal inertias [-0.25, 0.0, 0.75] do not satisfy the triangle inequalities, so the equivalent inertial ellipsoid is not well-defined.",
     "output_type": "error",
     "traceback": [
      "Principal inertias [-0.25, 0.0, 0.75] do not satisfy the triangle inequalities, so the equivalent inertial ellipsoid is not well-defined.",
      "",
      "Stacktrace:",
      "  [1] error(s::String)",
      "    @ Base ./error.jl:33",
      "  [2] inertial_ellipsoid_dimensions(mass::Float64, axis_inertias::Vector{Float64})",
      "    @ MechanismGeometries ~/.julia/packages/MechanismGeometries/YGPAI/src/skeleton.jl:40",
      "  [3] inertial_ellipsoid(inertia::SpatialInertia{Float64})",
      "    @ MechanismGeometries ~/.julia/packages/MechanismGeometries/YGPAI/src/skeleton.jl:61",
      "  [4] inertial_ellipsoid",
      "    @ ~/.julia/packages/MechanismGeometries/YGPAI/src/skeleton.jl:47 [inlined]",
      "  [5] visual_elements(mechanism::Mechanism{Float64}, source::Skeleton)",
      "    @ MechanismGeometries ~/.julia/packages/MechanismGeometries/YGPAI/src/skeleton.jl:111",
      "  [6] setelement!",
      "    @ ~/.julia/packages/MeshCatMechanisms/QczZo/src/visualizer.jl:18 [inlined]",
      "  [7] MechanismVisualizer",
      "    @ ~/.julia/packages/MeshCatMechanisms/QczZo/src/visualizer.jl:13 [inlined]",
      "  [8] MechanismVisualizer(state::MechanismState{Float64, Float64, Float64, TypeSortedCollections.TypeSortedCollection{Tuple{Vector{Joint{Float64, Revolute{Float64}}}}, 1}}, source::Skeleton)",
      "    @ MeshCatMechanisms ~/.julia/packages/MeshCatMechanisms/QczZo/src/visualizer.jl:12",
      "  [9] MechanismVisualizer(m::Mechanism{Float64}, args::Skeleton)",
      "    @ MeshCatMechanisms ~/.julia/packages/MeshCatMechanisms/QczZo/src/visualizer.jl:23",
      " [10] top-level scope",
      "    @ In[33]:1",
      " [11] eval",
      "    @ ./boot.jl:360 [inlined]",
      " [12] include_string(mapexpr::typeof(REPL.softscope), mod::Module, code::String, filename::String)",
      "    @ Base ./loading.jl:1116"
     ]
    }
   ],
   "source": [
    "mvis = MechanismVisualizer(doublependulum, Skeleton(randomize_colors=true));\n",
    "render(mvis)"
   ]
  },
  {
   "cell_type": "code",
   "execution_count": 35,
   "id": "a73bdcb7",
   "metadata": {},
   "outputs": [
    {
     "ename": "LoadError",
     "evalue": "UndefVarError: mvis not defined",
     "output_type": "error",
     "traceback": [
      "UndefVarError: mvis not defined",
      "",
      "Stacktrace:",
      " [1] top-level scope",
      "   @ In[35]:8",
      " [2] eval",
      "   @ ./boot.jl:360 [inlined]",
      " [3] include_string(mapexpr::typeof(REPL.softscope), mod::Module, code::String, filename::String)",
      "   @ Base ./loading.jl:1116"
     ]
    }
   ],
   "source": [
    "# Now we can simply call `simulate`, which will return a tuple consisting of:\n",
    "# * simulation times (a `Vector` of numbers)\n",
    "# * joint configuration vectors (a `Vector` of `Vector`s)\n",
    "# * joint velocity vectors (a `Vector` of `Vector`s)\n",
    "\n",
    "# ts, qs, vs = simulate(state, final_time, simple_control!; Δt = 1e-3);\n",
    "# And animate:\n",
    "MeshCatMechanisms.animate(mvis, ts, qs; realtimerate = 1.);"
   ]
  },
  {
   "cell_type": "code",
   "execution_count": null,
   "id": "ab703652",
   "metadata": {},
   "outputs": [],
   "source": []
  }
 ],
 "metadata": {
  "kernelspec": {
   "display_name": "Julia 1.6.2",
   "language": "julia",
   "name": "julia-1.6"
  },
  "language_info": {
   "file_extension": ".jl",
   "mimetype": "application/julia",
   "name": "julia",
   "version": "1.6.2"
  }
 },
 "nbformat": 4,
 "nbformat_minor": 5
}
