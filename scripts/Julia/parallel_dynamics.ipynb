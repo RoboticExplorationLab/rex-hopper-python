{
 "cells": [
  {
   "cell_type": "code",
   "execution_count": 18,
   "id": "a0c7b68a",
   "metadata": {},
   "outputs": [
    {
     "name": "stderr",
     "output_type": "stream",
     "text": [
      "\u001b[32m\u001b[1m  Activating\u001b[22m\u001b[39m environment at `/mnt/064AC6424AC62E6D/git_workspace/flyhopper/scripts/Julia/Project.toml`\n"
     ]
    }
   ],
   "source": [
    "import Pkg; Pkg.activate(@__DIR__); Pkg.instantiate()"
   ]
  },
  {
   "cell_type": "code",
   "execution_count": 19,
   "id": "5dada57f",
   "metadata": {},
   "outputs": [],
   "source": [
    "using RigidBodyDynamics\n",
    "using LinearAlgebra\n",
    "using MeshCatMechanisms\n",
    "using StaticArrays"
   ]
  },
  {
   "cell_type": "code",
   "execution_count": 20,
   "id": "6806dd3e",
   "metadata": {},
   "outputs": [
    {
     "data": {
      "text/plain": [
       "1.0"
      ]
     },
     "execution_count": 20,
     "metadata": {},
     "output_type": "execute_result"
    }
   ],
   "source": [
    "ℓ1 = 1.0\n",
    "ℓ2 = 1.0\n",
    "ℓc1 = ℓ1/2\n",
    "ℓc2 = ℓ2/2\n",
    "m1 = 1.0\n",
    "m2 = 1.0\n",
    "g = 9.81\n",
    "I1 = m1*(ℓ1^2)\n",
    "I2 = m2*(ℓ2^2)"
   ]
  },
  {
   "cell_type": "code",
   "execution_count": 21,
   "id": "873ab50b",
   "metadata": {},
   "outputs": [
    {
     "data": {
      "text/plain": [
       "Spanning tree:\n",
       "Vertex: world (root)\n",
       "No non-tree joints."
      ]
     },
     "execution_count": 21,
     "metadata": {},
     "output_type": "execute_result"
    }
   ],
   "source": [
    "g = -9.81 # gravitational acceleration in z-direction\n",
    "world = RigidBody{Float64}(\"world\")\n",
    "doublependulum = Mechanism(world; gravity = SVector(0, 0, g))"
   ]
  },
  {
   "cell_type": "code",
   "execution_count": 23,
   "id": "7e76b906",
   "metadata": {},
   "outputs": [
    {
     "data": {
      "text/plain": [
       "Spanning tree:\n",
       "Vertex: world (root)\n",
       "  Vertex: frame0, Edge: joint0\n",
       "    Vertex: frame1, Edge: joint1\n",
       "No non-tree joints."
      ]
     },
     "execution_count": 23,
     "metadata": {},
     "output_type": "execute_result"
    }
   ],
   "source": [
    "axis = SVector(0., 1., 0.) # joint axis\n",
    "m = zeros(3, 3)\n",
    "inertia1 = SpatialInertia(CartesianFrame3D(\"frame0\"),\n",
    "    moment=SArray{Tuple{3,3}}(m),\n",
    "    com=SVector(0, 0, ℓc1),\n",
    "    mass=m1)\n",
    "\n",
    "link0 = RigidBody(inertia1)\n",
    "joint0 = Joint(\"joint0\", Revolute(axis))\n",
    "before_joint0_to_world = one(Transform3D, frame_before(joint0), default_frame(world))\n",
    "\n",
    "attach!(doublependulum, world, link0, joint0, joint_pose = before_joint0_to_world)\n",
    "\n",
    "inertia2 = SpatialInertia(CartesianFrame3D(\"frame1\"),\n",
    "    moment=SArray{Tuple{3,3}}(m),\n",
    "    com=SVector(0, 0, ℓc2),\n",
    "    mass=m2)\n",
    "\n",
    "link1 = RigidBody(inertia2)\n",
    "joint1 = Joint(\"joint1\", Revolute(axis))\n",
    "before_joint1_to_after_joint0 = Transform3D(frame_before(joint1), frame_after(joint0), SVector(0, 0, ℓ1))\n",
    "attach!(doublependulum, link0, link1, joint1, joint_pose = before_joint1_to_after_joint0)"
   ]
  },
  {
   "cell_type": "code",
   "execution_count": 68,
   "id": "bdbfe330",
   "metadata": {},
   "outputs": [
    {
     "data": {
      "text/plain": [
       "Transform3D from \"after_joint1\" to \"after_joint0\":\n",
       "rotation: 0.0 rad about [1.0, 0.0, 0.0], translation: [0.0, 0.0, 1.0]"
      ]
     },
     "execution_count": 68,
     "metadata": {},
     "output_type": "execute_result"
    }
   ],
   "source": [
    "state = MechanismState(doublependulum)\n",
    "relative_transform(state, default_frame(link1), default_frame(link0))"
   ]
  },
  {
   "cell_type": "code",
   "execution_count": 25,
   "id": "440549ac",
   "metadata": {},
   "outputs": [],
   "source": [
    "#=\n",
    "curdir = pwd()\n",
    "urdfpath = joinpath(curdir, \"../../res/flyhopper_mockup/urdf/flyhopper_mockup_jl.urdf\")\n",
    "bot = parse_urdf(urdfpath, floating=False)\n",
    "# remove_fixed_tree_joints!(bot);\n",
    "g = -9.81 # gravitational acceleration in z-direction\n",
    "state = MechanismState(bot)\n",
    "set_configuration!(state, [1; 0; 0; 0; 0; 0; 0.7])\n",
    "q = configuration(state)\n",
    "v = velocity(state)\n",
    "ts, qs, vs = simulate(state, 5., Δt = 1e-3);\n",
    "=#"
   ]
  },
  {
   "cell_type": "code",
   "execution_count": 26,
   "id": "dc3e28dd",
   "metadata": {},
   "outputs": [
    {
     "data": {
      "text/plain": [
       "f (generic function with 1 method)"
      ]
     },
     "execution_count": 26,
     "metadata": {},
     "output_type": "execute_result"
    }
   ],
   "source": [
    "function f(x)\n",
    "    # double pendulum dynamics\n",
    "    \n",
    "    q1 = x[1]\n",
    "    q1̇ = x[2]\n",
    "    q2 = x[3]\n",
    "    q2̇ = x[4]\n",
    "    \n",
    "    M = zeros(2, 2)\n",
    "    M[1, 1] = I1 + I2 + m2*ℓ1^2 + 2*m2*ℓ1*ℓc2*cos(q2)\n",
    "    M[1, 2] = I2 + m2*ℓ1*ℓc2*cos(q2)\n",
    "    M[2, 1] = I2 + m2*ℓ1*ℓc2*cos(q2)\n",
    "    M[2, 2] = I2\n",
    "    \n",
    "    C = zeros(2, 2)\n",
    "    C[1, 1] = -2*m2*ℓ1*ℓc2*sin(q2)*q2̇ \n",
    "    C[1, 2] = -m2*ℓ1*ℓc2*sin(q2)*q2̇ \n",
    "    C[2, 1] = m2*ℓ1*ℓc2*sin(q2)*q1̇\n",
    "    C[2, 2] = 0\n",
    "    \n",
    "    τg = zeros(2)\n",
    "    τg[1] = -m1*g*ℓc1*sin(q1) - m2*g*(ℓ1*sin(q1) + ℓc2*sin(q1+q2))\n",
    "    τg[2] = -m2*g*ℓc2*sin(q1+q2)\n",
    "    q_d = zeros(2)\n",
    "    q_d[1] = q1̇ \n",
    "    q_d[2] = q2̇ \n",
    "    q_dd = inv(M)*(τg - C*q_d)\n",
    "    q1̈  = q_dd[1]\n",
    "    q2̈  = q_dd[2]\n",
    "    \n",
    "    ẋ = zeros(4)\n",
    "    ẋ[1] = q1̇  # q1 dot\n",
    "    ẋ[2] = q1̈  # q1 double dot\n",
    "    ẋ[3] = q2̇  # q2 dot\n",
    "    ẋ[4] = q2̈  # q2 double dot\n",
    "    \n",
    "end"
   ]
  },
  {
   "cell_type": "code",
   "execution_count": 27,
   "id": "bb9d1a97",
   "metadata": {},
   "outputs": [
    {
     "data": {
      "text/plain": [
       "euler_step (generic function with 1 method)"
      ]
     },
     "execution_count": 27,
     "metadata": {},
     "output_type": "execute_result"
    }
   ],
   "source": [
    "function euler_step(xk)\n",
    "    xn = xk .+ h*f(xk)\n",
    "end"
   ]
  },
  {
   "cell_type": "code",
   "execution_count": 28,
   "id": "4097aaff",
   "metadata": {},
   "outputs": [
    {
     "data": {
      "text/plain": [
       "simulate! (generic function with 1 method)"
      ]
     },
     "execution_count": 28,
     "metadata": {},
     "output_type": "execute_result"
    }
   ],
   "source": [
    "function simulate!(xtraj, N)\n",
    "    for k = 1:(N-1)\n",
    "        xtraj[:,k+1] .= euler_step(xtraj[:,k])\n",
    "    end\n",
    "end"
   ]
  },
  {
   "cell_type": "code",
   "execution_count": 29,
   "id": "d2879d73",
   "metadata": {},
   "outputs": [],
   "source": [
    "Tf = 10.0\n",
    "h = 0.001 #20 Hz\n",
    "N = Int(floor(Tf./h + 1))\n",
    "thist = h.*Array(0:(N-1));"
   ]
  },
  {
   "cell_type": "code",
   "execution_count": 30,
   "id": "bbed0f04",
   "metadata": {},
   "outputs": [],
   "source": [
    "x0 = [5*(pi/180); 0.0; 0.0; 0.0]\n",
    "xtraj = zeros(4,N)\n",
    "xtraj[:,1] = x0;"
   ]
  },
  {
   "cell_type": "code",
   "execution_count": 31,
   "id": "d73f8028",
   "metadata": {},
   "outputs": [],
   "source": [
    "simulate!(xtraj, N)"
   ]
  },
  {
   "cell_type": "code",
   "execution_count": 57,
   "id": "6fc51be3",
   "metadata": {},
   "outputs": [],
   "source": [
    "\n",
    "# set_configuration!(state, link1, 0.4)\n",
    "# set_velocity!(state, link0, 1.)\n",
    "# set_velocity!(state, link1, 2.);"
   ]
  },
  {
   "cell_type": "code",
   "execution_count": 58,
   "id": "d80a890a",
   "metadata": {},
   "outputs": [
    {
     "data": {
      "text/plain": [
       "2-element SegmentedVector{JointID, Float64, Base.OneTo{JointID}, Vector{Float64}}:\n",
       " 0.0\n",
       " 0.0"
      ]
     },
     "execution_count": 58,
     "metadata": {},
     "output_type": "execute_result"
    }
   ],
   "source": [
    "q = configuration(state)\n",
    "v = velocity(state)"
   ]
  },
  {
   "cell_type": "code",
   "execution_count": 59,
   "id": "882f68f7",
   "metadata": {},
   "outputs": [
    {
     "data": {
      "text/plain": [
       "10001-element Vector{Vector{Float64}}:\n",
       " [0.08726646259971647, 0.0]\n",
       " [0.08677789240751389, -0.0004885701922025865]\n",
       " [0.08628864001108741, -0.000977822588629076]\n",
       " [0.08579870423471148, -0.001467758365005009]\n",
       " [0.08530808390652234, -0.001958378693194147]\n",
       " [0.08481677785857454, -0.002449684741141941]\n",
       " [0.08432478492689789, -0.0029416776728185884]\n",
       " [0.08383210395155481, -0.003434358648161668]\n",
       " [0.08333873377669812, -0.003927728823018362]\n",
       " [0.08284467325062923, -0.00442178934908725]\n",
       " [0.0823499212258568, -0.004916541373859692]\n",
       " [0.08185447655915572, -0.005411986040560779]\n",
       " [0.08135833811162663, -0.005908124488089868]\n",
       " ⋮\n",
       " [-0.47203843971833637, -0.5593049023180523]\n",
       " [-0.47203843971833637, -0.5593049023180523]\n",
       " [-0.47203843971833637, -0.5593049023180523]\n",
       " [-0.47203843971833637, -0.5593049023180523]\n",
       " [-0.47203843971833637, -0.5593049023180523]\n",
       " [-0.47203843971833637, -0.5593049023180523]\n",
       " [-0.47203843971833637, -0.5593049023180523]\n",
       " [-0.47203843971833637, -0.5593049023180523]\n",
       " [-0.47203843971833637, -0.5593049023180523]\n",
       " [-0.47203843971833637, -0.5593049023180523]\n",
       " [-0.47203843971833637, -0.5593049023180523]\n",
       " [-0.47203843971833637, -0.5593049023180523]"
      ]
     },
     "execution_count": 59,
     "metadata": {},
     "output_type": "execute_result"
    }
   ],
   "source": [
    "q1 = xtraj[1, :]\n",
    "q2 = xtraj[3, :]\n",
    "qs = convert(AbstractArray{Float64, 2}, [q1 q2]) \n",
    "ts = convert(AbstractVector{Float64}, thist) # AbstractVector(thist)\n",
    "q_array = [ qs[i,:] for i in 1:size(qs,1)] "
   ]
  },
  {
   "cell_type": "code",
   "execution_count": 71,
   "id": "a56eff8d",
   "metadata": {},
   "outputs": [
    {
     "name": "stderr",
     "output_type": "stream",
     "text": [
      "┌ Info: MeshCat server started. You can open the visualizer by visiting the following URL in your browser:\n",
      "│ http://127.0.0.1:8710\n",
      "└ @ MeshCat /home/ben/.julia/packages/MeshCat/GlCMx/src/visualizer.jl:73\n"
     ]
    },
    {
     "data": {
      "text/html": [
       "    <div style=\"height: 500px; width: 100%; overflow-x: auto; overflow-y: hidden; resize: both\">\n",
       "    <iframe src=\"http://127.0.0.1:8710\" style=\"width: 100%; height: 100%; border: none\"></iframe>\n",
       "    </div>\n"
      ],
      "text/plain": [
       "MeshCat.DisplayedVisualizer(MeshCat.CoreVisualizer(MeshCat.SceneTrees.SceneNode(nothing, nothing, Dict{String, Vector{UInt8}}(), nothing, Dict{String, MeshCat.SceneTrees.SceneNode}(\"meshcat\" => MeshCat.SceneTrees.SceneNode(nothing, nothing, Dict{String, Vector{UInt8}}(), nothing, Dict{String, MeshCat.SceneTrees.SceneNode}(\"world\" => MeshCat.SceneTrees.SceneNode(nothing, nothing, Dict{String, Vector{UInt8}}(), nothing, Dict{String, MeshCat.SceneTrees.SceneNode}(\"before_joint0\" => MeshCat.SceneTrees.SceneNode(nothing, UInt8[0x83, 0xa6, 0x6d, 0x61, 0x74, 0x72, 0x69, 0x78, 0xc7, 0x40  …  0x6f, 0x72, 0x65, 0x5f, 0x6a, 0x6f, 0x69, 0x6e, 0x74, 0x30], Dict{String, Vector{UInt8}}(), nothing, Dict{String, MeshCat.SceneTrees.SceneNode}(\"geometry_1\" => MeshCat.SceneTrees.SceneNode(UInt8[0x83, 0xa6, 0x6f, 0x62, 0x6a, 0x65, 0x63, 0x74, 0x84, 0xaa  …  0x67, 0x65, 0x6f, 0x6d, 0x65, 0x74, 0x72, 0x79, 0x5f, 0x31], UInt8[0x83, 0xa6, 0x6d, 0x61, 0x74, 0x72, 0x69, 0x78, 0xc7, 0x40  …  0x67, 0x65, 0x6f, 0x6d, 0x65, 0x74, 0x72, 0x79, 0x5f, 0x31], Dict{String, Vector{UInt8}}(), nothing, Dict{String, MeshCat.SceneTrees.SceneNode}()))), \"frame0\" => MeshCat.SceneTrees.SceneNode(nothing, UInt8[0x83, 0xa6, 0x6d, 0x61, 0x74, 0x72, 0x69, 0x78, 0xc7, 0x40  …  0x72, 0x6c, 0x64, 0x2f, 0x66, 0x72, 0x61, 0x6d, 0x65, 0x30], Dict{String, Vector{UInt8}}(), nothing, Dict{String, MeshCat.SceneTrees.SceneNode}(\"frame1\" => MeshCat.SceneTrees.SceneNode(nothing, UInt8[0x83, 0xa6, 0x6d, 0x61, 0x74, 0x72, 0x69, 0x78, 0xc7, 0x40  …  0x6d, 0x65, 0x30, 0x2f, 0x66, 0x72, 0x61, 0x6d, 0x65, 0x31], Dict{String, Vector{UInt8}}(), nothing, Dict{String, MeshCat.SceneTrees.SceneNode}()), \"before_joint1\" => MeshCat.SceneTrees.SceneNode(nothing, UInt8[0x83, 0xa6, 0x6d, 0x61, 0x74, 0x72, 0x69, 0x78, 0xc7, 0x40  …  0x6f, 0x72, 0x65, 0x5f, 0x6a, 0x6f, 0x69, 0x6e, 0x74, 0x31], Dict{String, Vector{UInt8}}(), nothing, Dict{String, MeshCat.SceneTrees.SceneNode}(\"geometry_2\" => MeshCat.SceneTrees.SceneNode(UInt8[0x83, 0xa6, 0x6f, 0x62, 0x6a, 0x65, 0x63, 0x74, 0x84, 0xaa  …  0x67, 0x65, 0x6f, 0x6d, 0x65, 0x74, 0x72, 0x79, 0x5f, 0x32], UInt8[0x83, 0xa6, 0x6d, 0x61, 0x74, 0x72, 0x69, 0x78, 0xc7, 0x40  …  0x67, 0x65, 0x6f, 0x6d, 0x65, 0x74, 0x72, 0x79, 0x5f, 0x32], Dict{String, Vector{UInt8}}(), nothing, Dict{String, MeshCat.SceneTrees.SceneNode}()))), \"after_joint0\" => MeshCat.SceneTrees.SceneNode(nothing, UInt8[0x83, 0xa6, 0x6d, 0x61, 0x74, 0x72, 0x69, 0x78, 0xc7, 0x40  …  0x74, 0x65, 0x72, 0x5f, 0x6a, 0x6f, 0x69, 0x6e, 0x74, 0x30], Dict{String, Vector{UInt8}}(), nothing, Dict{String, MeshCat.SceneTrees.SceneNode}(\"geometry_3\" => MeshCat.SceneTrees.SceneNode(UInt8[0x83, 0xa6, 0x6f, 0x62, 0x6a, 0x65, 0x63, 0x74, 0x84, 0xaa  …  0x67, 0x65, 0x6f, 0x6d, 0x65, 0x74, 0x72, 0x79, 0x5f, 0x33], UInt8[0x83, 0xa6, 0x6d, 0x61, 0x74, 0x72, 0x69, 0x78, 0xc7, 0x40  …  0x67, 0x65, 0x6f, 0x6d, 0x65, 0x74, 0x72, 0x79, 0x5f, 0x33], Dict{String, Vector{UInt8}}(), nothing, Dict{String, MeshCat.SceneTrees.SceneNode}()))))))))))), Set{Any}(), ip\"127.0.0.1\", 8710))"
      ]
     },
     "execution_count": 71,
     "metadata": {},
     "output_type": "execute_result"
    }
   ],
   "source": [
    "mvis = MechanismVisualizer(doublependulum, Skeleton(randomize_colors=true, inertias=false));\n",
    "\n",
    "render(mvis)"
   ]
  },
  {
   "cell_type": "code",
   "execution_count": 66,
   "id": "e54feb4a",
   "metadata": {},
   "outputs": [],
   "source": [
    "set_configuration!(mvis, [x0[1], x0[3]])"
   ]
  },
  {
   "cell_type": "code",
   "execution_count": 61,
   "id": "bb23df16",
   "metadata": {
    "scrolled": true
   },
   "outputs": [],
   "source": [
    "# Now we can simply call `simulate`, which will return a tuple consisting of:\n",
    "# * simulation times (a `Vector` of numbers)\n",
    "# * joint configuration vectors (a `Vector` of `Vector`s)\n",
    "# * joint velocity vectors (a `Vector` of `Vector`s)\n",
    "\n",
    "# ts, qs, vs = simulate(state, final_time, simple_control!; Δt = 1e-3);\n",
    "# And animate:\n",
    "# MeshCatMechanisms.animate(mvis, ts, qs; realtimerate = 1.);\n",
    "using MeshCat\n",
    "animation = Animation(mvis, ts, q_array)\n",
    "setanimation!(mvis, animation)"
   ]
  },
  {
   "cell_type": "code",
   "execution_count": null,
   "id": "d738dc89",
   "metadata": {},
   "outputs": [],
   "source": []
  }
 ],
 "metadata": {
  "kernelspec": {
   "display_name": "Julia 1.6.2",
   "language": "julia",
   "name": "julia-1.6"
  },
  "language_info": {
   "file_extension": ".jl",
   "mimetype": "application/julia",
   "name": "julia",
   "version": "1.6.2"
  }
 },
 "nbformat": 4,
 "nbformat_minor": 5
}
