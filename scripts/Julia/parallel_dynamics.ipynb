{
 "cells": [
  {
   "cell_type": "code",
   "execution_count": 1,
   "id": "f2a4e977",
   "metadata": {},
   "outputs": [
    {
     "name": "stderr",
     "output_type": "stream",
     "text": [
      "\u001b[32m\u001b[1m Activating\u001b[22m\u001b[39m environment at `D:\\Documents\\git_workspace\\flyhopper\\scripts\\Julia\\Project.toml`\n"
     ]
    }
   ],
   "source": [
    "import Pkg; Pkg.activate(@__DIR__); Pkg.instantiate()"
   ]
  },
  {
   "cell_type": "code",
   "execution_count": 4,
   "id": "173fc25e",
   "metadata": {},
   "outputs": [
    {
     "name": "stderr",
     "output_type": "stream",
     "text": [
      "┌ Info: Precompiling MeshCatMechanisms [6ad125db-dd91-5488-b820-c1df6aab299d]\n",
      "└ @ Base loading.jl:1278\n"
     ]
    },
    {
     "data": {
      "application/vnd.webio.node+json": {
       "children": [],
       "instanceArgs": {
        "namespace": "html",
        "tag": "div"
       },
       "nodeType": "DOM",
       "props": {},
       "type": "node"
      },
      "text/html": [
       "<div style=\"padding: 1em; background-color: #f8d6da; border: 1px solid #f5c6cb; font-weight: bold;\">\n",
       "<p>The WebIO Jupyter extension was not detected. See the\n",
       "<a href=\"https://juliagizmos.github.io/WebIO.jl/latest/providers/ijulia/\" target=\"_blank\">\n",
       "    WebIO Jupyter integration documentation\n",
       "</a>\n",
       "for more information.\n",
       "</div>\n"
      ],
      "text/plain": [
       "WebIO._IJuliaInit()"
      ]
     },
     "metadata": {},
     "output_type": "display_data"
    }
   ],
   "source": [
    "using RigidBodyDynamics\n",
    "using LinearAlgebra\n",
    "using MeshCatMechanisms\n",
    "using StaticArrays"
   ]
  },
  {
   "cell_type": "code",
   "execution_count": 50,
   "id": "e11484c9",
   "metadata": {},
   "outputs": [
    {
     "data": {
      "text/plain": [
       "1.0"
      ]
     },
     "execution_count": 50,
     "metadata": {},
     "output_type": "execute_result"
    }
   ],
   "source": [
    "ℓ1 = 1.0\n",
    "ℓ2 = 1.0\n",
    "ℓc1 = ℓ1/2\n",
    "ℓc2 = ℓ2/2\n",
    "m1 = 1.0\n",
    "m2 = 1.0\n",
    "g = 9.81\n",
    "I1 = m1*(ℓ1^2)\n",
    "I2 = m2*(ℓ2^2)"
   ]
  },
  {
   "cell_type": "code",
   "execution_count": 51,
   "id": "eeca8a3e",
   "metadata": {},
   "outputs": [
    {
     "data": {
      "text/plain": [
       "Spanning tree:\n",
       "Vertex: world (root)\n",
       "No non-tree joints."
      ]
     },
     "execution_count": 51,
     "metadata": {},
     "output_type": "execute_result"
    }
   ],
   "source": [
    "g = -9.81 # gravitational acceleration in z-direction\n",
    "world = RigidBody{Float64}(\"world\")\n",
    "doublependulum = Mechanism(world; gravity = SVector(0, 0, g))"
   ]
  },
  {
   "cell_type": "code",
   "execution_count": 52,
   "id": "3ce9fa08",
   "metadata": {},
   "outputs": [
    {
     "data": {
      "text/plain": [
       "Spanning tree:\n",
       "Vertex: world (root)\n",
       "  Vertex: frame0, Edge: joint0\n",
       "    Vertex: frame1, Edge: joint1\n",
       "No non-tree joints."
      ]
     },
     "execution_count": 52,
     "metadata": {},
     "output_type": "execute_result"
    }
   ],
   "source": [
    "axis = SVector(0., 1., 0.) # joint axis\n",
    "inertia1 = SpatialInertia(CartesianFrame3D(\"frame0\"),\n",
    "    moment=SArray{Tuple{3,3}}(m),\n",
    "    com=SVector(0, 0, ℓc1),\n",
    "    mass=m1)\n",
    "\n",
    "link0 = RigidBody(inertia1)\n",
    "joint0 = Joint(\"joint0\", Revolute(axis))\n",
    "before_joint0_to_world = one(Transform3D, frame_before(joint0), default_frame(world))\n",
    "\n",
    "attach!(doublependulum, world, link0, joint0, joint_pose = before_joint0_to_world)\n",
    "\n",
    "inertia2 = SpatialInertia(CartesianFrame3D(\"frame1\"),\n",
    "    moment=SArray{Tuple{3,3}}(m),\n",
    "    com=SVector(0, 0, ℓc2),\n",
    "    mass=m2)\n",
    "link1 = RigidBody(inertia2)\n",
    "joint1 = Joint(\"joint1\", Revolute(axis))\n",
    "before_joint1_to_after_joint0 = Transform3D(frame_before(joint1), frame_after(joint0), SVector(0, 0, ℓ1))\n",
    "attach!(doublependulum, link0, link1, joint1, joint_pose = before_joint1_to_after_joint0)"
   ]
  },
  {
   "cell_type": "code",
   "execution_count": 53,
   "id": "6465dd3d",
   "metadata": {},
   "outputs": [
    {
     "data": {
      "text/plain": [
       "MechanismState{Float64, Float64, Float64, …}(…)"
      ]
     },
     "execution_count": 53,
     "metadata": {},
     "output_type": "execute_result"
    }
   ],
   "source": [
    "state = MechanismState(doublependulum)"
   ]
  },
  {
   "cell_type": "code",
   "execution_count": 56,
   "id": "5add56b3",
   "metadata": {},
   "outputs": [],
   "source": [
    "#=\n",
    "curdir = pwd()\n",
    "urdfpath = joinpath(curdir, \"../../res/flyhopper_mockup/urdf/flyhopper_mockup_jl.urdf\")\n",
    "bot = parse_urdf(urdfpath, floating=False)\n",
    "# remove_fixed_tree_joints!(bot);\n",
    "g = -9.81 # gravitational acceleration in z-direction\n",
    "state = MechanismState(bot)\n",
    "set_configuration!(state, [1; 0; 0; 0; 0; 0; 0.7])\n",
    "q = configuration(state)\n",
    "v = velocity(state)\n",
    "ts, qs, vs = simulate(state, 5., Δt = 1e-3);\n",
    "=#"
   ]
  },
  {
   "cell_type": "code",
   "execution_count": 57,
   "id": "6faeb5a7",
   "metadata": {},
   "outputs": [
    {
     "data": {
      "text/plain": [
       "f (generic function with 1 method)"
      ]
     },
     "execution_count": 57,
     "metadata": {},
     "output_type": "execute_result"
    }
   ],
   "source": [
    "function f(x)\n",
    "    # double pendulum dynamics\n",
    "    \n",
    "    q1 = x[1]\n",
    "    q1̇ = x[2]\n",
    "    q2 = x[3]\n",
    "    q2̇ = x[4]\n",
    "    \n",
    "    M = zeros(2, 2)\n",
    "    M[1, 1] = I1 + I2 + m2*ℓ1^2 + 2*m2*ℓ1*ℓc2*cos(q2)\n",
    "    M[1, 2] = I2 + m2*ℓ1*ℓc2*cos(q2)\n",
    "    M[2, 1] = I2 + m2*ℓ1*ℓc2*cos(q2)\n",
    "    M[2, 2] = I2\n",
    "    \n",
    "    C = zeros(2, 2)\n",
    "    C[1, 1] = -2*m2*ℓ1*ℓc2*sin(q2)*q2̇ \n",
    "    C[1, 2] = -m2*ℓ1*ℓc2*sin(q2)*q2̇ \n",
    "    C[2, 1] = m2*ℓ1*ℓc2*sin(q2)*q1̇\n",
    "    C[2, 2] = 0\n",
    "    \n",
    "    τg = zeros(2)\n",
    "    τg[1] = -m1*g*ℓc1*sin(q1) - m2*g*(ℓ1*sin(q1) + ℓc2*sin(q1+q2))\n",
    "    τg[2] = -m2*g*ℓc2*sin(q1+q2)\n",
    "    q_d = zeros(2)\n",
    "    q_d[1] = q1̇ \n",
    "    q_d[2] = q2̇ \n",
    "    q_dd = inv(M)*(τg - C*q_d)\n",
    "    q1̈  = q_dd[1]\n",
    "    q2̈  = q_dd[2]\n",
    "    \n",
    "    ẋ = zeros(4)\n",
    "    ẋ[1] = q1̇  # q1 dot\n",
    "    ẋ[2] = q1̈  # q1 double dot\n",
    "    ẋ[3] = q2̇  # q2 dot\n",
    "    ẋ[4] = q2̈  # q2 double dot\n",
    "    \n",
    "end"
   ]
  },
  {
   "cell_type": "code",
   "execution_count": 58,
   "id": "92eb82dc",
   "metadata": {},
   "outputs": [
    {
     "data": {
      "text/plain": [
       "euler_step (generic function with 1 method)"
      ]
     },
     "execution_count": 58,
     "metadata": {},
     "output_type": "execute_result"
    }
   ],
   "source": [
    "function euler_step(xk)\n",
    "    xn = xk .+ h*f(xk)\n",
    "end"
   ]
  },
  {
   "cell_type": "code",
   "execution_count": 59,
   "id": "d4c947b1",
   "metadata": {},
   "outputs": [
    {
     "data": {
      "text/plain": [
       "simulate! (generic function with 1 method)"
      ]
     },
     "execution_count": 59,
     "metadata": {},
     "output_type": "execute_result"
    }
   ],
   "source": [
    "function simulate!(xtraj, N)\n",
    "    for k = 1:(N-1)\n",
    "        xtraj[:,k+1] .= euler_step(xtraj[:,k])\n",
    "    end\n",
    "end"
   ]
  },
  {
   "cell_type": "code",
   "execution_count": 60,
   "id": "d1b9a0a7",
   "metadata": {},
   "outputs": [],
   "source": [
    "Tf = 10.0\n",
    "h = 0.001 #20 Hz\n",
    "N = Int(floor(Tf./h + 1))\n",
    "thist = h.*Array(0:(N-1));"
   ]
  },
  {
   "cell_type": "code",
   "execution_count": 61,
   "id": "06816237",
   "metadata": {},
   "outputs": [],
   "source": [
    "x0 = [5*(pi/180); 0.0; 0.0; 0.0]\n",
    "xtraj = zeros(4,N)\n",
    "xtraj[:,1] = x0;"
   ]
  },
  {
   "cell_type": "code",
   "execution_count": 62,
   "id": "e385ae25",
   "metadata": {},
   "outputs": [],
   "source": [
    "simulate!(xtraj, N)"
   ]
  },
  {
   "cell_type": "code",
   "execution_count": null,
   "id": "d283b333",
   "metadata": {},
   "outputs": [],
   "source": [
    "set_configuration!(state, [0, 0])\n",
    "# set_configuration!(state, link1, 0.4)\n",
    "# set_velocity!(state, link0, 1.)\n",
    "# set_velocity!(state, link1, 2.);"
   ]
  },
  {
   "cell_type": "code",
   "execution_count": null,
   "id": "52541f58",
   "metadata": {},
   "outputs": [],
   "source": [
    "q = configuration(state)\n",
    "v = velocity(state)"
   ]
  },
  {
   "cell_type": "code",
   "execution_count": 69,
   "id": "9cb53ce7",
   "metadata": {},
   "outputs": [
    {
     "data": {
      "text/plain": [
       "10001×2 Array{Float64,2}:\n",
       "  0.0872665   0.0\n",
       "  0.0867779  -0.00048857\n",
       "  0.0862886  -0.000977823\n",
       "  0.0857987  -0.00146776\n",
       "  0.0853081  -0.00195838\n",
       "  0.0848168  -0.00244968\n",
       "  0.0843248  -0.00294168\n",
       "  0.0838321  -0.00343436\n",
       "  0.0833387  -0.00392773\n",
       "  0.0828447  -0.00442179\n",
       "  0.0823499  -0.00491654\n",
       "  0.0818545  -0.00541199\n",
       "  0.0813583  -0.00590812\n",
       "  ⋮          \n",
       " -0.472038   -0.559305\n",
       " -0.472038   -0.559305\n",
       " -0.472038   -0.559305\n",
       " -0.472038   -0.559305\n",
       " -0.472038   -0.559305\n",
       " -0.472038   -0.559305\n",
       " -0.472038   -0.559305\n",
       " -0.472038   -0.559305\n",
       " -0.472038   -0.559305\n",
       " -0.472038   -0.559305\n",
       " -0.472038   -0.559305\n",
       " -0.472038   -0.559305"
      ]
     },
     "execution_count": 69,
     "metadata": {},
     "output_type": "execute_result"
    }
   ],
   "source": [
    "q1 = xtraj[1, :]\n",
    "q2 = xtraj[3, :]\n",
    "qs = [q1 q2]"
   ]
  },
  {
   "cell_type": "code",
   "execution_count": 66,
   "id": "73e7ed76",
   "metadata": {},
   "outputs": [
    {
     "name": "stderr",
     "output_type": "stream",
     "text": [
      "┌ Info: MeshCat server started. You can open the visualizer by visiting the following URL in your browser:\n",
      "│ http://127.0.0.1:8705\n",
      "└ @ MeshCat C:\\Users\\bboks\\.julia\\packages\\MeshCat\\GlCMx\\src\\visualizer.jl:73\n"
     ]
    },
    {
     "data": {
      "text/html": [
       "    <div style=\"height: 500px; width: 100%; overflow-x: auto; overflow-y: hidden; resize: both\">\n",
       "    <iframe src=\"http://127.0.0.1:8705\" style=\"width: 100%; height: 100%; border: none\"></iframe>\n",
       "    </div>\n"
      ],
      "text/plain": [
       "MeshCat.DisplayedVisualizer(MeshCat.CoreVisualizer(MeshCat.SceneTrees.SceneNode(nothing, nothing, Dict{String,Array{UInt8,1}}(), nothing, Dict{String,MeshCat.SceneTrees.SceneNode}(\"meshcat\" => MeshCat.SceneTrees.SceneNode(nothing, nothing, Dict{String,Array{UInt8,1}}(), nothing, Dict{String,MeshCat.SceneTrees.SceneNode}(\"world\" => MeshCat.SceneTrees.SceneNode(nothing, nothing, Dict{String,Array{UInt8,1}}(), nothing, Dict{String,MeshCat.SceneTrees.SceneNode}(\"before_joint0\" => MeshCat.SceneTrees.SceneNode(nothing, UInt8[0x83, 0xa6, 0x6d, 0x61, 0x74, 0x72, 0x69, 0x78, 0xc7, 0x40  …  0x6f, 0x72, 0x65, 0x5f, 0x6a, 0x6f, 0x69, 0x6e, 0x74, 0x30], Dict{String,Array{UInt8,1}}(), nothing, Dict{String,MeshCat.SceneTrees.SceneNode}(\"geometry_1\" => MeshCat.SceneTrees.SceneNode(UInt8[0x83, 0xa6, 0x6f, 0x62, 0x6a, 0x65, 0x63, 0x74, 0x84, 0xaa  …  0x67, 0x65, 0x6f, 0x6d, 0x65, 0x74, 0x72, 0x79, 0x5f, 0x31], UInt8[0x83, 0xa6, 0x6d, 0x61, 0x74, 0x72, 0x69, 0x78, 0xc7, 0x40  …  0x67, 0x65, 0x6f, 0x6d, 0x65, 0x74, 0x72, 0x79, 0x5f, 0x31], Dict{String,Array{UInt8,1}}(), nothing, Dict{String,MeshCat.SceneTrees.SceneNode}()))),\"frame0\" => MeshCat.SceneTrees.SceneNode(nothing, UInt8[0x83, 0xa6, 0x6d, 0x61, 0x74, 0x72, 0x69, 0x78, 0xc7, 0x40  …  0x72, 0x6c, 0x64, 0x2f, 0x66, 0x72, 0x61, 0x6d, 0x65, 0x30], Dict{String,Array{UInt8,1}}(), nothing, Dict{String,MeshCat.SceneTrees.SceneNode}(\"frame1\" => MeshCat.SceneTrees.SceneNode(nothing, UInt8[0x83, 0xa6, 0x6d, 0x61, 0x74, 0x72, 0x69, 0x78, 0xc7, 0x40  …  0x6d, 0x65, 0x30, 0x2f, 0x66, 0x72, 0x61, 0x6d, 0x65, 0x31], Dict{String,Array{UInt8,1}}(), nothing, Dict{String,MeshCat.SceneTrees.SceneNode}()),\"before_joint1\" => MeshCat.SceneTrees.SceneNode(nothing, UInt8[0x83, 0xa6, 0x6d, 0x61, 0x74, 0x72, 0x69, 0x78, 0xc7, 0x40  …  0x6f, 0x72, 0x65, 0x5f, 0x6a, 0x6f, 0x69, 0x6e, 0x74, 0x31], Dict{String,Array{UInt8,1}}(), nothing, Dict{String,MeshCat.SceneTrees.SceneNode}(\"geometry_2\" => MeshCat.SceneTrees.SceneNode(UInt8[0x83, 0xa6, 0x6f, 0x62, 0x6a, 0x65, 0x63, 0x74, 0x84, 0xaa  …  0x67, 0x65, 0x6f, 0x6d, 0x65, 0x74, 0x72, 0x79, 0x5f, 0x32], UInt8[0x83, 0xa6, 0x6d, 0x61, 0x74, 0x72, 0x69, 0x78, 0xc7, 0x40  …  0x67, 0x65, 0x6f, 0x6d, 0x65, 0x74, 0x72, 0x79, 0x5f, 0x32], Dict{String,Array{UInt8,1}}(), nothing, Dict{String,MeshCat.SceneTrees.SceneNode}()))),\"after_joint0\" => MeshCat.SceneTrees.SceneNode(nothing, UInt8[0x83, 0xa6, 0x6d, 0x61, 0x74, 0x72, 0x69, 0x78, 0xc7, 0x40  …  0x74, 0x65, 0x72, 0x5f, 0x6a, 0x6f, 0x69, 0x6e, 0x74, 0x30], Dict{String,Array{UInt8,1}}(), nothing, Dict{String,MeshCat.SceneTrees.SceneNode}(\"geometry_3\" => MeshCat.SceneTrees.SceneNode(UInt8[0x83, 0xa6, 0x6f, 0x62, 0x6a, 0x65, 0x63, 0x74, 0x84, 0xaa  …  0x67, 0x65, 0x6f, 0x6d, 0x65, 0x74, 0x72, 0x79, 0x5f, 0x33], UInt8[0x83, 0xa6, 0x6d, 0x61, 0x74, 0x72, 0x69, 0x78, 0xc7, 0x40  …  0x67, 0x65, 0x6f, 0x6d, 0x65, 0x74, 0x72, 0x79, 0x5f, 0x33], Dict{String,Array{UInt8,1}}(), nothing, Dict{String,MeshCat.SceneTrees.SceneNode}()))))))))))), Set{Any}(), ip\"127.0.0.1\", 8705))"
      ]
     },
     "execution_count": 66,
     "metadata": {},
     "output_type": "execute_result"
    }
   ],
   "source": [
    "mvis = MechanismVisualizer(doublependulum, Skeleton(randomize_colors=true, inertias=false));\n",
    "render(mvis)"
   ]
  },
  {
   "cell_type": "code",
   "execution_count": 19,
   "id": "a73bdcb7",
   "metadata": {},
   "outputs": [
    {
     "ename": "LoadError",
     "evalue": "\u001b[91mUndefVarError: mvis not defined\u001b[39m",
     "output_type": "error",
     "traceback": [
      "\u001b[91mUndefVarError: mvis not defined\u001b[39m",
      "",
      "Stacktrace:",
      " [1] top-level scope at In[19]:8",
      " [2] include_string(::Function, ::Module, ::String, ::String) at .\\loading.jl:1091"
     ]
    }
   ],
   "source": [
    "# Now we can simply call `simulate`, which will return a tuple consisting of:\n",
    "# * simulation times (a `Vector` of numbers)\n",
    "# * joint configuration vectors (a `Vector` of `Vector`s)\n",
    "# * joint velocity vectors (a `Vector` of `Vector`s)\n",
    "\n",
    "# ts, qs, vs = simulate(state, final_time, simple_control!; Δt = 1e-3);\n",
    "# And animate:\n",
    "MeshCatMechanisms.animate(mvis, ts, qs; realtimerate = 1.);"
   ]
  },
  {
   "cell_type": "code",
   "execution_count": null,
   "id": "ab703652",
   "metadata": {},
   "outputs": [],
   "source": []
  }
 ],
 "metadata": {
  "kernelspec": {
   "display_name": "Julia 1.5.4",
   "language": "julia",
   "name": "julia-1.5"
  },
  "language_info": {
   "file_extension": ".jl",
   "mimetype": "application/julia",
   "name": "julia",
   "version": "1.5.4"
  }
 },
 "nbformat": 4,
 "nbformat_minor": 5
}
