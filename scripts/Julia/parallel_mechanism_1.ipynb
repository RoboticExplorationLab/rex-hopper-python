{
 "cells": [
  {
   "cell_type": "code",
   "execution_count": 1,
   "id": "538429c7",
   "metadata": {},
   "outputs": [
    {
     "name": "stderr",
     "output_type": "stream",
     "text": [
      "\u001b[32m\u001b[1m  Activating\u001b[22m\u001b[39m environment at `/mnt/064AC6424AC62E6D/git_workspace/flyhopper/scripts/Julia/Project.toml`\n"
     ]
    }
   ],
   "source": [
    "import Pkg; Pkg.activate(@__DIR__); Pkg.instantiate()"
   ]
  },
  {
   "cell_type": "code",
   "execution_count": 2,
   "id": "30a64a90",
   "metadata": {},
   "outputs": [
    {
     "data": {
      "application/vnd.webio.node+json": {
       "children": [],
       "instanceArgs": {
        "namespace": "html",
        "tag": "div"
       },
       "nodeType": "DOM",
       "props": {},
       "type": "node"
      },
      "text/html": [
       "<div style=\"padding: 1em; background-color: #f8d6da; border: 1px solid #f5c6cb; font-weight: bold;\">\n",
       "<p>The WebIO Jupyter extension was not detected. See the\n",
       "<a href=\"https://juliagizmos.github.io/WebIO.jl/latest/providers/ijulia/\" target=\"_blank\">\n",
       "    WebIO Jupyter integration documentation\n",
       "</a>\n",
       "for more information.\n",
       "</div>\n"
      ],
      "text/plain": [
       "WebIO._IJuliaInit()"
      ]
     },
     "metadata": {},
     "output_type": "display_data"
    }
   ],
   "source": [
    "using RigidBodyDynamics\n",
    "using LinearAlgebra\n",
    "using MeshCatMechanisms\n",
    "using MeshCat\n",
    "using StaticArrays"
   ]
  },
  {
   "cell_type": "code",
   "execution_count": 3,
   "id": "5bf51e19",
   "metadata": {},
   "outputs": [
    {
     "data": {
      "text/plain": [
       "9.81"
      ]
     },
     "execution_count": 3,
     "metadata": {},
     "output_type": "execute_result"
    }
   ],
   "source": [
    "l0 = 0.15\n",
    "l1 = 0.3\n",
    "\n",
    "l2 = 0.3\n",
    "l3 = 0.15\n",
    "l4 = 0.15\n",
    "l34 = l3+l4\n",
    "\n",
    "m0 = 1.0\n",
    "m1 = 1.0\n",
    "m2 = 1.0\n",
    "m3 = 1.0\n",
    "\n",
    "g = 9.81\n",
    "\n",
    "# I1 = m1*(l1^2)\n",
    "# I2 = m2*(l2^2)"
   ]
  },
  {
   "cell_type": "code",
   "execution_count": 4,
   "id": "1aed3351",
   "metadata": {},
   "outputs": [
    {
     "data": {
      "text/plain": [
       "Spanning tree:\n",
       "Vertex: world (root)\n",
       "No non-tree joints."
      ]
     },
     "execution_count": 4,
     "metadata": {},
     "output_type": "execute_result"
    }
   ],
   "source": [
    "world = RigidBody{Float64}(\"world\")\n",
    "doublependulum = Mechanism(world; gravity = SVector(0, 0, g))"
   ]
  },
  {
   "cell_type": "code",
   "execution_count": 5,
   "id": "70f4ea90",
   "metadata": {},
   "outputs": [
    {
     "data": {
      "text/plain": [
       "MechanismState{Float64, Float64, Float64, …}(…)"
      ]
     },
     "execution_count": 5,
     "metadata": {},
     "output_type": "execute_result"
    }
   ],
   "source": [
    "curdir = pwd()\n",
    "urdfpath = joinpath(curdir, \"../../res/flyhopper_parallel/urdf/flyhopper_parallel.urdf\")\n",
    "doublependulum = parse_urdf(urdfpath, floating=false)\n",
    "state = MechanismState(doublependulum)"
   ]
  },
  {
   "cell_type": "code",
   "execution_count": 103,
   "id": "5bff6824",
   "metadata": {},
   "outputs": [
    {
     "data": {
      "text/plain": [
       "f_1 (generic function with 1 method)"
      ]
     },
     "execution_count": 103,
     "metadata": {},
     "output_type": "execute_result"
    }
   ],
   "source": [
    "function f_1(x)\n",
    "    # double-double pendulum dynamics\n",
    "    q0 = x[1]\n",
    "    q0d = x[2]\n",
    "    q1 = x[3]\n",
    "    q1d = x[4]\n",
    "    q2 = x[5]\n",
    "    q2d = x[6]\n",
    "    q3 = x[7]\n",
    "    q3d = x[8]\n",
    "        \n",
    "    # Mass matrix\n",
    "    M = [ 1.0*l0^2*m0 + l0^2*m1 + 2*l0*l1*m1*cos(q1) + l1^2*m1  l0*l1*m1*cos(q1) + l1^2*m1  0  0;\n",
    "          l0*l1*m1*cos(q1) + l1^2*m1  l1^2*m1  0  0;\n",
    "          0  0  1.0*l2^2*m2 + l2^2*m3 + 2*l2*l34*m3*cos(q3) + l34^2*m3  l2*l34*m3*cos(q3) + l34^2*m3;\n",
    "          0  0  l2*l34*m3*cos(q3) + l34^2*m3  l34^2*m3]\n",
    "    \n",
    "    # Coriolis term\n",
    "    C = [ -2*l0*l1*m1*q0d*q1d*sin(q1) - l0*l1*m1*q1d^2*sin(q1);\n",
    "          l0*l1*m1*q0d^2*sin(q1);\n",
    "          -2*l2*l34*m3*q2d*q3d*sin(q3) - l2*l34*m3*q3d^2*sin(q3);\n",
    "          l2*l34*m3*q2d^2*sin(q3)]\n",
    "    \n",
    "    # Gravity term\n",
    "    G = [g*l0*m0*cos(q0) + g*l0*m1*cos(q0) + g*l1*m1*cos(q0 + q1);\n",
    "         g*l1*m1*cos(q0 + q1);\n",
    "         g*l2*m2*cos(q2) + g*l2*m3*cos(q2) + g*l34*m3*cos(q2 + q3);\n",
    "         g*l34*m3*cos(q2 + q3)]\n",
    "    #=\n",
    "    qd = zeros(4)\n",
    "    qd[1] = q0d\n",
    "    qd[2] = q1d\n",
    "    qd[3] = q2d\n",
    "    qd[4] = q3d\n",
    "    =#\n",
    "    qdd = M\\(- G - C)\n",
    "    q0dd = qdd[1]\n",
    "    q1dd = qdd[2]\n",
    "    q2dd = qdd[3]\n",
    "    q3dd = qdd[4]\n",
    "    \n",
    "    ẋ = zeros(8)\n",
    "    ẋ[1] = q0d # q0 dot\n",
    "    ẋ[2] = q0dd # q0 double dot\n",
    "    ẋ[3] = q1d # q1 dot\n",
    "    ẋ[4] = q1dd # q1 double dot\n",
    "    ẋ[5] = q2d # q2 dot\n",
    "    ẋ[6] = q2dd # q2 double dot\n",
    "    ẋ[7] = q3d # q3 dot\n",
    "    ẋ[8] = q3dd # q3 double dot\n",
    "    \n",
    "    return ẋ\n",
    "end"
   ]
  },
  {
   "cell_type": "code",
   "execution_count": 104,
   "id": "59926ed0",
   "metadata": {},
   "outputs": [
    {
     "data": {
      "text/plain": [
       "rk4_step (generic function with 1 method)"
      ]
     },
     "execution_count": 104,
     "metadata": {},
     "output_type": "execute_result"
    }
   ],
   "source": [
    "function rk4_step(f,xk,h)\n",
    "    a = [0 0 0 0; \n",
    "         0.5 0 0 0; \n",
    "         0 0.5 0 0; \n",
    "         0 0 1 0]\n",
    "    b = [1/6, 1/3, 1/3, 1/6]\n",
    "    f1 = f(xk)\n",
    "    f2 = f(xk .+ h*a[2, 1]*f1)\n",
    "    f3 = f(xk .+ h*a[3, 1]*f1 .+ h*a[3, 2]*f2)\n",
    "    f4 = f(xk .+ h*a[4, 1]*f1 .+ h*a[4, 2]*f2 .+ h*a[4, 3]*f3)\n",
    "    xn = xk .+ h*(b[1]*f1 .+ b[2]*f2 .+ b[3]*f3 .+ b[4]*f4)\n",
    "    \n",
    "    return xn\n",
    "end"
   ]
  },
  {
   "cell_type": "code",
   "execution_count": 105,
   "id": "76decf58",
   "metadata": {},
   "outputs": [],
   "source": [
    "Tf = 10.0\n",
    "h = 0.001 #20 Hz\n",
    "N = Int(floor(Tf./h + 1))\n",
    "thist = h.*Array(0:(N-1));"
   ]
  },
  {
   "cell_type": "code",
   "execution_count": 106,
   "id": "2ea6dec7",
   "metadata": {},
   "outputs": [
    {
     "data": {
      "text/plain": [
       "simulate! (generic function with 1 method)"
      ]
     },
     "execution_count": 106,
     "metadata": {},
     "output_type": "execute_result"
    }
   ],
   "source": [
    "function simulate!(xtraj, N)\n",
    "    for k = 1:(N-1)\n",
    "        xtraj[:,k+1] .= rk4_step(f_1, xtraj[:,k], h)\n",
    "    end\n",
    "end"
   ]
  },
  {
   "cell_type": "code",
   "execution_count": 107,
   "id": "2de69a49",
   "metadata": {},
   "outputs": [],
   "source": [
    "x0 = [-30*pi/180; 0.0; -120*(pi/180); 0.0; -150*(pi/180); 0.0; 120*(pi/180); 0.0]\n",
    "xtraj = zeros(8,N)\n",
    "xtraj[:,1] = x0;"
   ]
  },
  {
   "cell_type": "code",
   "execution_count": 108,
   "id": "58a60231",
   "metadata": {},
   "outputs": [],
   "source": [
    "simulate!(xtraj, N)"
   ]
  },
  {
   "cell_type": "code",
   "execution_count": 109,
   "id": "002b767a",
   "metadata": {},
   "outputs": [
    {
     "data": {
      "text/plain": [
       "10001-element Vector{Vector{Float64}}:\n",
       " [0.0, 0.0, 0.0, 0.0]\n",
       " [-1.2136713720689585e-5, 2.427336939681002e-5, 2.02279391450233e-5, -3.2364673114848586e-5]\n",
       " [-4.854669022247293e-5, 9.709245181299675e-5, 8.091247744568264e-5, -0.0001294594917036207]\n",
       " [-0.00010922943568836274, 0.00021845417083954377, 0.00018205577760976865, -0.00029128685411938804]\n",
       " [-0.0001941841276393852, 0.00038835340216303305, 0.00032366144452167234, -0.0005178507596799165]\n",
       " [-0.00030340961575792136, 0.0006067829781186695, 0.000505734525794832, -0.0008091568117647441]\n",
       " [-0.00043690442304100685, 0.0008737336940642937, 0.0007282815125506659, -0.0011652122221499361]\n",
       " [-0.0005946667472835898, 0.0011891943165752705, 0.000991310340419549, -0.0015860258165858454]\n",
       " [-0.0007766944628899708, 0.0015531515934606999, 0.0012948303907638348, -0.0020716080416196547]\n",
       " [-0.0009829851230174214, 0.001965590265600503, 0.001638852492128251, -0.0026219709726662543]\n",
       " [-0.0012135359620484287, 0.002426493080603498, 0.0020233889219136714, -0.003237128323327454]\n",
       " [-0.0014683438983928987, 0.0029358408082865717, 0.00244845340827915, -0.003917095455968411]\n",
       " [-0.0017474055376225373, 0.003493612257974399, 0.0029140611322713283, -0.0046618893935526096]\n",
       " ⋮\n",
       " [-1.3423377568089323, -0.12883195529376845, 2.2144058905673805, -0.39461917657906453]\n",
       " [-1.3514272580824207, -0.129009126587726, 2.2352122545099014, -0.39850667761811787]\n",
       " [-1.36047270713746, -0.12911092528790857, 2.255924736908917, -0.40248109862460546]\n",
       " [-1.3694694527935556, -0.12913720365504905, 2.2765323085819364, -0.40654260361781636]\n",
       " [-1.3784131151971024, -0.12908781531985913, 2.2970245922774795, -0.4106913643039958]\n",
       " [-1.3872996021103676, -0.12896261511605422, 2.3173919013732767, -0.4149275602939948]\n",
       " [-1.3961251205305032, -0.12876145890812885, 2.337625267397239, -0.41925137932637413]\n",
       " [-1.4048861838061981, -0.12848420341384814, 2.3577164567761155, -0.42366301749610935]\n",
       " [-1.413579614527779, -0.12813070602141774, 2.3776579774756437, -0.4281626794890532]\n",
       " [-1.4222025435511394, -0.12770082460129029, 2.397443076398189, -0.43275057882231516]\n",
       " [-1.4307524055761438, -0.12719441731256304, 2.4170657285477297, -0.4374269380907334]\n",
       " [-1.4392269317369695, -0.12661134240391647, 2.436520619059718, -0.4421919892196122]"
      ]
     },
     "execution_count": 109,
     "metadata": {},
     "output_type": "execute_result"
    }
   ],
   "source": [
    "q0 = -xtraj[1, :] .- 30*(pi/180)\n",
    "q1 = -xtraj[3, :] .- 120*(pi/180)\n",
    "q2 = -xtraj[5, :] .- 150*(pi/180)\n",
    "q3 = -xtraj[7, :] .+ 120*(pi/180)\n",
    "\n",
    "# qs = [SVector{4}(x) for x in eachrow([q0 q1 q2 q3])]\n",
    "qs = convert(AbstractArray{Float64}, [q2 q0 q3 q1]) \n",
    "# qs = convert(AbstractArray{Float64, 4}, [q0 q1 q2 q3]) \n",
    "ts = convert(AbstractVector{Float64}, thist) # AbstractVector(thist)\n",
    "q_array = [ qs[i,:] for i in 1:size(qs,1)] "
   ]
  },
  {
   "cell_type": "code",
   "execution_count": 13,
   "id": "2bf3978d",
   "metadata": {
    "scrolled": false
   },
   "outputs": [
    {
     "name": "stderr",
     "output_type": "stream",
     "text": [
      "┌ Info: MeshCat server started. You can open the visualizer by visiting the following URL in your browser:\n",
      "│ http://127.0.0.1:8701\n",
      "└ @ MeshCat /home/ben/.julia/packages/MeshCat/GlCMx/src/visualizer.jl:73\n"
     ]
    },
    {
     "data": {
      "text/html": [
       "    <div style=\"height: 500px; width: 100%; overflow-x: auto; overflow-y: hidden; resize: both\">\n",
       "    <iframe src=\"http://127.0.0.1:8701\" style=\"width: 100%; height: 100%; border: none\"></iframe>\n",
       "    </div>\n"
      ],
      "text/plain": [
       "MeshCat.DisplayedVisualizer(MeshCat.CoreVisualizer(MeshCat.SceneTrees.SceneNode(nothing, nothing, Dict{String, Vector{UInt8}}(), nothing, Dict{String, MeshCat.SceneTrees.SceneNode}(\"meshcat\" => MeshCat.SceneTrees.SceneNode(nothing, nothing, Dict{String, Vector{UInt8}}(), nothing, Dict{String, MeshCat.SceneTrees.SceneNode}(\"world\" => MeshCat.SceneTrees.SceneNode(nothing, nothing, Dict{String, Vector{UInt8}}(), nothing, Dict{String, MeshCat.SceneTrees.SceneNode}(\"base_link\" => MeshCat.SceneTrees.SceneNode(nothing, UInt8[0x83, 0xa6, 0x6d, 0x61, 0x74, 0x72, 0x69, 0x78, 0xc7, 0x40  …  0x2f, 0x62, 0x61, 0x73, 0x65, 0x5f, 0x6c, 0x69, 0x6e, 0x6b], Dict{String, Vector{UInt8}}(), nothing, Dict{String, MeshCat.SceneTrees.SceneNode}(\"geometry_1\" => MeshCat.SceneTrees.SceneNode(UInt8[0x83, 0xa6, 0x6f, 0x62, 0x6a, 0x65, 0x63, 0x74, 0x84, 0xaa  …  0x67, 0x65, 0x6f, 0x6d, 0x65, 0x74, 0x72, 0x79, 0x5f, 0x31], UInt8[0x83, 0xa6, 0x6d, 0x61, 0x74, 0x72, 0x69, 0x78, 0xc7, 0x40  …  0x67, 0x65, 0x6f, 0x6d, 0x65, 0x74, 0x72, 0x79, 0x5f, 0x31], Dict{String, Vector{UInt8}}(), nothing, Dict{String, MeshCat.SceneTrees.SceneNode}()))), \"Link 1\" => MeshCat.SceneTrees.SceneNode(nothing, UInt8[0x83, 0xa6, 0x6d, 0x61, 0x74, 0x72, 0x69, 0x78, 0xc7, 0x40  …  0x72, 0x6c, 0x64, 0x2f, 0x4c, 0x69, 0x6e, 0x6b, 0x20, 0x31], Dict{String, Vector{UInt8}}(), nothing, Dict{String, MeshCat.SceneTrees.SceneNode}(\"after_Joint 1\" => MeshCat.SceneTrees.SceneNode(nothing, UInt8[0x83, 0xa6, 0x6d, 0x61, 0x74, 0x72, 0x69, 0x78, 0xc7, 0x40  …  0x65, 0x72, 0x5f, 0x4a, 0x6f, 0x69, 0x6e, 0x74, 0x20, 0x31], Dict{String, Vector{UInt8}}(), nothing, Dict{String, MeshCat.SceneTrees.SceneNode}(\"geometry_2\" => MeshCat.SceneTrees.SceneNode(UInt8[0x83, 0xa6, 0x6f, 0x62, 0x6a, 0x65, 0x63, 0x74, 0x84, 0xaa  …  0x67, 0x65, 0x6f, 0x6d, 0x65, 0x74, 0x72, 0x79, 0x5f, 0x32], UInt8[0x83, 0xa6, 0x6d, 0x61, 0x74, 0x72, 0x69, 0x78, 0xc7, 0x40  …  0x67, 0x65, 0x6f, 0x6d, 0x65, 0x74, 0x72, 0x79, 0x5f, 0x32], Dict{String, Vector{UInt8}}(), nothing, Dict{String, MeshCat.SceneTrees.SceneNode}()))), \"Link 2\" => MeshCat.SceneTrees.SceneNode(nothing, UInt8[0x83, 0xa6, 0x6d, 0x61, 0x74, 0x72, 0x69, 0x78, 0xc7, 0x40  …  0x6b, 0x20, 0x31, 0x2f, 0x4c, 0x69, 0x6e, 0x6b, 0x20, 0x32], Dict{String, Vector{UInt8}}(), nothing, Dict{String, MeshCat.SceneTrees.SceneNode}(\"after_Joint 2\" => MeshCat.SceneTrees.SceneNode(nothing, UInt8[0x83, 0xa6, 0x6d, 0x61, 0x74, 0x72, 0x69, 0x78, 0xc7, 0x40  …  0x65, 0x72, 0x5f, 0x4a, 0x6f, 0x69, 0x6e, 0x74, 0x20, 0x32], Dict{String, Vector{UInt8}}(), nothing, Dict{String, MeshCat.SceneTrees.SceneNode}(\"geometry_3\" => MeshCat.SceneTrees.SceneNode(UInt8[0x83, 0xa6, 0x6f, 0x62, 0x6a, 0x65, 0x63, 0x74, 0x84, 0xaa  …  0x67, 0x65, 0x6f, 0x6d, 0x65, 0x74, 0x72, 0x79, 0x5f, 0x33], UInt8[0x83, 0xa6, 0x6d, 0x61, 0x74, 0x72, 0x69, 0x78, 0xc7, 0x40  …  0x67, 0x65, 0x6f, 0x6d, 0x65, 0x74, 0x72, 0x79, 0x5f, 0x33], Dict{String, Vector{UInt8}}(), nothing, Dict{String, MeshCat.SceneTrees.SceneNode}()))))))), \"Link 3\" => MeshCat.SceneTrees.SceneNode(nothing, UInt8[0x83, 0xa6, 0x6d, 0x61, 0x74, 0x72, 0x69, 0x78, 0xc7, 0x40  …  0x72, 0x6c, 0x64, 0x2f, 0x4c, 0x69, 0x6e, 0x6b, 0x20, 0x33], Dict{String, Vector{UInt8}}(), nothing, Dict{String, MeshCat.SceneTrees.SceneNode}(\"after_Joint 3\" => MeshCat.SceneTrees.SceneNode(nothing, UInt8[0x83, 0xa6, 0x6d, 0x61, 0x74, 0x72, 0x69, 0x78, 0xc7, 0x40  …  0x65, 0x72, 0x5f, 0x4a, 0x6f, 0x69, 0x6e, 0x74, 0x20, 0x33], Dict{String, Vector{UInt8}}(), nothing, Dict{String, MeshCat.SceneTrees.SceneNode}(\"geometry_4\" => MeshCat.SceneTrees.SceneNode(UInt8[0x83, 0xa6, 0x6f, 0x62, 0x6a, 0x65, 0x63, 0x74, 0x84, 0xaa  …  0x67, 0x65, 0x6f, 0x6d, 0x65, 0x74, 0x72, 0x79, 0x5f, 0x34], UInt8[0x83, 0xa6, 0x6d, 0x61, 0x74, 0x72, 0x69, 0x78, 0xc7, 0x40  …  0x67, 0x65, 0x6f, 0x6d, 0x65, 0x74, 0x72, 0x79, 0x5f, 0x34], Dict{String, Vector{UInt8}}(), nothing, Dict{String, MeshCat.SceneTrees.SceneNode}()))), \"Link 4\" => MeshCat.SceneTrees.SceneNode(nothing, UInt8[0x83, 0xa6, 0x6d, 0x61, 0x74, 0x72, 0x69, 0x78, 0xc7, 0x40  …  0x6b, 0x20, 0x33, 0x2f, 0x4c, 0x69, 0x6e, 0x6b, 0x20, 0x34], Dict{String, Vector{UInt8}}(), nothing, Dict{String, MeshCat.SceneTrees.SceneNode}(\"after_Joint 4\" => MeshCat.SceneTrees.SceneNode(nothing, UInt8[0x83, 0xa6, 0x6d, 0x61, 0x74, 0x72, 0x69, 0x78, 0xc7, 0x40  …  0x65, 0x72, 0x5f, 0x4a, 0x6f, 0x69, 0x6e, 0x74, 0x20, 0x34], Dict{String, Vector{UInt8}}(), nothing, Dict{String, MeshCat.SceneTrees.SceneNode}(\"geometry_5\" => MeshCat.SceneTrees.SceneNode(UInt8[0x83, 0xa6, 0x6f, 0x62, 0x6a, 0x65, 0x63, 0x74, 0x84, 0xaa  …  0x67, 0x65, 0x6f, 0x6d, 0x65, 0x74, 0x72, 0x79, 0x5f, 0x35], UInt8[0x83, 0xa6, 0x6d, 0x61, 0x74, 0x72, 0x69, 0x78, 0xc7, 0x40  …  0x67, 0x65, 0x6f, 0x6d, 0x65, 0x74, 0x72, 0x79, 0x5f, 0x35], Dict{String, Vector{UInt8}}(), nothing, Dict{String, MeshCat.SceneTrees.SceneNode}()))))))))))))), Set{Any}(), ip\"127.0.0.1\", 8701))"
      ]
     },
     "execution_count": 13,
     "metadata": {},
     "output_type": "execute_result"
    }
   ],
   "source": [
    "# mvis = MechanismVisualizer(doublependulum, Skeleton(randomize_colors=true, inertias=false));\n",
    "mvis = MechanismVisualizer(doublependulum, URDFVisuals(urdfpath));\n",
    "\n",
    "render(mvis)"
   ]
  },
  {
   "cell_type": "code",
   "execution_count": 95,
   "id": "81682da2",
   "metadata": {},
   "outputs": [],
   "source": [
    "# set_configuration!(mvis, [x0[1]-150*(pi/180), x0[3]+120*(pi/180)])\n",
    "# [q2 q0 q3 q1\n",
    "set_configuration!(mvis, [-x0[5]-150*(pi/180), -x0[1]-30*(pi/180), -x0[7]+120*(pi/180), -x0[3]-120*(pi/180)])\n",
    "# set_configuration!(mvis, [0, 0])"
   ]
  },
  {
   "cell_type": "code",
   "execution_count": 112,
   "id": "03f14b40",
   "metadata": {},
   "outputs": [],
   "source": [
    "# Now we can simply call `simulate`, which will return a tuple consisting of:\n",
    "# * simulation times (a `Vector` of numbers)\n",
    "# * joint configuration vectors (a `Vector` of `Vector`s)\n",
    "# * joint velocity vectors (a `Vector` of `Vector`s)\n",
    "\n",
    "# MeshCatMechanisms.animate(mvis, ts, qs; realtimerate = 1.);\n",
    "animation = Animation(mvis, ts, -q_array)\n",
    "setanimation!(mvis, animation)"
   ]
  },
  {
   "cell_type": "code",
   "execution_count": null,
   "id": "94ead3ea",
   "metadata": {},
   "outputs": [],
   "source": []
  },
  {
   "cell_type": "code",
   "execution_count": null,
   "id": "e5037722",
   "metadata": {},
   "outputs": [],
   "source": []
  }
 ],
 "metadata": {
  "kernelspec": {
   "display_name": "Julia 1.6.2",
   "language": "julia",
   "name": "julia-1.6"
  },
  "language_info": {
   "file_extension": ".jl",
   "mimetype": "application/julia",
   "name": "julia",
   "version": "1.6.2"
  }
 },
 "nbformat": 4,
 "nbformat_minor": 5
}
