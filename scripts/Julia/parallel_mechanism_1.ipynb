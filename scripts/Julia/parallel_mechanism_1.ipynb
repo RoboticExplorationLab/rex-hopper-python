{
 "cells": [
  {
   "cell_type": "code",
   "execution_count": 1,
   "id": "a70e8fab",
   "metadata": {},
   "outputs": [
    {
     "name": "stderr",
     "output_type": "stream",
     "text": [
      "\u001b[32m\u001b[1m  Activating\u001b[22m\u001b[39m environment at `D:\\Documents\\git_workspace\\flyhopper\\scripts\\Julia\\Project.toml`\n",
      "\u001b[32m\u001b[1mPrecompiling\u001b[22m\u001b[39m project...\n",
      "\u001b[32m  ✓ \u001b[39m\u001b[90mMux\u001b[39m\n",
      "\u001b[32m  ✓ \u001b[39m\u001b[90mWebIO\u001b[39m\n",
      "\u001b[32m  ✓ \u001b[39m\u001b[90mCSSUtil\u001b[39m\n",
      "\u001b[32m  ✓ \u001b[39m\u001b[90mJSExpr\u001b[39m\n",
      "\u001b[32m  ✓ \u001b[39m\u001b[90mKnockout\u001b[39m\n",
      "\u001b[32m  ✓ \u001b[39m\u001b[90mBlink\u001b[39m\n",
      "\u001b[32m  ✓ \u001b[39m\u001b[90mInteractBase\u001b[39m\n",
      "\u001b[32m  ✓ \u001b[39mMeshCat\n",
      "\u001b[32m  ✓ \u001b[39mMeshCatMechanisms\n",
      "  9 dependencies successfully precompiled in 92 seconds (159 already precompiled)\n"
     ]
    }
   ],
   "source": [
    "import Pkg; Pkg.activate(@__DIR__); Pkg.instantiate()"
   ]
  },
  {
   "cell_type": "code",
   "execution_count": 2,
   "id": "2918f8fb",
   "metadata": {},
   "outputs": [
    {
     "data": {
      "application/vnd.webio.node+json": {
       "children": [],
       "instanceArgs": {
        "namespace": "html",
        "tag": "div"
       },
       "nodeType": "DOM",
       "props": {},
       "type": "node"
      },
      "text/html": [
       "<div style=\"padding: 1em; background-color: #f8d6da; border: 1px solid #f5c6cb; font-weight: bold;\">\n",
       "<p>The WebIO Jupyter extension was not detected. See the\n",
       "<a href=\"https://juliagizmos.github.io/WebIO.jl/latest/providers/ijulia/\" target=\"_blank\">\n",
       "    WebIO Jupyter integration documentation\n",
       "</a>\n",
       "for more information.\n",
       "</div>\n"
      ],
      "text/plain": [
       "WebIO._IJuliaInit()"
      ]
     },
     "metadata": {},
     "output_type": "display_data"
    }
   ],
   "source": [
    "using RigidBodyDynamics\n",
    "using LinearAlgebra\n",
    "using MeshCatMechanisms\n",
    "using MeshCat\n",
    "using StaticArrays"
   ]
  },
  {
   "cell_type": "code",
   "execution_count": 3,
   "id": "a3cef3c2",
   "metadata": {},
   "outputs": [
    {
     "data": {
      "text/plain": [
       "9.81"
      ]
     },
     "execution_count": 3,
     "metadata": {},
     "output_type": "execute_result"
    }
   ],
   "source": [
    "l0 = 0.15\n",
    "l1 = 0.3\n",
    "\n",
    "l2 = 0.3\n",
    "l3 = 0.15\n",
    "l4 = 0.15\n",
    "l34 = l3+l4\n",
    "\n",
    "m0 = 1.0\n",
    "m1 = 1.0\n",
    "m2 = 1.0\n",
    "m3 = 1.0\n",
    "\n",
    "g = 9.81\n",
    "\n",
    "# I1 = m1*(l1^2)\n",
    "# I2 = m2*(l2^2)"
   ]
  },
  {
   "cell_type": "code",
   "execution_count": 4,
   "id": "3817bf59",
   "metadata": {},
   "outputs": [
    {
     "data": {
      "text/plain": [
       "Spanning tree:\n",
       "Vertex: world (root)\n",
       "No non-tree joints."
      ]
     },
     "execution_count": 4,
     "metadata": {},
     "output_type": "execute_result"
    }
   ],
   "source": [
    "world = RigidBody{Float64}(\"world\")\n",
    "doublependulum = Mechanism(world; gravity = SVector(0, 0, g))"
   ]
  },
  {
   "cell_type": "code",
   "execution_count": 5,
   "id": "9cc8e65f",
   "metadata": {},
   "outputs": [
    {
     "data": {
      "text/plain": [
       "MechanismState{Float64, Float64, Float64, …}(…)"
      ]
     },
     "execution_count": 5,
     "metadata": {},
     "output_type": "execute_result"
    }
   ],
   "source": [
    "curdir = pwd()\n",
    "urdfpath = joinpath(curdir, \"../../res/flyhopper_parallel/urdf/flyhopper_parallel.urdf\")\n",
    "doublependulum = parse_urdf(urdfpath, floating=false)\n",
    "state = MechanismState(doublependulum)"
   ]
  },
  {
   "cell_type": "code",
   "execution_count": 6,
   "id": "046cda67",
   "metadata": {},
   "outputs": [
    {
     "data": {
      "text/plain": [
       "f_1 (generic function with 1 method)"
      ]
     },
     "execution_count": 6,
     "metadata": {},
     "output_type": "execute_result"
    }
   ],
   "source": [
    "function f_1(x)\n",
    "    # double-double pendulum dynamics\n",
    "    q0 = copy(x[1])\n",
    "    q0d = copy(x[2])\n",
    "    q1 = copy(x[3])\n",
    "    q1d = copy(x[4])\n",
    "    q2 = copy(x[5])\n",
    "    q2d = copy(x[6])\n",
    "    q3 = copy(x[7])\n",
    "    q3d = copy(x[8])\n",
    "    \n",
    "    checkval(q0d, 1e3, \"top of dyn\")\n",
    "    # Mass matrix\n",
    "    M = [ 1.0*l0^2*m0 + l0^2*m1 + 2*l0*l1*m1*cos(q1) + l1^2*m1  l0*l1*m1*cos(q1) + l1^2*m1  0  0;\n",
    "          l0*l1*m1*cos(q1) + l1^2*m1  l1^2*m1  0  0;\n",
    "          0  0  1.0*l2^2*m2 + l2^2*m3 + 2*l2*l34*m3*cos(q3) + l34^2*m3  l2*l34*m3*cos(q3) + l34^2*m3;\n",
    "          0  0  l2*l34*m3*cos(q3) + l34^2*m3  l34^2*m3]\n",
    "    \n",
    "    # Coriolis term\n",
    "    C = [ -2*l0*l1*m1*q0d*q1d*sin(q1) - l0*l1*m1*q1d^2*sin(q1);\n",
    "          l0*l1*m1*q0d^2*sin(q1);\n",
    "          -2*l2*l34*m3*q2d*q3d*sin(q3) - l2*l34*m3*q3d^2*sin(q3);\n",
    "          l2*l34*m3*q2d^2*sin(q3)]\n",
    "    \n",
    "    # Gravity term\n",
    "    G = [g*l0*m0*cos(q0) + g*l0*m1*cos(q0) + g*l1*m1*cos(q0 + q1);\n",
    "         g*l1*m1*cos(q0 + q1);\n",
    "         g*l2*m2*cos(q2) + g*l2*m3*cos(q2) + g*l34*m3*cos(q2 + q3);\n",
    "         g*l34*m3*cos(q2 + q3)]\n",
    "\n",
    "    # Constraint Jacobian\n",
    "    D = [-l0*sin(q0) - l1*sin(q0 + q1)  -l1*sin(q0 + q1)  l2*sin(q2) + l3*sin(q2 + q3)  l3*sin(q2 + q3);\n",
    "        l0*cos(q0) + l1*cos(q0 + q1)    l1*cos(q0 + q1)   -l2*cos(q2) - l3*cos(q2 + q3) -l3*cos(q2 + q3)]\n",
    "    \n",
    "    d = [q0d*(-l1*q1d*cos(q0 + q1) + q0d*(-l0*cos(q0) - l1*cos(q0 + q1))) + q1d*(-l1*q0d*cos(q0 + q1) -\n",
    "            l1*q1d*cos(q0 + q1)) + q2d*(l3*q3d*cos(q2 + q3) + q2d*(l2*cos(q2) + l3*cos(q2 + q3))) +\n",
    "            q3d*(l3*q2d*cos(q2 + q3) + l3*q3d*cos(q2 + q3));\n",
    "         q0d*(-l1*q1d*sin(q0 + q1) + q0d*(-l0*sin(q0) - l1*sin(q0 + q1))) + q1d*(-l1*q0d*sin(q0 + q1) -\n",
    "            l1*q1d*sin(q0 + q1)) + q2d*(l3*q3d*sin(q2 + q3) + q2d*(l2*sin(q2) + l3*sin(q2 + q3))) +\n",
    "            q3d*(l3*q2d*sin(q2 + q3) + l3*q3d*sin(q2 + q3))]\n",
    "    \n",
    "    KKT = [M -D';\n",
    "           D zeros(2,2)]\n",
    "    RHS = [- G - C;\n",
    "           d]\n",
    "    \n",
    "    sol = KKT\\RHS\n",
    "    qdd = copy(sol[1:4])\n",
    "    \n",
    "    λ = copy(sol[5:6])\n",
    "    # qdd = M\\(- G - C)\n",
    "    q0dd = qdd[1]\n",
    "    q1dd = qdd[2]\n",
    "    q2dd = qdd[3]\n",
    "    q3dd = qdd[4]\n",
    "    \n",
    "    ẋ = zeros(8)\n",
    "    ẋ[1] = q0d # q0 dot\n",
    "    ẋ[2] = q0dd # q0 double dot\n",
    "    ẋ[3] = q1d # q1 dot\n",
    "    ẋ[4] = q1dd # q1 double dot\n",
    "    ẋ[5] = q2d # q2 dot\n",
    "    ẋ[6] = q2dd # q2 double dot\n",
    "    ẋ[7] = q3d # q3 dot\n",
    "    ẋ[8] = q3dd # q3 double dot\n",
    "    checkval(q0d, 1e3, \"bottom of dyn\") \n",
    "    return copy(ẋ)\n",
    "end"
   ]
  },
  {
   "cell_type": "code",
   "execution_count": 7,
   "id": "5ffaab6f",
   "metadata": {},
   "outputs": [
    {
     "data": {
      "text/plain": [
       "checkval (generic function with 1 method)"
      ]
     },
     "execution_count": 7,
     "metadata": {},
     "output_type": "execute_result"
    }
   ],
   "source": [
    "function checkval(val, max, name)\n",
    "    if val > max\n",
    "        @show val\n",
    "        error(name)\n",
    "    end\n",
    "end\n",
    "#=\n",
    "#---#\n",
    "if isnan(qdd[1])\n",
    "    @show qdd\n",
    "    error(\"A!\")\n",
    "end\n",
    "#---#\n",
    "=#"
   ]
  },
  {
   "cell_type": "code",
   "execution_count": 8,
   "id": "fc21a7fc",
   "metadata": {},
   "outputs": [
    {
     "data": {
      "text/plain": [
       "rk4_step (generic function with 1 method)"
      ]
     },
     "execution_count": 8,
     "metadata": {},
     "output_type": "execute_result"
    }
   ],
   "source": [
    "function rk4_step(f,xk,h)\n",
    "\n",
    "    a = [0 0 0 0; \n",
    "         0.5 0 0 0; \n",
    "         0 0.5 0 0; \n",
    "         0 0 1 0]\n",
    "    b = [1/6, 1/3, 1/3, 1/6]\n",
    "    \n",
    "    f1 = f(xk)\n",
    "    \n",
    "    checkval(f1[2], 1e3, \"f1\")\n",
    "    \n",
    "    f2 = f(xk .+ h*a[2, 1]*f1)\n",
    "    \n",
    "    checkval(f2[2], 1e3, \"f2\")\n",
    "    \n",
    "    f3 = f(xk .+ h*a[3, 1]*f1 .+ h*a[3, 2]*f2)\n",
    "    \n",
    "    checkval(f3[2], 1e3, \"f3\")\n",
    "    \n",
    "    f4 = f(xk .+ h*a[4, 1]*f1 .+ h*a[4, 2]*f2 .+ h*a[4, 3]*f3)\n",
    "    \n",
    "    checkval(f4[2], 1e3, \"f4\")\n",
    "    \n",
    "    xn = xk .+ h*(b[1]*f1 .+ b[2]*f2 .+ b[3]*f3 .+ b[4]*f4)\n",
    "    checkval(xn[2], 1e3, \"xn\")\n",
    "    return xn\n",
    "end"
   ]
  },
  {
   "cell_type": "code",
   "execution_count": 9,
   "id": "e409fd83",
   "metadata": {},
   "outputs": [],
   "source": [
    "Tf = 10.0\n",
    "h = 0.001 #20 Hz\n",
    "N = Int(floor(Tf./h + 1))\n",
    "thist = h.*Array(0:(N-1));"
   ]
  },
  {
   "cell_type": "code",
   "execution_count": 10,
   "id": "6ba32dc6",
   "metadata": {},
   "outputs": [
    {
     "data": {
      "text/plain": [
       "simulate! (generic function with 1 method)"
      ]
     },
     "execution_count": 10,
     "metadata": {},
     "output_type": "execute_result"
    }
   ],
   "source": [
    "function simulate!(xtraj, N)\n",
    "    for k = 1:(N-1)\n",
    "        checkval(xtraj[2, k], 1e3, \"before step\")\n",
    "        xtraj[:,k+1] .= rk4_step(f_1, copy(xtraj[:,k]), h)\n",
    "        checkval(xtraj[2, k], 1e3, \"after step\")\n",
    "    end\n",
    "end"
   ]
  },
  {
   "cell_type": "code",
   "execution_count": 11,
   "id": "74833e5b",
   "metadata": {},
   "outputs": [
    {
     "name": "stdout",
     "output_type": "stream",
     "text": [
      "xtraj[:, 1] = x0 = [-0.5235987755982988, 0.0, -2.0943951023931953, 0.0, -2.6179938779914944, 0.0, 2.0943951023931953, 0.0]\n"
     ]
    }
   ],
   "source": [
    "x0 = [-30*pi/180; 0.0; -120*(pi/180); 0.0; -150*(pi/180); 0.0; 120*(pi/180); 0.0]\n",
    "xtraj = zeros(8,N)\n",
    "@show xtraj[:,1] = x0;"
   ]
  },
  {
   "cell_type": "code",
   "execution_count": 12,
   "id": "decdab7e",
   "metadata": {},
   "outputs": [
    {
     "name": "stdout",
     "output_type": "stream",
     "text": [
      "val = 1002.9483293203118\n"
     ]
    },
    {
     "ename": "LoadError",
     "evalue": "f2",
     "output_type": "error",
     "traceback": [
      "f2",
      "",
      "Stacktrace:",
      " [1] error(s::String)",
      "   @ Base .\\error.jl:33",
      " [2] checkval",
      "   @ .\\In[7]:4 [inlined]",
      " [3] rk4_step(f::typeof(f_1), xk::Vector{Float64}, h::Float64)",
      "   @ Main .\\In[8]:15",
      " [4] simulate!(xtraj::Matrix{Float64}, N::Int64)",
      "   @ Main .\\In[10]:4",
      " [5] top-level scope",
      "   @ In[12]:1",
      " [6] eval",
      "   @ .\\boot.jl:360 [inlined]",
      " [7] include_string(mapexpr::typeof(REPL.softscope), mod::Module, code::String, filename::String)",
      "   @ Base .\\loading.jl:1116"
     ]
    }
   ],
   "source": [
    "simulate!(xtraj, N)"
   ]
  },
  {
   "cell_type": "code",
   "execution_count": 13,
   "id": "a84db9d0",
   "metadata": {},
   "outputs": [
    {
     "data": {
      "text/plain": [
       "10001-element Vector{Vector{Float64}}:\n",
       " [0.0, 0.0, 0.0, 0.0]\n",
       " [-1.0788228971048142e-5, 1.34852862139212e-5, 2.427351518496934e-5, -2.427351518496934e-5]\n",
       " [-4.3153237479831574e-5, 5.394154684990049e-5, 9.709478432951002e-5, -9.709478432951002e-5]\n",
       " [-9.709599042473371e-5, 0.00012136998803302657, 0.0002184659784578713, -0.0002184659784578713]\n",
       " [-0.0001726180963474988, 0.00021577262044636392, 0.00038839071679408477, -0.00038839071679408477]\n",
       " [-0.00026972180799633705, 0.0003371522600420507, 0.0006068740680387208, -0.0006068740680387208]\n",
       " [-0.00038841002311817974, 0.0004855125290382789, 0.0008739225521572358, -0.0008739225521572358]\n",
       " [-0.0005286862854765317, 0.0006608578572018242, 0.001189544142679022, -0.001189544142679022]\n",
       " [-0.0006905547860949213, 0.0008631934834164579, 0.0015537482695120453, -0.0015537482695120453]\n",
       " [-0.0008740203647299438, 0.0010925254575389065, 0.0019665458222695165, -0.0019665458222695165]\n",
       " [-0.0010790885115707916, 0.001348860642542804, 0.0024279491541143727, -0.0024279491541143727]\n",
       " [-0.001305765369168821, 0.001632206716951634, 0.002937972086121121, -0.002937972086121121]\n",
       " [-0.001554057734594494, 0.0019425721775621074, 0.0034966299121572675, -0.0034966299121572675]\n",
       " ⋮\n",
       " [-2.6179938779914944, -0.5235987755982988, 2.0943951023931953, -2.0943951023931953]\n",
       " [-2.6179938779914944, -0.5235987755982988, 2.0943951023931953, -2.0943951023931953]\n",
       " [-2.6179938779914944, -0.5235987755982988, 2.0943951023931953, -2.0943951023931953]\n",
       " [-2.6179938779914944, -0.5235987755982988, 2.0943951023931953, -2.0943951023931953]\n",
       " [-2.6179938779914944, -0.5235987755982988, 2.0943951023931953, -2.0943951023931953]\n",
       " [-2.6179938779914944, -0.5235987755982988, 2.0943951023931953, -2.0943951023931953]\n",
       " [-2.6179938779914944, -0.5235987755982988, 2.0943951023931953, -2.0943951023931953]\n",
       " [-2.6179938779914944, -0.5235987755982988, 2.0943951023931953, -2.0943951023931953]\n",
       " [-2.6179938779914944, -0.5235987755982988, 2.0943951023931953, -2.0943951023931953]\n",
       " [-2.6179938779914944, -0.5235987755982988, 2.0943951023931953, -2.0943951023931953]\n",
       " [-2.6179938779914944, -0.5235987755982988, 2.0943951023931953, -2.0943951023931953]\n",
       " [-2.6179938779914944, -0.5235987755982988, 2.0943951023931953, -2.0943951023931953]"
      ]
     },
     "execution_count": 13,
     "metadata": {},
     "output_type": "execute_result"
    }
   ],
   "source": [
    "q0 = copy(-xtraj[1, :] .- 30*(pi/180))\n",
    "q1 = copy(-xtraj[3, :] .- 120*(pi/180))\n",
    "q2 = copy(-xtraj[5, :] .- 150*(pi/180))\n",
    "q3 = copy(-xtraj[7, :] .+ 120*(pi/180))\n",
    "\n",
    "qs = convert(AbstractArray{Float64}, [q2 q0 q3 q1]) \n",
    "ts = convert(AbstractVector{Float64}, thist) # AbstractVector(thist)\n",
    "q_array = [ qs[i,:] for i in 1:size(qs,1)] "
   ]
  },
  {
   "cell_type": "code",
   "execution_count": 14,
   "id": "8a28b3f2",
   "metadata": {
    "scrolled": false
   },
   "outputs": [
    {
     "name": "stderr",
     "output_type": "stream",
     "text": [
      "┌ Info: MeshCat server started. You can open the visualizer by visiting the following URL in your browser:\n",
      "│ http://127.0.0.1:8700\n",
      "└ @ MeshCat C:\\Users\\bboks\\.julia\\packages\\MeshCat\\GlCMx\\src\\visualizer.jl:73\n"
     ]
    },
    {
     "data": {
      "text/html": [
       "    <div style=\"height: 500px; width: 100%; overflow-x: auto; overflow-y: hidden; resize: both\">\n",
       "    <iframe src=\"http://127.0.0.1:8700\" style=\"width: 100%; height: 100%; border: none\"></iframe>\n",
       "    </div>\n"
      ],
      "text/plain": [
       "MeshCat.DisplayedVisualizer(MeshCat.CoreVisualizer(MeshCat.SceneTrees.SceneNode(nothing, nothing, Dict{String, Vector{UInt8}}(), nothing, Dict{String, MeshCat.SceneTrees.SceneNode}(\"meshcat\" => MeshCat.SceneTrees.SceneNode(nothing, nothing, Dict{String, Vector{UInt8}}(), nothing, Dict{String, MeshCat.SceneTrees.SceneNode}(\"world\" => MeshCat.SceneTrees.SceneNode(nothing, nothing, Dict{String, Vector{UInt8}}(), nothing, Dict{String, MeshCat.SceneTrees.SceneNode}(\"base_link\" => MeshCat.SceneTrees.SceneNode(nothing, UInt8[0x83, 0xa6, 0x6d, 0x61, 0x74, 0x72, 0x69, 0x78, 0xc7, 0x40  …  0x2f, 0x62, 0x61, 0x73, 0x65, 0x5f, 0x6c, 0x69, 0x6e, 0x6b], Dict{String, Vector{UInt8}}(), nothing, Dict{String, MeshCat.SceneTrees.SceneNode}(\"geometry_1\" => MeshCat.SceneTrees.SceneNode(UInt8[0x83, 0xa6, 0x6f, 0x62, 0x6a, 0x65, 0x63, 0x74, 0x84, 0xaa  …  0x67, 0x65, 0x6f, 0x6d, 0x65, 0x74, 0x72, 0x79, 0x5f, 0x31], UInt8[0x83, 0xa6, 0x6d, 0x61, 0x74, 0x72, 0x69, 0x78, 0xc7, 0x40  …  0x67, 0x65, 0x6f, 0x6d, 0x65, 0x74, 0x72, 0x79, 0x5f, 0x31], Dict{String, Vector{UInt8}}(), nothing, Dict{String, MeshCat.SceneTrees.SceneNode}()))), \"Link 1\" => MeshCat.SceneTrees.SceneNode(nothing, UInt8[0x83, 0xa6, 0x6d, 0x61, 0x74, 0x72, 0x69, 0x78, 0xc7, 0x40  …  0x72, 0x6c, 0x64, 0x2f, 0x4c, 0x69, 0x6e, 0x6b, 0x20, 0x31], Dict{String, Vector{UInt8}}(), nothing, Dict{String, MeshCat.SceneTrees.SceneNode}(\"after_Joint 1\" => MeshCat.SceneTrees.SceneNode(nothing, UInt8[0x83, 0xa6, 0x6d, 0x61, 0x74, 0x72, 0x69, 0x78, 0xc7, 0x40  …  0x65, 0x72, 0x5f, 0x4a, 0x6f, 0x69, 0x6e, 0x74, 0x20, 0x31], Dict{String, Vector{UInt8}}(), nothing, Dict{String, MeshCat.SceneTrees.SceneNode}(\"geometry_2\" => MeshCat.SceneTrees.SceneNode(UInt8[0x83, 0xa6, 0x6f, 0x62, 0x6a, 0x65, 0x63, 0x74, 0x84, 0xaa  …  0x67, 0x65, 0x6f, 0x6d, 0x65, 0x74, 0x72, 0x79, 0x5f, 0x32], UInt8[0x83, 0xa6, 0x6d, 0x61, 0x74, 0x72, 0x69, 0x78, 0xc7, 0x40  …  0x67, 0x65, 0x6f, 0x6d, 0x65, 0x74, 0x72, 0x79, 0x5f, 0x32], Dict{String, Vector{UInt8}}(), nothing, Dict{String, MeshCat.SceneTrees.SceneNode}()))), \"Link 2\" => MeshCat.SceneTrees.SceneNode(nothing, UInt8[0x83, 0xa6, 0x6d, 0x61, 0x74, 0x72, 0x69, 0x78, 0xc7, 0x40  …  0x6b, 0x20, 0x31, 0x2f, 0x4c, 0x69, 0x6e, 0x6b, 0x20, 0x32], Dict{String, Vector{UInt8}}(), nothing, Dict{String, MeshCat.SceneTrees.SceneNode}(\"after_Joint 2\" => MeshCat.SceneTrees.SceneNode(nothing, UInt8[0x83, 0xa6, 0x6d, 0x61, 0x74, 0x72, 0x69, 0x78, 0xc7, 0x40  …  0x65, 0x72, 0x5f, 0x4a, 0x6f, 0x69, 0x6e, 0x74, 0x20, 0x32], Dict{String, Vector{UInt8}}(), nothing, Dict{String, MeshCat.SceneTrees.SceneNode}(\"geometry_3\" => MeshCat.SceneTrees.SceneNode(UInt8[0x83, 0xa6, 0x6f, 0x62, 0x6a, 0x65, 0x63, 0x74, 0x84, 0xaa  …  0x67, 0x65, 0x6f, 0x6d, 0x65, 0x74, 0x72, 0x79, 0x5f, 0x33], UInt8[0x83, 0xa6, 0x6d, 0x61, 0x74, 0x72, 0x69, 0x78, 0xc7, 0x40  …  0x67, 0x65, 0x6f, 0x6d, 0x65, 0x74, 0x72, 0x79, 0x5f, 0x33], Dict{String, Vector{UInt8}}(), nothing, Dict{String, MeshCat.SceneTrees.SceneNode}()))))))), \"Link 3\" => MeshCat.SceneTrees.SceneNode(nothing, UInt8[0x83, 0xa6, 0x6d, 0x61, 0x74, 0x72, 0x69, 0x78, 0xc7, 0x40  …  0x72, 0x6c, 0x64, 0x2f, 0x4c, 0x69, 0x6e, 0x6b, 0x20, 0x33], Dict{String, Vector{UInt8}}(), nothing, Dict{String, MeshCat.SceneTrees.SceneNode}(\"after_Joint 3\" => MeshCat.SceneTrees.SceneNode(nothing, UInt8[0x83, 0xa6, 0x6d, 0x61, 0x74, 0x72, 0x69, 0x78, 0xc7, 0x40  …  0x65, 0x72, 0x5f, 0x4a, 0x6f, 0x69, 0x6e, 0x74, 0x20, 0x33], Dict{String, Vector{UInt8}}(), nothing, Dict{String, MeshCat.SceneTrees.SceneNode}(\"geometry_4\" => MeshCat.SceneTrees.SceneNode(UInt8[0x83, 0xa6, 0x6f, 0x62, 0x6a, 0x65, 0x63, 0x74, 0x84, 0xaa  …  0x67, 0x65, 0x6f, 0x6d, 0x65, 0x74, 0x72, 0x79, 0x5f, 0x34], UInt8[0x83, 0xa6, 0x6d, 0x61, 0x74, 0x72, 0x69, 0x78, 0xc7, 0x40  …  0x67, 0x65, 0x6f, 0x6d, 0x65, 0x74, 0x72, 0x79, 0x5f, 0x34], Dict{String, Vector{UInt8}}(), nothing, Dict{String, MeshCat.SceneTrees.SceneNode}()))), \"Link 4\" => MeshCat.SceneTrees.SceneNode(nothing, UInt8[0x83, 0xa6, 0x6d, 0x61, 0x74, 0x72, 0x69, 0x78, 0xc7, 0x40  …  0x6b, 0x20, 0x33, 0x2f, 0x4c, 0x69, 0x6e, 0x6b, 0x20, 0x34], Dict{String, Vector{UInt8}}(), nothing, Dict{String, MeshCat.SceneTrees.SceneNode}(\"after_Joint 4\" => MeshCat.SceneTrees.SceneNode(nothing, UInt8[0x83, 0xa6, 0x6d, 0x61, 0x74, 0x72, 0x69, 0x78, 0xc7, 0x40  …  0x65, 0x72, 0x5f, 0x4a, 0x6f, 0x69, 0x6e, 0x74, 0x20, 0x34], Dict{String, Vector{UInt8}}(), nothing, Dict{String, MeshCat.SceneTrees.SceneNode}(\"geometry_5\" => MeshCat.SceneTrees.SceneNode(UInt8[0x83, 0xa6, 0x6f, 0x62, 0x6a, 0x65, 0x63, 0x74, 0x84, 0xaa  …  0x67, 0x65, 0x6f, 0x6d, 0x65, 0x74, 0x72, 0x79, 0x5f, 0x35], UInt8[0x83, 0xa6, 0x6d, 0x61, 0x74, 0x72, 0x69, 0x78, 0xc7, 0x40  …  0x67, 0x65, 0x6f, 0x6d, 0x65, 0x74, 0x72, 0x79, 0x5f, 0x35], Dict{String, Vector{UInt8}}(), nothing, Dict{String, MeshCat.SceneTrees.SceneNode}()))))))))))))), Set{Any}(), ip\"127.0.0.1\", 8700))"
      ]
     },
     "execution_count": 14,
     "metadata": {},
     "output_type": "execute_result"
    }
   ],
   "source": [
    "# mvis = MechanismVisualizer(doublependulum, Skeleton(randomize_colors=true, inertias=false));\n",
    "mvis = MechanismVisualizer(doublependulum, URDFVisuals(urdfpath));\n",
    "\n",
    "render(mvis)"
   ]
  },
  {
   "cell_type": "code",
   "execution_count": 15,
   "id": "2d335308",
   "metadata": {},
   "outputs": [],
   "source": [
    "# set_configuration!(mvis, [x0[1]-150*(pi/180), x0[3]+120*(pi/180)])\n",
    "# [q2 q0 q3 q1\n",
    "set_configuration!(mvis, [-x0[5]-150*(pi/180), -x0[1]-30*(pi/180), -x0[7]+120*(pi/180), -x0[3]-120*(pi/180)])\n",
    "# set_configuration!(mvis, [0, 0])"
   ]
  },
  {
   "cell_type": "code",
   "execution_count": 16,
   "id": "319c6900",
   "metadata": {},
   "outputs": [],
   "source": [
    "# Now we can simply call `simulate`, which will return a tuple consisting of:\n",
    "# * simulation times (a `Vector` of numbers)\n",
    "# * joint configuration vectors (a `Vector` of `Vector`s)\n",
    "# * joint velocity vectors (a `Vector` of `Vector`s)\n",
    "\n",
    "# MeshCatMechanisms.animate(mvis, ts, qs; realtimerate = 1.);\n",
    "animation = Animation(mvis, ts, -q_array)\n",
    "setanimation!(mvis, animation)"
   ]
  },
  {
   "cell_type": "code",
   "execution_count": null,
   "id": "23143410",
   "metadata": {},
   "outputs": [],
   "source": []
  }
 ],
 "metadata": {
  "kernelspec": {
   "display_name": "Julia 1.6.3",
   "language": "julia",
   "name": "julia-1.6"
  },
  "language_info": {
   "file_extension": ".jl",
   "mimetype": "application/julia",
   "name": "julia",
   "version": "1.6.3"
  }
 },
 "nbformat": 4,
 "nbformat_minor": 5
}
