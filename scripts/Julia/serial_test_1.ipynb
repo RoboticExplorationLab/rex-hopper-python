{
 "cells": [
  {
   "cell_type": "code",
   "execution_count": 1,
   "metadata": {},
   "outputs": [
    {
     "name": "stderr",
     "output_type": "stream",
     "text": [
      "\u001b[32m\u001b[1m  Activating\u001b[22m\u001b[39m environment at `/mnt/064AC6424AC62E6D/git_workspace/FlyHopper/scripts/Julia/Project.toml`\n"
     ]
    },
    {
     "data": {
      "text/html": [
       "<script>\n",
       "// Immediately-invoked-function-expression to avoid global variables.\n",
       "(function() {\n",
       "    var warning_div = document.getElementById(\"webio-warning-10952388601810113804\");\n",
       "    var hide = function () {\n",
       "        var script = document.getElementById(\"webio-setup-4781591921898377143\");\n",
       "        var parent = script && script.parentElement;\n",
       "        var grandparent = parent && parent.parentElement;\n",
       "        if (grandparent) {\n",
       "            grandparent.style.display = \"none\";\n",
       "        }\n",
       "        warning_div.style.display = \"none\";\n",
       "    };\n",
       "    if (typeof Jupyter !== \"undefined\") {\n",
       "        console.log(\"WebIO detected Jupyter notebook environment.\");\n",
       "        // Jupyter notebook.\n",
       "        var extensions = (\n",
       "            Jupyter\n",
       "            && Jupyter.notebook.config.data\n",
       "            && Jupyter.notebook.config.data.load_extensions\n",
       "        );\n",
       "        if (extensions && extensions[\"webio-jupyter-notebook\"]) {\n",
       "            // Extension already loaded.\n",
       "            console.log(\"Jupyter WebIO nbextension detected; not loading ad-hoc.\");\n",
       "            hide();\n",
       "            return;\n",
       "        }\n",
       "    } else if (window.location.pathname.includes(\"/lab\")) {\n",
       "        // Guessing JupyterLa\n",
       "        console.log(\"Jupyter Lab detected; make sure the @webio/jupyter-lab-provider labextension is installed.\");\n",
       "        hide();\n",
       "        return;\n",
       "    }\n",
       "})();\n",
       "\n",
       "</script>\n",
       "<p\n",
       "    id=\"webio-warning-10952388601810113804\"\n",
       "    class=\"output_text output_stderr\"\n",
       "    style=\"padding: 1em; font-weight: bold;\"\n",
       ">\n",
       "    Unable to load WebIO. Please make sure WebIO works for your Jupyter client.\n",
       "    For troubleshooting, please see <a href=\"https://juliagizmos.github.io/WebIO.jl/latest/providers/ijulia/\">\n",
       "    the WebIO/IJulia documentation</a>.\n",
       "    <!-- TODO: link to installation docs. -->\n",
       "</p>\n"
      ],
      "text/plain": [
       "HTML{String}(\"<script>\\n// Immediately-invoked-function-expression to avoid global variables.\\n(function() {\\n    var warning_div = document.getElementById(\\\"webio-warning-10952388601810113804\\\");\\n    var hide = function () {\\n        var script = document.getElementById(\\\"webio-setup-4781591921898377143\\\");\\n        var parent = script && script.parentElement;\\n        var grandparent = parent && parent.parentElement;\\n        if (grandparent) {\\n            grandparent.style.display = \\\"none\\\";\\n        }\\n        warning_div.style.display = \\\"none\\\";\\n    };\\n    if (typeof Jupyter !== \\\"undefined\\\") {\\n        console.log(\\\"WebIO detected Jupyter notebook environment.\\\");\\n        // Jupyter notebook.\\n        var extensions = (\\n            Jupyter\\n            && Jupyter.notebook.config.data\\n            && Jupyter.notebook.config.data.load_extensions\\n        );\\n        if (extensions && extensions[\\\"webio-jupyter-notebook\\\"]) {\\n            // Extension already loaded.\\n            console.log(\\\"Jupyter WebIO nbextension detected; not loading ad-hoc.\\\");\\n            hide();\\n            return;\\n        }\\n    } else if (window.location.pathname.includes(\\\"/lab\\\")) {\\n        // Guessing JupyterLa\\n        console.log(\\\"Jupyter Lab detected; make sure the @webio/jupyter-lab-provider labextension is installed.\\\");\\n        hide();\\n        return;\\n    }\\n})();\\n\\n</script>\\n<p\\n    id=\\\"webio-warning-10952388601810113804\\\"\\n    class=\\\"output_text output_stderr\\\"\\n    style=\\\"padding: 1em; font-weight: bold;\\\"\\n>\\n    Unable to load WebIO. Please make sure WebIO works for your Jupyter client.\\n    For troubleshooting, please see <a href=\\\"https://juliagizmos.github.io/WebIO.jl/latest/providers/ijulia/\\\">\\n    the WebIO/IJulia documentation</a>.\\n    <!-- TODO: link to installation docs. -->\\n</p>\\n\")"
      ]
     },
     "metadata": {},
     "output_type": "display_data"
    },
    {
     "name": "stderr",
     "output_type": "stream",
     "text": [
      "┌ Warning: Error requiring `StaticArrays` from `ArrayInterface`\n",
      "│   exception = (ErrorException(\"too many parameters for type\"), Union{Ptr{Nothing}, Base.InterpreterIP}[Ptr{Nothing} @0x00007f5f41ccf8a9, Ptr{Nothing} @0x00007f5f41d3ae56, Ptr{Nothing} @0x00007f5f41d45769, Ptr{Nothing} @0x00007f5f41d61f15, Ptr{Nothing} @0x00007f5f41d61bce, Ptr{Nothing} @0x00007f5f41d62811, Ptr{Nothing} @0x00007f5f41d63297, Base.InterpreterIP in top-level CodeInfo for ArrayInterface at statement 90, Ptr{Nothing} @0x00007f5f41d7eb31, Ptr{Nothing} @0x00007f5f41d80949, Ptr{Nothing} @0x00007f5ebd906bb1, Ptr{Nothing} @0x00007f5ebd906bdc, Ptr{Nothing} @0x00007f5f41d45769, Ptr{Nothing} @0x00007f5f41d61f15, Ptr{Nothing} @0x00007f5f41d61bce, Ptr{Nothing} @0x00007f5f41d62811, Ptr{Nothing} @0x00007f5f41d62b90, Ptr{Nothing} @0x00007f5f41d6304a, Base.InterpreterIP in MethodInstance for err(::Any, ::Module, ::String) at statement 2, Ptr{Nothing} @0x00007f5ebd906b27, Ptr{Nothing} @0x00007f5ebd906b3c, Ptr{Nothing} @0x00007f5f41d45769, Ptr{Nothing} @0x00007f5f41d61f15, Ptr{Nothing} @0x00007f5f41d61bce, Ptr{Nothing} @0x00007f5f41d628a5, Ptr{Nothing} @0x00007f5f41d62b90, Ptr{Nothing} @0x00007f5f41d6304a, Base.InterpreterIP in MethodInstance for withpath(::Any, ::String) at statement 10, Ptr{Nothing} @0x00007f5ebd906aa3, Ptr{Nothing} @0x00007f5ebd906acc, Ptr{Nothing} @0x00007f5f41d45769, Ptr{Nothing} @0x00007f5f41d61f15, Ptr{Nothing} @0x00007f5f41d61bce, Ptr{Nothing} @0x00007f5f41d62811, Ptr{Nothing} @0x00007f5f41d6304a, Base.InterpreterIP in MethodInstance for listenpkg(::Any, ::Base.PkgId) at statement 3, Ptr{Nothing} @0x00007f5ebd905cbc, Ptr{Nothing} @0x00007f5ebd90679c, Ptr{Nothing} @0x00007f5f41d45769, Ptr{Nothing} @0x00007f5f41d7e4b5, Ptr{Nothing} @0x00007f5f41d7417c, Ptr{Nothing} @0x00007f5efa99a3d9, Ptr{Nothing} @0x00007f5efaa6d28f, Ptr{Nothing} @0x00007f5efaa6db03, Ptr{Nothing} @0x00007f5efaa6c92a, Ptr{Nothing} @0x00007f5efaa6db03, Ptr{Nothing} @0x00007f5efaa6c92a, Ptr{Nothing} @0x00007f5efaa6db03, Ptr{Nothing} @0x00007f5efaa6c92a, Ptr{Nothing} @0x00007f5efaa6f500, Ptr{Nothing} @0x00007f5efaa7187d, Ptr{Nothing} @0x00007f5efaa725dc, Ptr{Nothing} @0x00007f5f41d45769, Ptr{Nothing} @0x00007f5f41d7dcd1, Ptr{Nothing} @0x00007f5f41d7fd97, Ptr{Nothing} @0x00007f5f41d7ed7c, Ptr{Nothing} @0x00007f5f41d80949, Ptr{Nothing} @0x00007f5efa9fa89c, Ptr{Nothing} @0x00007f5efa9fac39, Ptr{Nothing} @0x00007f5f41d45769, Ptr{Nothing} @0x00007f5efa9f7793, Ptr{Nothing} @0x00007f5f41d45769, Ptr{Nothing} @0x00007f5f41d56546, Ptr{Nothing} @0x00007f5efa9d508e, Ptr{Nothing} @0x00007f5efa9d52be, Ptr{Nothing} @0x00007f5efa9d52dc, Ptr{Nothing} @0x00007f5f41d45769, Ptr{Nothing} @0x00007f5f41d66c9a, Ptr{Nothing} @0x0000000000000000])\n",
      "└ @ Requires /home/ben/.julia/packages/Requires/7Ncym/src/require.jl:49\n"
     ]
    }
   ],
   "source": [
    "using Pkg\n",
    "Pkg.activate(@__DIR__);\n",
    "pkg\"instantiate\"\n",
    "pkg\"precompile\"\n",
    "\n",
    "using RigidBodyDynamics\n",
    "using MeshCatMechanisms\n",
    "using StaticArrays\n",
    "using RigidBodyDynamics.Contact\n",
    "using RigidBodySim"
   ]
  },
  {
   "cell_type": "code",
   "execution_count": 2,
   "metadata": {},
   "outputs": [],
   "source": [
    "curdir = pwd()\n",
    "const URDFPATH = joinpath(curdir, \"../../res/flyhopper_mockup/urdf/flyhopper_mockup_jl.urdf\")\n",
    "bot = parse_urdf(URDFPATH, floating=true)\n",
    "remove_fixed_tree_joints!(bot);"
   ]
  },
  {
   "cell_type": "code",
   "execution_count": 3,
   "metadata": {},
   "outputs": [],
   "source": [
    "# add environment\n",
    "rootframe = root_frame(bot)\n",
    "ground = HalfSpace3D(Point3D(rootframe, 0., 0., 0.), FreeVector3D(rootframe, 0., 0., 1))\n",
    "add_environment_primitive!(bot, ground);"
   ]
  },
  {
   "cell_type": "code",
   "execution_count": 4,
   "metadata": {},
   "outputs": [
    {
     "data": {
      "text/plain": [
       "8-element SegmentedVector{JointID, Float64, Base.OneTo{JointID}, Vector{Float64}}:\n",
       " 0.0\n",
       " 0.0\n",
       " 0.0\n",
       " 0.0\n",
       " 0.0\n",
       " 0.0\n",
       " 0.0\n",
       " 0.0"
      ]
     },
     "execution_count": 4,
     "metadata": {},
     "output_type": "execute_result"
    }
   ],
   "source": [
    "g = -9.81 # gravitational acceleration in z-direction\n",
    "state = MechanismState(bot)\n",
    "set_configuration!(state, [1; 0; 0; 0; 0; 0; 0.7])\n",
    "q = configuration(state)\n",
    "v = velocity(state)"
   ]
  },
  {
   "cell_type": "code",
   "execution_count": 6,
   "metadata": {},
   "outputs": [
    {
     "data": {
      "text/plain": [
       "Point3D in \"after_Joint 2\": [0, 0, 0]"
      ]
     },
     "execution_count": 6,
     "metadata": {},
     "output_type": "execute_result"
    }
   ],
   "source": [
    "build_contact_points(bot)[1]\n"
   ]
  },
  {
   "cell_type": "code",
   "execution_count": 23,
   "metadata": {},
   "outputs": [
    {
     "ename": "LoadError",
     "evalue": "MethodError: no method matching add_contact_point!(::RigidBody{Float64}, ::ContactPoint{Int64, SoftContactModel{HuntCrossleyModel{Float64}, ViscoelasticCoulombModel{Float64}}})\n\u001b[0mClosest candidates are:\n\u001b[0m  add_contact_point!(::RigidBody{T}, \u001b[91m::DefaultContactPoint{T}\u001b[39m) where T at /home/ben/.julia/packages/RigidBodyDynamics/8B04X/src/rigid_body.jl:173",
     "output_type": "error",
     "traceback": [
      "MethodError: no method matching add_contact_point!(::RigidBody{Float64}, ::ContactPoint{Int64, SoftContactModel{HuntCrossleyModel{Float64}, ViscoelasticCoulombModel{Float64}}})\n\u001b[0mClosest candidates are:\n\u001b[0m  add_contact_point!(::RigidBody{T}, \u001b[91m::DefaultContactPoint{T}\u001b[39m) where T at /home/ben/.julia/packages/RigidBodyDynamics/8B04X/src/rigid_body.jl:173",
      "",
      "Stacktrace:",
      " [1] top-level scope",
      "   @ In[23]:7",
      " [2] eval",
      "   @ ./boot.jl:360 [inlined]",
      " [3] include_string(mapexpr::typeof(REPL.softscope), mod::Module, code::String, filename::String)",
      "   @ Base ./loading.jl:1116"
     ]
    }
   ],
   "source": [
    "Nmdl = RigidBodyDynamics.Contact.hunt_crossley_hertz()   \n",
    "Fmdl = RigidBodyDynamics.Contact.ViscoelasticCoulombModel(0.3, 30e3,0.3)   \n",
    "scm = RigidBodyDynamics.Contact.SoftContactModel(Nmdl, Fmdl)\n",
    "point = Point3D(default_frame(findbody(bot, \"base_link\")), 0, 0, 0)  # build_contact_points(bot)[1]  # \n",
    "cp =  RigidBodyDynamics.Contact.ContactPoint(point, scm)\n",
    "\n",
    "add_contact_point!(findbody(bot, \"Link 2\"), cp)\n",
    "contact_points(findbody(bot, \"Link 2\"))\n",
    "\n",
    "#=\n",
    "\n",
    "const DefaultContactPoint{T} = ContactPoint{T,SoftContactModel{HuntCrossleyModel{T},ViscoelasticCoulombModel{T}}}\n",
    "\n",
    "function add_contact_point!(body::RigidBody{T}, point::DefaultContactPoint{T}) where {T}\n",
    "    loc = location(point)\n",
    "    tf = fixed_transform(body, loc.frame, default_frame(body))\n",
    "    point.location = tf * loc\n",
    "    push!(body.contact_points, point)\n",
    "    nothing\n",
    "end\n",
    "=#"
   ]
  },
  {
   "cell_type": "code",
   "execution_count": 9,
   "metadata": {},
   "outputs": [
    {
     "data": {
      "text/plain": [
       "Point3D in \"world\": [-0.002547131739826878, -3.3470181064453804e-8, 0.697058817292039]"
      ]
     },
     "execution_count": 9,
     "metadata": {},
     "output_type": "execute_result"
    }
   ],
   "source": [
    "center_of_mass(state)"
   ]
  },
  {
   "cell_type": "code",
   "execution_count": 10,
   "metadata": {},
   "outputs": [],
   "source": [
    "q0, q1 = joints(bot)\n",
    "function simple_control!(torques::AbstractVector, t, state::MechanismState)\n",
    "    # velocity_range: Return the range of indices into the joint velocity vector v corresponding to joint \"joint\"\n",
    "    torques[velocity_range(state, q0)] .= -1 .* velocity(state, q0)\n",
    "    torques[velocity_range(state, q1)] .= -1 .* velocity(state, q1)\n",
    "end;"
   ]
  },
  {
   "cell_type": "code",
   "execution_count": 11,
   "metadata": {},
   "outputs": [],
   "source": [
    "final_time = 10.\n",
    "ts, qs, vs = simulate(state, final_time, simple_control!; Δt = 1e-3);"
   ]
  },
  {
   "cell_type": "code",
   "execution_count": 12,
   "metadata": {},
   "outputs": [
    {
     "name": "stderr",
     "output_type": "stream",
     "text": [
      "┌ Info: MeshCat server started. You can open the visualizer by visiting the following URL in your browser:\n",
      "│ http://localhost:8700\n",
      "└ @ MeshCat /home/ben/.julia/packages/MeshCat/X2AUA/src/visualizer.jl:73\n"
     ]
    }
   ],
   "source": [
    "zero_velocity!(state)\n",
    "# set_configuration!(state, q0, 0.7)\n",
    "# set_configuration!(state, q1, -0.8);\n",
    "mvis = MechanismVisualizer(bot, URDFVisuals(URDFPATH));"
   ]
  },
  {
   "cell_type": "code",
   "execution_count": 13,
   "metadata": {},
   "outputs": [],
   "source": [
    "MeshCatMechanisms.animate(mvis, ts, qs; realtimerate = 1.);"
   ]
  },
  {
   "cell_type": "code",
   "execution_count": null,
   "metadata": {},
   "outputs": [],
   "source": []
  },
  {
   "cell_type": "code",
   "execution_count": null,
   "metadata": {},
   "outputs": [],
   "source": []
  }
 ],
 "metadata": {
  "@webio": {
   "lastCommId": null,
   "lastKernelId": null
  },
  "kernelspec": {
   "display_name": "Julia 1.6.2",
   "language": "julia",
   "name": "julia-1.6"
  },
  "language_info": {
   "file_extension": ".jl",
   "mimetype": "application/julia",
   "name": "julia",
   "version": "1.6.2"
  }
 },
 "nbformat": 4,
 "nbformat_minor": 4
}
