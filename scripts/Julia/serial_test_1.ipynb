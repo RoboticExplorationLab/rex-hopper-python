{
 "cells": [
  {
   "cell_type": "code",
   "execution_count": 12,
   "metadata": {},
   "outputs": [
    {
     "name": "stderr",
     "output_type": "stream",
     "text": [
      "\u001b[32m\u001b[1m  Activating\u001b[22m\u001b[39m environment at `D:\\Documents\\git_workspace\\flyhopper\\scripts\\Julia\\Project.toml`\n"
     ]
    }
   ],
   "source": [
    "using Pkg\n",
    "Pkg.activate(@__DIR__);\n",
    "pkg\"instantiate\"\n",
    "pkg\"precompile\"\n",
    "\n",
    "using RigidBodyDynamics\n",
    "using MeshCatMechanisms\n",
    "using StaticArrays\n",
    "using RigidBodyDynamics.Contact\n",
    "using RigidBodySim"
   ]
  },
  {
   "cell_type": "code",
   "execution_count": 13,
   "metadata": {},
   "outputs": [],
   "source": [
    "curdir = pwd()\n",
    "const URDFPATH = joinpath(curdir, \"../../res/flyhopper_mockup/urdf/flyhopper_mockup_jl.urdf\")\n",
    "bot = parse_urdf(URDFPATH, floating=true)\n",
    "remove_fixed_tree_joints!(bot);"
   ]
  },
  {
   "cell_type": "code",
   "execution_count": 14,
   "metadata": {},
   "outputs": [],
   "source": [
    "# add environment\n",
    "rootframe = root_frame(bot)\n",
    "ground = HalfSpace3D(Point3D(rootframe, 0., 0., 0.), FreeVector3D(rootframe, 0., 0., 1))\n",
    "add_environment_primitive!(bot, ground);"
   ]
  },
  {
   "cell_type": "code",
   "execution_count": 15,
   "metadata": {},
   "outputs": [
    {
     "data": {
      "text/plain": [
       "8-element SegmentedVector{JointID, Float64, Base.OneTo{JointID}, Vector{Float64}}:\n",
       " 0.0\n",
       " 0.0\n",
       " 0.0\n",
       " 0.0\n",
       " 0.0\n",
       " 0.0\n",
       " 0.0\n",
       " 0.0"
      ]
     },
     "execution_count": 15,
     "metadata": {},
     "output_type": "execute_result"
    }
   ],
   "source": [
    "g = -9.81 # gravitational acceleration in z-direction\n",
    "state = MechanismState(bot)\n",
    "set_configuration!(state, [1; 0; 0; 0; 0; 0; 0.7])\n",
    "q = configuration(state)\n",
    "v = velocity(state)"
   ]
  },
  {
   "cell_type": "code",
   "execution_count": 34,
   "metadata": {},
   "outputs": [],
   "source": [
    "# build_contact_points(bot)[1]\n",
    "foot = bodies(bot)[2]\n",
    "Nmdl = RigidBodyDynamics.Contact.hunt_crossley_hertz()   \n",
    "Fmdl = RigidBodyDynamics.Contact.ViscoelasticCoulombModel(0.3, 30e3,0.3)   \n",
    "scm = RigidBodyDynamics.Contact.SoftContactModel(Nmdl, Fmdl)\n",
    "# point = convert(Point3D{SVector{3, Float64}}, Point3D(default_frame(findbody(bot, \"base_link\")), 0, 0, 0))\n",
    "point = convert(Point3D{SVector{3, Float64}}, Point3D(default_frame(foot), 0, 0, 0))\n",
    "cp =  RigidBodyDynamics.Contact.ContactPoint(point, scm)\n",
    "\n",
    "# add_contact_point!(findbody(bot, \"Link 2\"), cp)\n",
    "add_contact_point!(foot, cp)\n",
    "# contact_points(findbody(bot, \"Link 2\"))"
   ]
  },
  {
   "cell_type": "code",
   "execution_count": 35,
   "metadata": {},
   "outputs": [
    {
     "data": {
      "text/plain": [
       "3-element Vector{HalfSpace3D{Float64}}:\n",
       " HalfSpace3D{Float64}(Point3D in \"world\": [0.0, 0.0, 0.0], FreeVector3D in \"world\": [0.0, 0.0, 1.0])\n",
       " HalfSpace3D{Float64}(Point3D in \"world\": [0.0, 0.0, 0.0], FreeVector3D in \"world\": [0.0, 0.0, 1.0])\n",
       " HalfSpace3D{Float64}(Point3D in \"world\": [0.0, 0.0, 0.0], FreeVector3D in \"world\": [0.0, 0.0, 1.0])"
      ]
     },
     "execution_count": 35,
     "metadata": {},
     "output_type": "execute_result"
    }
   ],
   "source": [
    "frame = default_frame(bodies(bot)[1])\n",
    "point = Point3D(frame, 0.0, 0.0, 0.0)\n",
    "normal = FreeVector3D(frame, 0., 0., 1.)\n",
    "halfspace = RigidBodyDynamics.Contact.HalfSpace3D(point, normal)\n",
    "\n",
    "push!(bot.environment.halfspaces, halfspace)"
   ]
  },
  {
   "cell_type": "code",
   "execution_count": 36,
   "metadata": {},
   "outputs": [
    {
     "data": {
      "text/plain": [
       "Point3D in \"world\": [-0.002547131739826878, -3.3470181064453804e-8, 0.697058817292039]"
      ]
     },
     "execution_count": 36,
     "metadata": {},
     "output_type": "execute_result"
    }
   ],
   "source": [
    "center_of_mass(state)"
   ]
  },
  {
   "cell_type": "code",
   "execution_count": 37,
   "metadata": {},
   "outputs": [],
   "source": [
    "q0, q1 = joints(bot)\n",
    "function simple_control!(torques::AbstractVector, t, state::MechanismState)\n",
    "    # velocity_range: Return the range of indices into the joint velocity vector v corresponding to joint \"joint\"\n",
    "    torques[velocity_range(state, q0)] .= -1 .* velocity(state, q0)\n",
    "    torques[velocity_range(state, q1)] .= -1 .* velocity(state, q1)\n",
    "end;"
   ]
  },
  {
   "cell_type": "code",
   "execution_count": 38,
   "metadata": {},
   "outputs": [
    {
     "ename": "LoadError",
     "evalue": "BoundsError: attempt to access 0-element Vector{Vector{DefaultSoftContactState{Float64}}} at index [1]",
     "output_type": "error",
     "traceback": [
      "BoundsError: attempt to access 0-element Vector{Vector{DefaultSoftContactState{Float64}}} at index [1]",
      "",
      "Stacktrace:",
      "  [1] getindex",
      "    @ .\\array.jl:801 [inlined]",
      "  [2] contact_dynamics!(result::DynamicsResult{Float64, Float64}, state::MechanismState{Float64, Float64, Float64, TypeSortedCollections.TypeSortedCollection{Tuple{Vector{Joint{Float64, QuaternionFloating{Float64}}}, Vector{Joint{Float64, Revolute{Float64}}}}, 2}})",
      "    @ RigidBodyDynamics C:\\Users\\bboks\\.julia\\packages\\RigidBodyDynamics\\8B04X\\src\\mechanism_algorithms.jl:700",
      "  [3] dynamics!(result::DynamicsResult{Float64, Float64}, state::MechanismState{Float64, Float64, Float64, TypeSortedCollections.TypeSortedCollection{Tuple{Vector{Joint{Float64, QuaternionFloating{Float64}}}, Vector{Joint{Float64, Revolute{Float64}}}}, 2}}, torques::SegmentedVector{JointID, Float64, Base.OneTo{JointID}, Vector{Float64}}, externalwrenches::RigidBodyDynamics.CustomCollections.NullDict{BodyID, Wrench{Float64}}; stabilization_gains::RigidBodyDynamics.CustomCollections.ConstDict{JointID, RigidBodyDynamics.PDControl.SE3PDGains{RigidBodyDynamics.PDControl.PDGains{Float64, Float64}, RigidBodyDynamics.PDControl.PDGains{Float64, Float64}}})",
      "    @ RigidBodyDynamics C:\\Users\\bboks\\.julia\\packages\\RigidBodyDynamics\\8B04X\\src\\mechanism_algorithms.jl:850",
      "  [4] (::RigidBodyDynamics.var\"#116#117\"{typeof(simple_control!), DynamicsResult{Float64, Float64}, SegmentedVector{JointID, Float64, Base.OneTo{JointID}, Vector{Float64}}, RigidBodyDynamics.CustomCollections.ConstDict{JointID, RigidBodyDynamics.PDControl.SE3PDGains{RigidBodyDynamics.PDControl.PDGains{Float64, Float64}, RigidBodyDynamics.PDControl.PDGains{Float64, Float64}}}})(v̇::SegmentedVector{JointID, Float64, Base.OneTo{JointID}, Vector{Float64}}, ṡ::Vector{Float64}, t::Float64, state::MechanismState{Float64, Float64, Float64, TypeSortedCollections.TypeSortedCollection{Tuple{Vector{Joint{Float64, QuaternionFloating{Float64}}}, Vector{Joint{Float64, Revolute{Float64}}}}, 2}})",
      "    @ RigidBodyDynamics C:\\Users\\bboks\\.julia\\packages\\RigidBodyDynamics\\8B04X\\src\\simulate.jl:44",
      "  [5] step(integrator::RigidBodyDynamics.OdeIntegrators.MuntheKaasIntegrator{4, Float64, RigidBodyDynamics.var\"#116#117\"{typeof(simple_control!), DynamicsResult{Float64, Float64}, SegmentedVector{JointID, Float64, Base.OneTo{JointID}, Vector{Float64}}, RigidBodyDynamics.CustomCollections.ConstDict{JointID, RigidBodyDynamics.PDControl.SE3PDGains{RigidBodyDynamics.PDControl.PDGains{Float64, Float64}, RigidBodyDynamics.PDControl.PDGains{Float64, Float64}}}}, RigidBodyDynamics.OdeIntegrators.ExpandingStorage{Float64, SegmentedVector{JointID, Float64, Base.OneTo{JointID}, Vector{Float64}}, SegmentedVector{JointID, Float64, Base.OneTo{JointID}, Vector{Float64}}}, MechanismState{Float64, Float64, Float64, TypeSortedCollections.TypeSortedCollection{Tuple{Vector{Joint{Float64, QuaternionFloating{Float64}}}, Vector{Joint{Float64, Revolute{Float64}}}}, 2}}, 16, RigidBodyDynamics.OdeIntegrators.MuntheKaasStageCache{4, Float64, SegmentedVector{JointID, Float64, Base.OneTo{JointID}, Vector{Float64}}, SegmentedVector{JointID, Float64, Base.OneTo{JointID}, Vector{Float64}}, Vector{Float64}}}, t::Float64, Δt::Float64)",
      "    @ RigidBodyDynamics.OdeIntegrators C:\\Users\\bboks\\.julia\\packages\\RigidBodyDynamics\\8B04X\\src\\ode_integrators.jl:273",
      "  [6] macro expansion",
      "    @ C:\\Users\\bboks\\.julia\\packages\\RigidBodyDynamics\\8B04X\\src\\ode_integrators.jl:312 [inlined]",
      "  [7] macro expansion",
      "    @ C:\\Users\\bboks\\.julia\\packages\\LoopThrottle\\Wpdca\\src\\LoopThrottle.jl:89 [inlined]",
      "  [8] integrate(integrator::RigidBodyDynamics.OdeIntegrators.MuntheKaasIntegrator{4, Float64, RigidBodyDynamics.var\"#116#117\"{typeof(simple_control!), DynamicsResult{Float64, Float64}, SegmentedVector{JointID, Float64, Base.OneTo{JointID}, Vector{Float64}}, RigidBodyDynamics.CustomCollections.ConstDict{JointID, RigidBodyDynamics.PDControl.SE3PDGains{RigidBodyDynamics.PDControl.PDGains{Float64, Float64}, RigidBodyDynamics.PDControl.PDGains{Float64, Float64}}}}, RigidBodyDynamics.OdeIntegrators.ExpandingStorage{Float64, SegmentedVector{JointID, Float64, Base.OneTo{JointID}, Vector{Float64}}, SegmentedVector{JointID, Float64, Base.OneTo{JointID}, Vector{Float64}}}, MechanismState{Float64, Float64, Float64, TypeSortedCollections.TypeSortedCollection{Tuple{Vector{Joint{Float64, QuaternionFloating{Float64}}}, Vector{Joint{Float64, Revolute{Float64}}}}, 2}}, 16, RigidBodyDynamics.OdeIntegrators.MuntheKaasStageCache{4, Float64, SegmentedVector{JointID, Float64, Base.OneTo{JointID}, Vector{Float64}}, SegmentedVector{JointID, Float64, Base.OneTo{JointID}, Vector{Float64}}, Vector{Float64}}}, final_time::Float64, Δt::Float64; max_realtime_rate::Float64)",
      "    @ RigidBodyDynamics.OdeIntegrators C:\\Users\\bboks\\.julia\\packages\\RigidBodyDynamics\\8B04X\\src\\ode_integrators.jl:311",
      "  [9] integrate(integrator::RigidBodyDynamics.OdeIntegrators.MuntheKaasIntegrator{4, Float64, RigidBodyDynamics.var\"#116#117\"{typeof(simple_control!), DynamicsResult{Float64, Float64}, SegmentedVector{JointID, Float64, Base.OneTo{JointID}, Vector{Float64}}, RigidBodyDynamics.CustomCollections.ConstDict{JointID, RigidBodyDynamics.PDControl.SE3PDGains{RigidBodyDynamics.PDControl.PDGains{Float64, Float64}, RigidBodyDynamics.PDControl.PDGains{Float64, Float64}}}}, RigidBodyDynamics.OdeIntegrators.ExpandingStorage{Float64, SegmentedVector{JointID, Float64, Base.OneTo{JointID}, Vector{Float64}}, SegmentedVector{JointID, Float64, Base.OneTo{JointID}, Vector{Float64}}}, MechanismState{Float64, Float64, Float64, TypeSortedCollections.TypeSortedCollection{Tuple{Vector{Joint{Float64, QuaternionFloating{Float64}}}, Vector{Joint{Float64, Revolute{Float64}}}}, 2}}, 16, RigidBodyDynamics.OdeIntegrators.MuntheKaasStageCache{4, Float64, SegmentedVector{JointID, Float64, Base.OneTo{JointID}, Vector{Float64}}, SegmentedVector{JointID, Float64, Base.OneTo{JointID}, Vector{Float64}}, Vector{Float64}}}, final_time::Float64, Δt::Float64)",
      "    @ RigidBodyDynamics.OdeIntegrators C:\\Users\\bboks\\.julia\\packages\\RigidBodyDynamics\\8B04X\\src\\ode_integrators.jl:308",
      " [10] simulate(state0::MechanismState{Float64, Float64, Float64, TypeSortedCollections.TypeSortedCollection{Tuple{Vector{Joint{Float64, QuaternionFloating{Float64}}}, Vector{Joint{Float64, Revolute{Float64}}}}, 2}}, final_time::Float64, control!::typeof(simple_control!); Δt::Float64, stabilization_gains::RigidBodyDynamics.CustomCollections.ConstDict{JointID, RigidBodyDynamics.PDControl.SE3PDGains{RigidBodyDynamics.PDControl.PDGains{Float64, Float64}, RigidBodyDynamics.PDControl.PDGains{Float64, Float64}}})",
      "    @ RigidBodyDynamics C:\\Users\\bboks\\.julia\\packages\\RigidBodyDynamics\\8B04X\\src\\simulate.jl:53",
      " [11] top-level scope",
      "    @ In[38]:2",
      " [12] eval",
      "    @ .\\boot.jl:360 [inlined]",
      " [13] include_string(mapexpr::typeof(REPL.softscope), mod::Module, code::String, filename::String)",
      "    @ Base .\\loading.jl:1116"
     ]
    }
   ],
   "source": [
    "final_time = 10.\n",
    "ts, qs, vs = simulate(state, final_time, simple_control!; Δt = 1e-3);"
   ]
  },
  {
   "cell_type": "code",
   "execution_count": 10,
   "metadata": {},
   "outputs": [
    {
     "name": "stderr",
     "output_type": "stream",
     "text": [
      "┌ Info: MeshCat server started. You can open the visualizer by visiting the following URL in your browser:\n",
      "│ http://localhost:8700\n",
      "└ @ MeshCat C:\\Users\\bboks\\.julia\\packages\\MeshCat\\X2AUA\\src\\visualizer.jl:73\n"
     ]
    }
   ],
   "source": [
    "zero_velocity!(state)\n",
    "# set_configuration!(state, q0, 0.7)\n",
    "# set_configuration!(state, q1, -0.8);\n",
    "mvis = MechanismVisualizer(bot, URDFVisuals(URDFPATH));"
   ]
  },
  {
   "cell_type": "code",
   "execution_count": 11,
   "metadata": {},
   "outputs": [],
   "source": [
    "MeshCatMechanisms.animate(mvis, ts, qs; realtimerate = 1.);"
   ]
  }
 ],
 "metadata": {
  "@webio": {
   "lastCommId": null,
   "lastKernelId": null
  },
  "kernelspec": {
   "display_name": "Julia 1.6.2",
   "language": "julia",
   "name": "julia-1.6"
  },
  "language_info": {
   "file_extension": ".jl",
   "mimetype": "application/julia",
   "name": "julia",
   "version": "1.6.2"
  }
 },
 "nbformat": 4,
 "nbformat_minor": 4
}
