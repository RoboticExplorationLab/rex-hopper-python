{
 "cells": [
  {
   "cell_type": "code",
   "execution_count": 15,
   "metadata": {},
   "outputs": [
    {
     "name": "stderr",
     "output_type": "stream",
     "text": [
      "\u001b[32m\u001b[1m  Activating\u001b[22m\u001b[39m environment at `/mnt/064AC6424AC62E6D/git_workspace/FlyHopper/scripts/Julia/Project.toml`\n"
     ]
    }
   ],
   "source": [
    "using Pkg\n",
    "Pkg.activate(@__DIR__);\n",
    "pkg\"instantiate\"\n",
    "pkg\"precompile\"\n",
    "\n",
    "using RigidBodyDynamics\n",
    "using MeshCatMechanisms"
   ]
  },
  {
   "cell_type": "code",
   "execution_count": 20,
   "metadata": {},
   "outputs": [
    {
     "name": "stderr",
     "output_type": "stream",
     "text": [
      "WARNING: redefinition of constant URDFPATH. This may fail, cause incorrect answers, or produce other errors.\n"
     ]
    }
   ],
   "source": [
    "curdir = pwd()\n",
    "const URDFPATH = joinpath(curdir, \"../../res/flyhopper_mockup/urdf/flyhopper_mockup_jl.urdf\")\n",
    "bot = parse_urdf(URDFPATH, floating=true)\n",
    "remove_fixed_tree_joints!(bot);"
   ]
  },
  {
   "cell_type": "code",
   "execution_count": 10,
   "metadata": {},
   "outputs": [
    {
     "data": {
      "text/plain": [
       "8-element SegmentedVector{JointID, Float64, Base.OneTo{JointID}, Vector{Float64}}:\n",
       " 0.0\n",
       " 0.0\n",
       " 0.0\n",
       " 0.0\n",
       " 0.0\n",
       " 0.0\n",
       " 0.0\n",
       " 0.0"
      ]
     },
     "execution_count": 10,
     "metadata": {},
     "output_type": "execute_result"
    }
   ],
   "source": [
    "g = -9.81 # gravitational acceleration in z-direction\n",
    "state = MechanismState(bot)\n",
    "q = configuration(state)\n",
    "v = velocity(state)"
   ]
  },
  {
   "cell_type": "code",
   "execution_count": 11,
   "metadata": {},
   "outputs": [
    {
     "data": {
      "text/plain": [
       "Point3D in \"world\": [-0.002547131739826878, -3.3470181064453804e-8, -0.0029411827079611035]"
      ]
     },
     "execution_count": 11,
     "metadata": {},
     "output_type": "execute_result"
    }
   ],
   "source": [
    "center_of_mass(state)"
   ]
  },
  {
   "cell_type": "code",
   "execution_count": 12,
   "metadata": {},
   "outputs": [],
   "source": [
    "q0, q1 = joints(bot)\n",
    "function simple_control!(torques::AbstractVector, t, state::MechanismState)\n",
    "    # velocity_range: Return the range of indices into the joint velocity vector v corresponding to joint \"joint\"\n",
    "    torques[velocity_range(state, q0)] .= -1 .* velocity(state, q0)\n",
    "    torques[velocity_range(state, q1)] .= -1 .* velocity(state, q1)\n",
    "end;"
   ]
  },
  {
   "cell_type": "code",
   "execution_count": 13,
   "metadata": {},
   "outputs": [],
   "source": [
    "final_time = 10.\n",
    "ts, qs, vs = simulate(state, final_time, simple_control!; Δt = 1e-3);"
   ]
  },
  {
   "cell_type": "code",
   "execution_count": 17,
   "metadata": {},
   "outputs": [
    {
     "name": "stderr",
     "output_type": "stream",
     "text": [
      "┌ Info: MeshCat server started. You can open the visualizer by visiting the following URL in your browser:\n",
      "│ http://localhost:8701\n",
      "└ @ MeshCat /home/ben/.julia/packages/MeshCat/X2AUA/src/visualizer.jl:73\n"
     ]
    }
   ],
   "source": [
    "zero_velocity!(state)\n",
    "# set_configuration!(state, q0, 0.7)\n",
    "# set_configuration!(state, q1, -0.8);\n",
    "mvis = MechanismVisualizer(bot, URDFVisuals(URDFPATH));"
   ]
  },
  {
   "cell_type": "code",
   "execution_count": 19,
   "metadata": {},
   "outputs": [],
   "source": [
    "MeshCatMechanisms.animate(mvis, ts, qs; realtimerate = 1.);"
   ]
  },
  {
   "cell_type": "code",
   "execution_count": null,
   "metadata": {},
   "outputs": [],
   "source": []
  }
 ],
 "metadata": {
  "@webio": {
   "lastCommId": null,
   "lastKernelId": null
  },
  "kernelspec": {
   "display_name": "Julia 1.6.2",
   "language": "julia",
   "name": "julia-1.6"
  },
  "language_info": {
   "file_extension": ".jl",
   "mimetype": "application/julia",
   "name": "julia",
   "version": "1.6.2"
  }
 },
 "nbformat": 4,
 "nbformat_minor": 4
}
