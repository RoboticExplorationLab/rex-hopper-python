{
 "cells": [
  {
   "cell_type": "code",
   "execution_count": 35,
   "metadata": {},
   "outputs": [
    {
     "name": "stderr",
     "output_type": "stream",
     "text": [
      "\u001b[32m\u001b[1m  Activating\u001b[22m\u001b[39m environment at `D:\\Documents\\git_workspace\\FlyHopper\\scripts\\Julia\\Project.toml`\n"
     ]
    }
   ],
   "source": [
    "using Pkg\n",
    "Pkg.activate(@__DIR__);\n",
    "pkg\"instantiate\"\n",
    "pkg\"precompile\"\n",
    "\n",
    "using RigidBodyDynamics\n",
    "using MeshCatMechanisms\n",
    "using StaticArrays\n",
    "using RigidBodyDynamics.Contact\n",
    "using RigidBodySim"
   ]
  },
  {
   "cell_type": "code",
   "execution_count": 2,
   "metadata": {},
   "outputs": [],
   "source": [
    "curdir = pwd()\n",
    "const URDFPATH = joinpath(curdir, \"../../res/flyhopper_mockup/urdf/flyhopper_mockup_jl.urdf\")\n",
    "bot = parse_urdf(URDFPATH, floating=true)\n",
    "remove_fixed_tree_joints!(bot);"
   ]
  },
  {
   "cell_type": "code",
   "execution_count": 30,
   "metadata": {},
   "outputs": [
    {
     "ename": "LoadError",
     "evalue": "syntax: invalid identifier name \"?\"",
     "output_type": "error",
     "traceback": [
      "syntax: invalid identifier name \"?\"",
      "",
      "Stacktrace:",
      " [1] top-level scope",
      "   @ In[30]:5",
      " [2] eval",
      "   @ .\\boot.jl:360 [inlined]",
      " [3] include_string(mapexpr::typeof(REPL.softscope), mod::Module, code::String, filename::String)",
      "   @ Base .\\loading.jl:1116"
     ]
    }
   ],
   "source": [
    "# add environment\n",
    "rootframe = root_frame(bot)\n",
    "ground = HalfSpace3D(Point3D(rootframe, 0., 0., 0.), FreeVector3D(rootframe, 0., 0., 1))\n",
    "add_environment_primitive!(bot, ground);"
   ]
  },
  {
   "cell_type": "code",
   "execution_count": 22,
   "metadata": {},
   "outputs": [
    {
     "data": {
      "text/plain": [
       "8-element SegmentedVector{JointID, Float64, Base.OneTo{JointID}, Vector{Float64}}:\n",
       " 0.0\n",
       " 0.0\n",
       " 0.0\n",
       " 0.0\n",
       " 0.0\n",
       " 0.0\n",
       " 0.0\n",
       " 0.0"
      ]
     },
     "execution_count": 22,
     "metadata": {},
     "output_type": "execute_result"
    }
   ],
   "source": [
    "g = -9.81 # gravitational acceleration in z-direction\n",
    "state = MechanismState(bot)\n",
    "set_configuration!(state, [1; 0; 0; 0; 0; 0; 0.7])\n",
    "q = configuration(state)\n",
    "v = velocity(state)"
   ]
  },
  {
   "cell_type": "code",
   "execution_count": 36,
   "metadata": {},
   "outputs": [
    {
     "data": {
      "text/plain": [
       "build_contact_points"
      ]
     },
     "execution_count": 36,
     "metadata": {},
     "output_type": "execute_result"
    }
   ],
   "source": [
    "\"\"\"\n",
    "    build_contact_points(model::bot)\n",
    "    Establish a list of contact points (Point3D). Returns them in a list  \n",
    "    First is foot point \n",
    "    Last 8 are the eight corners that bounds the torso \n",
    "\"\"\"\n",
    "function build_contact_points(mech::Mechanism)\n",
    "    foot = findbody(mech, \"Link 2\")\n",
    "    body = findbody(mech, \"base_link\")\n",
    "    \n",
    "    # Foot contact points \n",
    "    point = Point3D(default_frame(foot), 0,0,0)\n",
    "    \n",
    "    # Body contact points \n",
    "    w_b = 0.25/2 # width\n",
    "    l_b = 0.25/2 # length\n",
    "    h_b = 0.25/2   # height\n",
    "    bp1 = Point3D(default_frame(body), -w_b,-l_b, -h_b)\n",
    "    bp2 = Point3D(default_frame(body), -w_b,-l_b,  h_b)\n",
    "    bp3 = Point3D(default_frame(body), -w_b, l_b, -h_b)\n",
    "    bp4 = Point3D(default_frame(body), -w_b, l_b,  h_b)\n",
    "    bp5 = Point3D(default_frame(body), w_b, -l_b, -h_b)\n",
    "    bp6 = Point3D(default_frame(body), w_b, -l_b,  h_b)\n",
    "    bp7 = Point3D(default_frame(body), w_b,  l_b, -h_b)\n",
    "    bp8 = Point3D(default_frame(body), w_b,  l_b,  h_b)\n",
    "\n",
    "    return [point, bp1, bp2, bp3, bp4, bp5, bp6, bp7, bp8]\n",
    "end"
   ]
  },
  {
   "cell_type": "code",
   "execution_count": 44,
   "metadata": {},
   "outputs": [
    {
     "data": {
      "text/plain": [
       "Point3D in \"after_Joint 2\": [0, 0, 0]"
      ]
     },
     "execution_count": 44,
     "metadata": {},
     "output_type": "execute_result"
    }
   ],
   "source": [
    "build_contact_points(bot)[1]\n"
   ]
  },
  {
   "cell_type": "code",
   "execution_count": 43,
   "metadata": {},
   "outputs": [
    {
     "ename": "LoadError",
     "evalue": "MethodError: no method matching add_contact_point!(::RigidBody{Float64}, ::Point3D{SVector{3, Int64}})\n\u001b[0mClosest candidates are:\n\u001b[0m  add_contact_point!(::RigidBody{T}, \u001b[91m::DefaultContactPoint{T}\u001b[39m) where T at C:\\Users\\bboks\\.julia\\packages\\RigidBodyDynamics\\8B04X\\src\\rigid_body.jl:173",
     "output_type": "error",
     "traceback": [
      "MethodError: no method matching add_contact_point!(::RigidBody{Float64}, ::Point3D{SVector{3, Int64}})\n\u001b[0mClosest candidates are:\n\u001b[0m  add_contact_point!(::RigidBody{T}, \u001b[91m::DefaultContactPoint{T}\u001b[39m) where T at C:\\Users\\bboks\\.julia\\packages\\RigidBodyDynamics\\8B04X\\src\\rigid_body.jl:173",
      "",
      "Stacktrace:",
      " [1] top-level scope",
      "   @ In[43]:1",
      " [2] eval",
      "   @ .\\boot.jl:360 [inlined]",
      " [3] include_string(mapexpr::typeof(REPL.softscope), mod::Module, code::String, filename::String)",
      "   @ Base .\\loading.jl:1116"
     ]
    }
   ],
   "source": [
    "add_contact_point!(findbody(bot, \"Link 2\"), build_contact_points(bot)[1])\n",
    "contact_points(findbody(bot, \"Link 2\"))"
   ]
  },
  {
   "cell_type": "code",
   "execution_count": 39,
   "metadata": {},
   "outputs": [
    {
     "name": "stdout",
     "output_type": "stream",
     "text": [
      "search: \u001b[0m\u001b[1ma\u001b[22m\u001b[0m\u001b[1md\u001b[22m\u001b[0m\u001b[1md\u001b[22m\u001b[0m\u001b[1m_\u001b[22m\u001b[0m\u001b[1mc\u001b[22m\u001b[0m\u001b[1mo\u001b[22m\u001b[0m\u001b[1mn\u001b[22m\u001b[0m\u001b[1mt\u001b[22m\u001b[0m\u001b[1ma\u001b[22m\u001b[0m\u001b[1mc\u001b[22m\u001b[0m\u001b[1mt\u001b[22m\u001b[0m\u001b[1m_\u001b[22m\u001b[0m\u001b[1mp\u001b[22m\u001b[0m\u001b[1mo\u001b[22m\u001b[0m\u001b[1mi\u001b[22m\u001b[0m\u001b[1mn\u001b[22m\u001b[0m\u001b[1mt\u001b[22m\u001b[0m\u001b[1m!\u001b[22m\n",
      "\n"
     ]
    },
    {
     "data": {
      "text/latex": [
       "\\begin{verbatim}\n",
       "add_contact_point!(body, point)\n",
       "\n",
       "\\end{verbatim}\n",
       "Add a new contact point to the rigid body\n",
       "\n"
      ],
      "text/markdown": [
       "```julia\n",
       "add_contact_point!(body, point)\n",
       "\n",
       "```\n",
       "\n",
       "Add a new contact point to the rigid body\n"
      ],
      "text/plain": [
       "\u001b[36m  add_contact_point!(body, point)\u001b[39m\n",
       "\u001b[36m  \u001b[39m\n",
       "\n",
       "  Add a new contact point to the rigid body"
      ]
     },
     "execution_count": 39,
     "metadata": {},
     "output_type": "execute_result"
    }
   ],
   "source": [
    "?add_contact_point!"
   ]
  },
  {
   "cell_type": "code",
   "execution_count": 23,
   "metadata": {},
   "outputs": [
    {
     "data": {
      "text/plain": [
       "Point3D in \"world\": [-0.002547131739826878, -3.3470181064453804e-8, 0.697058817292039]"
      ]
     },
     "execution_count": 23,
     "metadata": {},
     "output_type": "execute_result"
    }
   ],
   "source": [
    "center_of_mass(state)"
   ]
  },
  {
   "cell_type": "code",
   "execution_count": 24,
   "metadata": {},
   "outputs": [],
   "source": [
    "q0, q1 = joints(bot)\n",
    "function simple_control!(torques::AbstractVector, t, state::MechanismState)\n",
    "    # velocity_range: Return the range of indices into the joint velocity vector v corresponding to joint \"joint\"\n",
    "    torques[velocity_range(state, q0)] .= -1 .* velocity(state, q0)\n",
    "    torques[velocity_range(state, q1)] .= -1 .* velocity(state, q1)\n",
    "end;"
   ]
  },
  {
   "cell_type": "code",
   "execution_count": 25,
   "metadata": {},
   "outputs": [],
   "source": [
    "final_time = 10.\n",
    "ts, qs, vs = simulate(state, final_time, simple_control!; Δt = 1e-3);"
   ]
  },
  {
   "cell_type": "code",
   "execution_count": 26,
   "metadata": {},
   "outputs": [
    {
     "name": "stderr",
     "output_type": "stream",
     "text": [
      "┌ Info: MeshCat server started. You can open the visualizer by visiting the following URL in your browser:\n",
      "│ http://localhost:8702\n",
      "└ @ MeshCat C:\\Users\\bboks\\.julia\\packages\\MeshCat\\X2AUA\\src\\visualizer.jl:73\n"
     ]
    }
   ],
   "source": [
    "zero_velocity!(state)\n",
    "# set_configuration!(state, q0, 0.7)\n",
    "# set_configuration!(state, q1, -0.8);\n",
    "mvis = MechanismVisualizer(bot, URDFVisuals(URDFPATH));"
   ]
  },
  {
   "cell_type": "code",
   "execution_count": 29,
   "metadata": {},
   "outputs": [],
   "source": [
    "MeshCatMechanisms.animate(mvis, ts, qs; realtimerate = 1.);"
   ]
  },
  {
   "cell_type": "code",
   "execution_count": null,
   "metadata": {},
   "outputs": [],
   "source": []
  },
  {
   "cell_type": "code",
   "execution_count": null,
   "metadata": {},
   "outputs": [],
   "source": []
  }
 ],
 "metadata": {
  "@webio": {
   "lastCommId": null,
   "lastKernelId": null
  },
  "kernelspec": {
   "display_name": "Julia 1.6.2",
   "language": "julia",
   "name": "julia-1.6"
  },
  "language_info": {
   "file_extension": ".jl",
   "mimetype": "application/julia",
   "name": "julia",
   "version": "1.6.2"
  }
 },
 "nbformat": 4,
 "nbformat_minor": 4
}
