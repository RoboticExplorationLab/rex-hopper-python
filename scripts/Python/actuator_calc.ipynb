{
 "cells": [
  {
   "cell_type": "code",
   "execution_count": 1,
   "metadata": {
    "scrolled": true
   },
   "outputs": [
    {
     "data": {
      "text/plain": [
       "'\\nxee = sym.Matrix([[0],  #L1*sym.cos(q1)],  \\n                  [0],\\n                  [0],  #L1*sym.sin(q1)],\\n                  [1]])\\n\\nT_1_org = T_0_org.multiply(T_1_0)\\nJEE_v = (T_1_org.multiply(xee)).jacobian([q0, q1])\\nJEE_v.row_del(3)\\nJEE_v\\n'"
      ]
     },
     "execution_count": 1,
     "metadata": {},
     "output_type": "execute_result"
    }
   ],
   "source": [
    "%reset -f\n",
    "import sympy as sym\n",
    "\n",
    "sym.var('q0 q1 L0 L1 l0 l1')\n",
    "\n",
    "T_0_org = sym.Matrix([[sym.cos(q0), 0, -sym.sin(q0), L0*sym.cos(q0)], \n",
    "                      [0, 1, 0, 0],\n",
    "                      [sym.sin(q0), 0, sym.cos(q0), L0*sym.sin(q0)],\n",
    "                      [0, 0, 0, 1]])\n",
    "T_1_0 = sym.Matrix([[sym.cos(q1), 0, -sym.sin(q1), L1*sym.cos(q1)], \n",
    "                    [0, 1, 0, 0],\n",
    "                    [sym.sin(q1), 0, sym.cos(q1), L1*sym.sin(q1)],\n",
    "                    [0, 0, 0, 1]])\n",
    "\n",
    "com0 = sym.Matrix([[l0*sym.cos(q0)],\n",
    "                   [0],\n",
    "                   [l0*sym.sin(q0)],\n",
    "                   [1]])\n",
    "com1 = sym.Matrix([[l1*sym.cos(q1)],\n",
    "                   [0],\n",
    "                   [l1*sym.sin(q1)],\n",
    "                   [1]])\n",
    "\n",
    "xee = sym.Matrix([[L1*sym.cos(q1)], \n",
    "                  [0],\n",
    "                  [L1*sym.sin(q1)],\n",
    "                  [1]])\n",
    "\n",
    "# jacobian of the end effector (linear part)\n",
    "JEE_v = (T_0_org.multiply(xee)).jacobian([q0, q1])\n",
    "JEE = JEE_v.row_del(3)\n",
    "\n",
    "'''\n",
    "xee = sym.Matrix([[0],  #L1*sym.cos(q1)],  \n",
    "                  [0],\n",
    "                  [0],  #L1*sym.sin(q1)],\n",
    "                  [1]])\n",
    "\n",
    "T_1_org = T_0_org.multiply(T_1_0)\n",
    "JEE_v = (T_1_org.multiply(xee)).jacobian([q0, q1])\n",
    "JEE_v.row_del(3)\n",
    "JEE_v\n",
    "'''\n"
   ]
  },
  {
   "cell_type": "code",
   "execution_count": 2,
   "metadata": {},
   "outputs": [
    {
     "data": {
      "text/latex": [
       "$\\displaystyle \\left[\\begin{matrix}- L_{0} \\sin{\\left(q_{0} \\right)} - L_{1} \\sin{\\left(q_{0} \\right)} \\cos{\\left(q_{1} \\right)} - L_{1} \\sin{\\left(q_{1} \\right)} \\cos{\\left(q_{0} \\right)} & - L_{1} \\sin{\\left(q_{0} \\right)} \\cos{\\left(q_{1} \\right)} - L_{1} \\sin{\\left(q_{1} \\right)} \\cos{\\left(q_{0} \\right)}\\\\0 & 0\\\\L_{0} \\cos{\\left(q_{0} \\right)} - L_{1} \\sin{\\left(q_{0} \\right)} \\sin{\\left(q_{1} \\right)} + L_{1} \\cos{\\left(q_{0} \\right)} \\cos{\\left(q_{1} \\right)} & - L_{1} \\sin{\\left(q_{0} \\right)} \\sin{\\left(q_{1} \\right)} + L_{1} \\cos{\\left(q_{0} \\right)} \\cos{\\left(q_{1} \\right)}\\\\0 & 0\\\\1 & 1\\\\0 & 0\\end{matrix}\\right]$"
      ],
      "text/plain": [
       "Matrix([\n",
       "[-L0*sin(q0) - L1*sin(q0)*cos(q1) - L1*sin(q1)*cos(q0), -L1*sin(q0)*cos(q1) - L1*sin(q1)*cos(q0)],\n",
       "[                                                    0,                                        0],\n",
       "[ L0*cos(q0) - L1*sin(q0)*sin(q1) + L1*cos(q0)*cos(q1), -L1*sin(q0)*sin(q1) + L1*cos(q0)*cos(q1)],\n",
       "[                                                    0,                                        0],\n",
       "[                                                    1,                                        1],\n",
       "[                                                    0,                                        0]])"
      ]
     },
     "execution_count": 2,
     "metadata": {},
     "output_type": "execute_result"
    }
   ],
   "source": [
    "# jacobian of the end effector (angular part)\n",
    "# y-axis rotation only\n",
    "JEE_w = sym.Matrix([[0, 0], \n",
    "                    [1, 1],\n",
    "                    [0, 0]])\n",
    "\n",
    "# full jacobian\n",
    "JEE = JEE_v.row_insert(4, JEE_w)\n",
    "JEE"
   ]
  },
  {
   "cell_type": "code",
   "execution_count": 3,
   "metadata": {},
   "outputs": [
    {
     "name": "stdout",
     "output_type": "stream",
     "text": [
      "Assuming crouch height is 0.3005 m and toe-off height is 0.601 m:\n",
      "For a jump height of  1.189919291380722 m from the ground:\n",
      "Vertical force required is 347.715463311473 N\n",
      "Lift-off time based on stroke of 0.3005 m is 0.15515843729698112 s\n",
      "Required angular vel for actuator 0 is 64.45024952693673 rpm\n",
      "Required angular vel for actuator 1 is 128.90049905387346 rpm\n"
     ]
    }
   ],
   "source": [
    "import numpy as np\n",
    "\n",
    "length0 = 0.3  # leg link 0 length, m\n",
    "length1 = 0.301  # leg link 1 length, m\n",
    "l = length0*np.sin(45*np.pi/180)+length1*np.sin(45*np.pi/180)  # nominal body height\n",
    "k_j = 1.8  # ratio of jump height to body height\n",
    "d = k_j*l  # jump displacement as a fn of body height, m\n",
    "m = 10  # mass, kg\n",
    "\n",
    "g = -9.807  # earth gravity\n",
    "\n",
    "q0_low = -150*np.pi/180  # just guesses. Joint angles at lowest crouch in joint frame\n",
    "q1_low = 120*np.pi/180\n",
    "q0_hi = -90*np.pi/180  # just guesses. Joint angles at toe-off in joint frame\n",
    "q1_hi = 0*np.pi/180\n",
    "l_low = length0*np.sin(-q0_low)+length1*np.sin(-q1_low - q0_low)  # crouch height\n",
    "l_hi = length0*np.sin(-q0_hi)+length1*np.sin(-q1_hi - q0_hi)  # toe-off height\n",
    "s = l_hi - l_low  # assume lift-off stroke to be specified percent of leg length\n",
    "if s < 0:\n",
    "    print(\"ERROR: crouch height greater than toe-off height\")\n",
    "    \n",
    "v0 = np.sqrt(-2*g*d)  # lift-off speed required to jump d meters\n",
    "a = (v0**2)/(2*s)\n",
    "t = v0/a\n",
    "F = m*(a - g)  # required vertical force, N\n",
    "\n",
    "r = int(np.abs(q0_low - q0_hi)*180/np.pi)  # range of motion in degrees for link 0 (link 1 moves 2x as much)\n",
    "omega0 = r/(t*360/60)\n",
    "omega1 = 2*r/(t*360/60)\n",
    "\n",
    "print(\"Assuming crouch height is\", l_low, \"m and toe-off height is\", l_hi, \"m:\")\n",
    "print(\"For a jump height of \", d+l, \"m from the ground:\")\n",
    "print(\"Vertical force required is\", F, \"N\")\n",
    "print(\"Lift-off time based on stroke of\", s, \"m is\", t, \"s\")\n",
    "print(\"Required angular vel for actuator 0 is\", omega0, \"rpm\")\n",
    "print(\"Required angular vel for actuator 1 is\", omega1, \"rpm\")"
   ]
  },
  {
   "cell_type": "code",
   "execution_count": 4,
   "metadata": {},
   "outputs": [
    {
     "data": {
      "text/latex": [
       "$\\displaystyle \\left[\\begin{matrix}- 100 L_{0} \\sin{\\left(q_{0} \\right)} + 347.715463311473 L_{0} \\cos{\\left(q_{0} \\right)} - 347.715463311473 L_{1} \\sin{\\left(q_{0} \\right)} \\sin{\\left(q_{1} \\right)} - 100 L_{1} \\sin{\\left(q_{0} \\right)} \\cos{\\left(q_{1} \\right)} - 100 L_{1} \\sin{\\left(q_{1} \\right)} \\cos{\\left(q_{0} \\right)} + 347.715463311473 L_{1} \\cos{\\left(q_{0} \\right)} \\cos{\\left(q_{1} \\right)}\\\\- 347.715463311473 L_{1} \\sin{\\left(q_{0} \\right)} \\sin{\\left(q_{1} \\right)} - 100 L_{1} \\sin{\\left(q_{0} \\right)} \\cos{\\left(q_{1} \\right)} - 100 L_{1} \\sin{\\left(q_{1} \\right)} \\cos{\\left(q_{0} \\right)} + 347.715463311473 L_{1} \\cos{\\left(q_{0} \\right)} \\cos{\\left(q_{1} \\right)}\\end{matrix}\\right]$"
      ],
      "text/plain": [
       "Matrix([\n",
       "[-100*L0*sin(q0) + 347.715463311473*L0*cos(q0) - 347.715463311473*L1*sin(q0)*sin(q1) - 100*L1*sin(q0)*cos(q1) - 100*L1*sin(q1)*cos(q0) + 347.715463311473*L1*cos(q0)*cos(q1)],\n",
       "[                                               -347.715463311473*L1*sin(q0)*sin(q1) - 100*L1*sin(q0)*cos(q1) - 100*L1*sin(q1)*cos(q0) + 347.715463311473*L1*cos(q0)*cos(q1)]])"
      ]
     },
     "execution_count": 4,
     "metadata": {},
     "output_type": "execute_result"
    }
   ],
   "source": [
    "F_l = sym.Matrix([[100],[0],[F],[0],[0],[0]])  # task space force vector\n",
    "F_q = (JEE.T).multiply(F_l)  # conversion to joint space\n",
    "\n",
    "torque = F_q.subs({q0:q0_low, q1:q1_low, L0:length0, L1:length1})  # torques required for each actuator at given angle\n",
    "F_q"
   ]
  },
  {
   "cell_type": "code",
   "execution_count": 5,
   "metadata": {
    "scrolled": true
   },
   "outputs": [
    {
     "data": {
      "text/plain": [
       "Text(0.5, 1.0, 'q1 torque')"
      ]
     },
     "execution_count": 5,
     "metadata": {},
     "output_type": "execute_result"
    },
    {
     "data": {
      "image/png": "[encoded data removed]",
      "text/plain": [
       "<Figure size 1080x360 with 2 Axes>"
      ]
     },
     "metadata": {
      "needs_background": "light"
     },
     "output_type": "display_data"
    }
   ],
   "source": [
    "# Check required torques over full RoM\n",
    "import matplotlib.pyplot as plt\n",
    "from sympy.utilities.iterables import flatten\n",
    "\n",
    "fig, ax = plt.subplots(1, 2, figsize=(15,5))\n",
    "\n",
    "tau = np.zeros((2, r))\n",
    "i = 0\n",
    "for theta in range(0, r):\n",
    "    q0_i = q0_low + (theta*np.pi/180)\n",
    "    q1_i = q1_low - (theta*2*np.pi/180)\n",
    "    tau[:, i] = flatten(F_q.subs({q0:q0_i, q1:q1_i, L0:length0, L1:length1}))\n",
    "    i += 1\n",
    "\n",
    "ax[0].scatter(range(0, r), tau[0,:])\n",
    "ax[0].set_title('q0 torque')\n",
    "ax[1].scatter(range(0, r), tau[1,:])\n",
    "ax[1].set_title('q1 torque')"
   ]
  },
  {
   "cell_type": "code",
   "execution_count": 6,
   "metadata": {},
   "outputs": [
    {
     "name": "stdout",
     "output_type": "stream",
     "text": [
      "Max torque of q0 is 60.09691495048932 Nm\n",
      "Max torque of q1 is 105.69025777943989 Nm\n"
     ]
    }
   ],
   "source": [
    "print(\"Max torque of q0 is\", np.max(abs(tau[0,:])), \"Nm\")\n",
    "print(\"Max torque of q1 is\", np.max(abs(tau[1,:])), \"Nm\")"
   ]
  },
  {
   "cell_type": "code",
   "execution_count": null,
   "metadata": {},
   "outputs": [],
   "source": []
  }
 ],
 "metadata": {
  "kernelspec": {
   "display_name": "Python 3",
   "language": "python",
   "name": "python3"
  },
  "language_info": {
   "codemirror_mode": {
    "name": "ipython",
    "version": 3
   },
   "file_extension": ".py",
   "mimetype": "text/x-python",
   "name": "python",
   "nbconvert_exporter": "python",
   "pygments_lexer": "ipython3",
   "version": "3.8.5"
  }
 },
 "nbformat": 4,
 "nbformat_minor": 4
}
